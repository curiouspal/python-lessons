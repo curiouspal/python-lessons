{
 "cells": [
  {
   "cell_type": "markdown",
   "metadata": {},
   "source": [
    "# Learning Python"
   ]
  },
  {
   "cell_type": "code",
   "execution_count": 1,
   "metadata": {
    "collapsed": false
   },
   "outputs": [],
   "source": [
    "import numpy as np\n",
    "import pandas as pd\n",
    "import matplotlib\n",
    "import scipy\n",
    "import scipy.stats\n",
    "import json\n",
    "import requests\n",
    "from pprint import pprint\n",
    "from ggplot import *\n",
    "import csv"
   ]
  },
  {
   "cell_type": "markdown",
   "metadata": {},
   "source": [
    "## Strings "
   ]
  },
  {
   "cell_type": "code",
   "execution_count": 2,
   "metadata": {
    "collapsed": false
   },
   "outputs": [
    {
     "data": {
      "text/plain": [
       "'string string string string '"
      ]
     },
     "execution_count": 2,
     "metadata": {},
     "output_type": "execute_result"
    }
   ],
   "source": [
    "\"string \"*4"
   ]
  },
  {
   "cell_type": "code",
   "execution_count": 3,
   "metadata": {
    "collapsed": false
   },
   "outputs": [
    {
     "data": {
      "text/plain": [
       "'n'"
      ]
     },
     "execution_count": 3,
     "metadata": {},
     "output_type": "execute_result"
    }
   ],
   "source": [
    "'String'[4]"
   ]
  },
  {
   "cell_type": "code",
   "execution_count": 4,
   "metadata": {
    "collapsed": false
   },
   "outputs": [
    {
     "data": {
      "text/plain": [
       "7"
      ]
     },
     "execution_count": 4,
     "metadata": {},
     "output_type": "execute_result"
    }
   ],
   "source": [
    "len('strings')"
   ]
  },
  {
   "cell_type": "code",
   "execution_count": 5,
   "metadata": {
    "collapsed": false
   },
   "outputs": [
    {
     "data": {
      "text/plain": [
       "3"
      ]
     },
     "execution_count": 5,
     "metadata": {},
     "output_type": "execute_result"
    }
   ],
   "source": [
    "'Search String'.find('r')"
   ]
  },
  {
   "cell_type": "code",
   "execution_count": 6,
   "metadata": {
    "collapsed": false
   },
   "outputs": [
    {
     "data": {
      "text/plain": [
       "7"
      ]
     },
     "execution_count": 6,
     "metadata": {},
     "output_type": "execute_result"
    }
   ],
   "source": [
    "'Search String'.find('S', 2)"
   ]
  },
  {
   "cell_type": "code",
   "execution_count": 7,
   "metadata": {
    "collapsed": false
   },
   "outputs": [
    {
     "data": {
      "text/plain": [
       "-1"
      ]
     },
     "execution_count": 7,
     "metadata": {},
     "output_type": "execute_result"
    }
   ],
   "source": [
    "'Search String'.find('S', 8)"
   ]
  },
  {
   "cell_type": "code",
   "execution_count": 8,
   "metadata": {
    "collapsed": false
   },
   "outputs": [
    {
     "data": {
      "text/plain": [
       "'tri'"
      ]
     },
     "execution_count": 8,
     "metadata": {},
     "output_type": "execute_result"
    }
   ],
   "source": [
    "'String'[1:4]"
   ]
  },
  {
   "cell_type": "code",
   "execution_count": 9,
   "metadata": {
    "collapsed": false
   },
   "outputs": [
    {
     "data": {
      "text/plain": [
       "['Str', 'ng']"
      ]
     },
     "execution_count": 9,
     "metadata": {},
     "output_type": "execute_result"
    }
   ],
   "source": [
    " 'String'.split('i')"
   ]
  },
  {
   "cell_type": "code",
   "execution_count": 10,
   "metadata": {
    "collapsed": false
   },
   "outputs": [
    {
     "data": {
      "text/plain": [
       "98"
      ]
     },
     "execution_count": 10,
     "metadata": {},
     "output_type": "execute_result"
    }
   ],
   "source": [
    "ord('b')"
   ]
  },
  {
   "cell_type": "code",
   "execution_count": 11,
   "metadata": {
    "collapsed": false
   },
   "outputs": [
    {
     "data": {
      "text/plain": [
       "'b'"
      ]
     },
     "execution_count": 11,
     "metadata": {},
     "output_type": "execute_result"
    }
   ],
   "source": [
    "chr(98)"
   ]
  },
  {
   "cell_type": "code",
   "execution_count": 12,
   "metadata": {
    "collapsed": false
   },
   "outputs": [
    {
     "data": {
      "text/plain": [
       "'45'"
      ]
     },
     "execution_count": 12,
     "metadata": {},
     "output_type": "execute_result"
    }
   ],
   "source": [
    "str(45)"
   ]
  },
  {
   "cell_type": "markdown",
   "metadata": {},
   "source": [
    "## Lists"
   ]
  },
  {
   "cell_type": "markdown",
   "metadata": {},
   "source": [
    "We can create a list by writing range(start, stop, step)"
   ]
  },
  {
   "cell_type": "code",
   "execution_count": 13,
   "metadata": {
    "collapsed": false
   },
   "outputs": [
    {
     "data": {
      "text/plain": [
       "[0, 3, 6, 9]"
      ]
     },
     "execution_count": 13,
     "metadata": {},
     "output_type": "execute_result"
    }
   ],
   "source": [
    "range(0, 10, 3)"
   ]
  },
  {
   "cell_type": "code",
   "execution_count": 14,
   "metadata": {
    "collapsed": false
   },
   "outputs": [
    {
     "data": {
      "text/plain": [
       "[0, -1, -2, -3, -4, -5, -6, -7, -8, -9]"
      ]
     },
     "execution_count": 14,
     "metadata": {},
     "output_type": "execute_result"
    }
   ],
   "source": [
    "range(0, -10, -1)"
   ]
  },
  {
   "cell_type": "code",
   "execution_count": 15,
   "metadata": {
    "collapsed": false
   },
   "outputs": [
    {
     "data": {
      "text/plain": [
       "[]"
      ]
     },
     "execution_count": 15,
     "metadata": {},
     "output_type": "execute_result"
    }
   ],
   "source": [
    "range(1, 0)"
   ]
  },
  {
   "cell_type": "code",
   "execution_count": 16,
   "metadata": {
    "collapsed": false
   },
   "outputs": [
    {
     "data": {
      "text/plain": [
       "[0, 1, 2, 3, 4, 5, 6, 7, 8, 9]"
      ]
     },
     "execution_count": 16,
     "metadata": {},
     "output_type": "execute_result"
    }
   ],
   "source": [
    "range(10)"
   ]
  },
  {
   "cell_type": "code",
   "execution_count": 17,
   "metadata": {
    "collapsed": false
   },
   "outputs": [
    {
     "data": {
      "text/plain": [
       "[1, 2, 3, 4, 5, 6, 7, 8, 9, 10]"
      ]
     },
     "execution_count": 17,
     "metadata": {},
     "output_type": "execute_result"
    }
   ],
   "source": [
    "range(1, 11)"
   ]
  },
  {
   "cell_type": "code",
   "execution_count": 18,
   "metadata": {
    "collapsed": false
   },
   "outputs": [
    {
     "data": {
      "text/plain": [
       "[0, 1, 2, 3, 4, 5, 6, 7, 8, 9]"
      ]
     },
     "execution_count": 18,
     "metadata": {},
     "output_type": "execute_result"
    }
   ],
   "source": [
    "range(10)"
   ]
  },
  {
   "cell_type": "markdown",
   "metadata": {},
   "source": [
    "You can modify a list."
   ]
  },
  {
   "cell_type": "code",
   "execution_count": 19,
   "metadata": {
    "collapsed": false
   },
   "outputs": [
    {
     "data": {
      "text/plain": [
       "[1, 2, 33, 4, 5, 6]"
      ]
     },
     "execution_count": 19,
     "metadata": {},
     "output_type": "execute_result"
    }
   ],
   "source": [
    "list = [1, 2, 3, 4, 5, 6]\n",
    "list[2] = 33\n",
    "list"
   ]
  },
  {
   "cell_type": "code",
   "execution_count": 20,
   "metadata": {
    "collapsed": false
   },
   "outputs": [
    {
     "data": {
      "text/plain": [
       "[3, 4, 5, 6]"
      ]
     },
     "execution_count": 20,
     "metadata": {},
     "output_type": "execute_result"
    }
   ],
   "source": [
    "list = [1, 2, 3, 4, 5, 6]\n",
    "list1 = list[2:6] \n",
    "list1"
   ]
  },
  {
   "cell_type": "code",
   "execution_count": 21,
   "metadata": {
    "collapsed": false
   },
   "outputs": [
    {
     "data": {
      "text/plain": [
       "[1, 2, 3, 4, 5, 6, 'element']"
      ]
     },
     "execution_count": 21,
     "metadata": {},
     "output_type": "execute_result"
    }
   ],
   "source": [
    "list = [1, 2, 3, 4, 5, 6]\n",
    "list.append('element')\n",
    "list"
   ]
  },
  {
   "cell_type": "code",
   "execution_count": 22,
   "metadata": {
    "collapsed": false
   },
   "outputs": [
    {
     "data": {
      "text/plain": [
       "[1, 2, 3, 4, 5]"
      ]
     },
     "execution_count": 22,
     "metadata": {},
     "output_type": "execute_result"
    }
   ],
   "source": [
    "list1 = [1, 2, 3]\n",
    "list2 = [4, 5]\n",
    "list1+list2"
   ]
  },
  {
   "cell_type": "code",
   "execution_count": 23,
   "metadata": {
    "collapsed": false
   },
   "outputs": [
    {
     "data": {
      "text/plain": [
       "'x'"
      ]
     },
     "execution_count": 23,
     "metadata": {},
     "output_type": "execute_result"
    }
   ],
   "source": [
    "list = [1, 2, 3, 4, 'x', 'a']\n",
    "list.pop(4)"
   ]
  },
  {
   "cell_type": "code",
   "execution_count": 24,
   "metadata": {
    "collapsed": false
   },
   "outputs": [
    {
     "data": {
      "text/plain": [
       "'a'"
      ]
     },
     "execution_count": 24,
     "metadata": {},
     "output_type": "execute_result"
    }
   ],
   "source": [
    "list = [1, 2, 3, 4, 'x', 'a']\n",
    "list.pop()"
   ]
  },
  {
   "cell_type": "code",
   "execution_count": 25,
   "metadata": {
    "collapsed": false
   },
   "outputs": [
    {
     "ename": "IndexError",
     "evalue": "pop from empty list",
     "output_type": "error",
     "traceback": [
      "\u001b[1;31m---------------------------------------------------------------------------\u001b[0m",
      "\u001b[1;31mIndexError\u001b[0m                                Traceback (most recent call last)",
      "\u001b[1;32m<ipython-input-25-818409a8e42d>\u001b[0m in \u001b[0;36m<module>\u001b[1;34m()\u001b[0m\n\u001b[1;32m----> 1\u001b[1;33m \u001b[1;33m[\u001b[0m\u001b[1;33m]\u001b[0m\u001b[1;33m.\u001b[0m\u001b[0mpop\u001b[0m\u001b[1;33m(\u001b[0m\u001b[1;33m)\u001b[0m\u001b[1;33m\u001b[0m\u001b[0m\n\u001b[0m",
      "\u001b[1;31mIndexError\u001b[0m: pop from empty list"
     ]
    }
   ],
   "source": [
    "[].pop()"
   ]
  },
  {
   "cell_type": "code",
   "execution_count": 26,
   "metadata": {
    "collapsed": false
   },
   "outputs": [
    {
     "data": {
      "text/plain": [
       "4"
      ]
     },
     "execution_count": 26,
     "metadata": {},
     "output_type": "execute_result"
    }
   ],
   "source": [
    "list = [1, 2, 3, 4, 'x', 'a']\n",
    "list.index('x')"
   ]
  },
  {
   "cell_type": "code",
   "execution_count": 27,
   "metadata": {
    "collapsed": false
   },
   "outputs": [
    {
     "data": {
      "text/plain": [
       "(False, True)"
      ]
     },
     "execution_count": 27,
     "metadata": {},
     "output_type": "execute_result"
    }
   ],
   "source": [
    "list1 = [1, 2, 3, 4, 'x', 'a']\n",
    "'a' not in list1, 10 not in list1"
   ]
  },
  {
   "cell_type": "markdown",
   "metadata": {},
   "source": [
    "## Dictionaries"
   ]
  },
  {
   "cell_type": "markdown",
   "metadata": {
    "collapsed": true
   },
   "source": [
    "A Dictionary provides a mapping between keys, which can be values of any immutable type, and values, which can be any value. Because a Dictionary is implemented using a hash table, the time to lookup a value does not increase (significantly) even when the number of keys increases.\n",
    "\n",
    "Constructing a Dictionary. A Dictionary is a set of zero or more key-value pairs, surrounded by squiggly braces:"
   ]
  },
  {
   "cell_type": "code",
   "execution_count": 28,
   "metadata": {
    "collapsed": false
   },
   "outputs": [
    {
     "data": {
      "text/plain": [
       "'pear'"
      ]
     },
     "execution_count": 28,
     "metadata": {},
     "output_type": "execute_result"
    }
   ],
   "source": [
    "x = { 'key1': 'apple', 'key2': 'banana', 'key3': 'pear'}\n",
    "x['key3']"
   ]
  },
  {
   "cell_type": "code",
   "execution_count": 29,
   "metadata": {
    "collapsed": false
   },
   "outputs": [
    {
     "data": {
      "text/plain": [
       "(False, True)"
      ]
     },
     "execution_count": 29,
     "metadata": {},
     "output_type": "execute_result"
    }
   ],
   "source": [
    "x = { 'key1': 'apple', 'key2': 'banana', 'key3': 'pear'}\n",
    "'key4' in x, 'key2' in x"
   ]
  },
  {
   "cell_type": "code",
   "execution_count": 30,
   "metadata": {
    "collapsed": false
   },
   "outputs": [
    {
     "data": {
      "text/plain": [
       "0.941415"
      ]
     },
     "execution_count": 30,
     "metadata": {},
     "output_type": "execute_result"
    }
   ],
   "source": [
    "import time\n",
    "time.clock()"
   ]
  },
  {
   "cell_type": "code",
   "execution_count": 31,
   "metadata": {
    "collapsed": false
   },
   "outputs": [
    {
     "name": "stdout",
     "output_type": "stream",
     "text": [
      "Object `except` not found.\n"
     ]
    }
   ],
   "source": [
    "?except"
   ]
  },
  {
   "cell_type": "markdown",
   "metadata": {},
   "source": [
    "## Pandas dataframe"
   ]
  },
  {
   "cell_type": "markdown",
   "metadata": {},
   "source": [
    "It extends the Python's basic data structures and allows better memory management for data analysis. Its more useful than R data.frame data structure. Also Series().  Check this link to understand Pandas datastructures better:\n",
    "http://pandas.pydata.org/pandas-docs/stable/dsintro.html"
   ]
  },
  {
   "cell_type": "code",
   "execution_count": 32,
   "metadata": {
    "collapsed": false
   },
   "outputs": [
    {
     "data": {
      "text/html": [
       "<div>\n",
       "<table border=\"1\" class=\"dataframe\">\n",
       "  <thead>\n",
       "    <tr style=\"text-align: right;\">\n",
       "      <th></th>\n",
       "      <th>Unnamed: 0</th>\n",
       "      <th>UNIT</th>\n",
       "      <th>DATEn</th>\n",
       "      <th>TIMEn</th>\n",
       "      <th>Hour</th>\n",
       "      <th>DESCn</th>\n",
       "      <th>ENTRIESn_hourly</th>\n",
       "      <th>EXITSn_hourly</th>\n",
       "      <th>maxpressurei</th>\n",
       "      <th>maxdewpti</th>\n",
       "      <th>...</th>\n",
       "      <th>meandewpti</th>\n",
       "      <th>meanpressurei</th>\n",
       "      <th>fog</th>\n",
       "      <th>rain</th>\n",
       "      <th>meanwindspdi</th>\n",
       "      <th>mintempi</th>\n",
       "      <th>meantempi</th>\n",
       "      <th>maxtempi</th>\n",
       "      <th>precipi</th>\n",
       "      <th>thunder</th>\n",
       "    </tr>\n",
       "  </thead>\n",
       "  <tbody>\n",
       "    <tr>\n",
       "      <th>0</th>\n",
       "      <td>0</td>\n",
       "      <td>R001</td>\n",
       "      <td>2011-05-01</td>\n",
       "      <td>01:00:00</td>\n",
       "      <td>1</td>\n",
       "      <td>REGULAR</td>\n",
       "      <td>0</td>\n",
       "      <td>0</td>\n",
       "      <td>30.31</td>\n",
       "      <td>42</td>\n",
       "      <td>...</td>\n",
       "      <td>39</td>\n",
       "      <td>30.27</td>\n",
       "      <td>0</td>\n",
       "      <td>0</td>\n",
       "      <td>5</td>\n",
       "      <td>50</td>\n",
       "      <td>60</td>\n",
       "      <td>69</td>\n",
       "      <td>0</td>\n",
       "      <td>0</td>\n",
       "    </tr>\n",
       "    <tr>\n",
       "      <th>1</th>\n",
       "      <td>1</td>\n",
       "      <td>R001</td>\n",
       "      <td>2011-05-01</td>\n",
       "      <td>05:00:00</td>\n",
       "      <td>5</td>\n",
       "      <td>REGULAR</td>\n",
       "      <td>217</td>\n",
       "      <td>553</td>\n",
       "      <td>30.31</td>\n",
       "      <td>42</td>\n",
       "      <td>...</td>\n",
       "      <td>39</td>\n",
       "      <td>30.27</td>\n",
       "      <td>0</td>\n",
       "      <td>0</td>\n",
       "      <td>5</td>\n",
       "      <td>50</td>\n",
       "      <td>60</td>\n",
       "      <td>69</td>\n",
       "      <td>0</td>\n",
       "      <td>0</td>\n",
       "    </tr>\n",
       "  </tbody>\n",
       "</table>\n",
       "<p>2 rows × 22 columns</p>\n",
       "</div>"
      ],
      "text/plain": [
       "   Unnamed: 0  UNIT       DATEn     TIMEn  Hour    DESCn  ENTRIESn_hourly  \\\n",
       "0           0  R001  2011-05-01  01:00:00     1  REGULAR                0   \n",
       "1           1  R001  2011-05-01  05:00:00     5  REGULAR              217   \n",
       "\n",
       "   EXITSn_hourly  maxpressurei  maxdewpti   ...     meandewpti  meanpressurei  \\\n",
       "0              0         30.31         42   ...             39          30.27   \n",
       "1            553         30.31         42   ...             39          30.27   \n",
       "\n",
       "   fog  rain  meanwindspdi  mintempi  meantempi  maxtempi  precipi  thunder  \n",
       "0    0     0             5        50         60        69        0        0  \n",
       "1    0     0             5        50         60        69        0        0  \n",
       "\n",
       "[2 rows x 22 columns]"
      ]
     },
     "execution_count": 32,
     "metadata": {},
     "output_type": "execute_result"
    }
   ],
   "source": [
    "import pandas as pd\n",
    "records = pd.read_csv('turnstile_data_master_with_weather.csv')\n",
    "frame = pd.DataFrame(records)\n",
    "frame[:2]"
   ]
  },
  {
   "cell_type": "code",
   "execution_count": 33,
   "metadata": {
    "collapsed": false
   },
   "outputs": [
    {
     "data": {
      "text/html": [
       "<div>\n",
       "<table border=\"1\" class=\"dataframe\">\n",
       "  <thead>\n",
       "    <tr style=\"text-align: right;\">\n",
       "      <th></th>\n",
       "      <th>Hour</th>\n",
       "      <th>UNIT</th>\n",
       "    </tr>\n",
       "  </thead>\n",
       "  <tbody>\n",
       "    <tr>\n",
       "      <th>0</th>\n",
       "      <td>1</td>\n",
       "      <td>R001</td>\n",
       "    </tr>\n",
       "    <tr>\n",
       "      <th>1</th>\n",
       "      <td>5</td>\n",
       "      <td>R001</td>\n",
       "    </tr>\n",
       "  </tbody>\n",
       "</table>\n",
       "</div>"
      ],
      "text/plain": [
       "   Hour  UNIT\n",
       "0     1  R001\n",
       "1     5  R001"
      ]
     },
     "execution_count": 33,
     "metadata": {},
     "output_type": "execute_result"
    }
   ],
   "source": [
    "frame[['Hour', 'UNIT']][:2]"
   ]
  },
  {
   "cell_type": "code",
   "execution_count": 34,
   "metadata": {
    "collapsed": false
   },
   "outputs": [
    {
     "data": {
      "text/plain": [
       "0    506.663932\n",
       "1    744.608606\n",
       "Name: Hour, dtype: float64"
      ]
     },
     "execution_count": 34,
     "metadata": {},
     "output_type": "execute_result"
    }
   ],
   "source": [
    "import statsmodels.api as sm\n",
    "X = frame[['Hour']]\n",
    "X = sm.add_constant(X)\n",
    "X    \n",
    "model = sm.OLS(frame['ENTRIESn_hourly'], X)\n",
    "results = model.fit()\n",
    "b0, b1 = results.params[0], results.params[1] \n",
    "b0, b1\n",
    "prediction = b0 + frame['Hour']*b1 \n",
    "prediction[:2]"
   ]
  },
  {
   "cell_type": "code",
   "execution_count": 35,
   "metadata": {
    "collapsed": false
   },
   "outputs": [
    {
     "name": "stdout",
     "output_type": "stream",
     "text": [
      "('maximum per hour =', 51839.0)\n",
      "('minimum per hour =', 0.0)\n",
      "('average per hour =', 1095.3484778440481)\n",
      "('median per hour =', 279.0)\n"
     ]
    }
   ],
   "source": [
    "print('maximum per hour =', frame['ENTRIESn_hourly'].max())\n",
    "print('minimum per hour =', frame['ENTRIESn_hourly'].min())\n",
    "print('average per hour =', frame['ENTRIESn_hourly'].mean())\n",
    "print('median per hour =', frame['ENTRIESn_hourly'].median())"
   ]
  },
  {
   "cell_type": "markdown",
   "metadata": {},
   "source": [
    "Below I will try to subset a pandas dataframe in many ways."
   ]
  },
  {
   "cell_type": "code",
   "execution_count": 36,
   "metadata": {
    "collapsed": false
   },
   "outputs": [
    {
     "data": {
      "text/plain": [
       "5     3372\n",
       "6        0\n",
       "7       42\n",
       "8       50\n",
       "9      316\n",
       "10     633\n",
       "11     639\n",
       "12       0\n",
       "13       0\n",
       "14       0\n",
       "15       0\n",
       "16       0\n",
       "17       0\n",
       "18       0\n",
       "19       0\n",
       "Name: ENTRIESn_hourly, dtype: float64"
      ]
     },
     "execution_count": 36,
     "metadata": {},
     "output_type": "execute_result"
    }
   ],
   "source": [
    "frame['ENTRIESn_hourly'][5:20] # To select one column in a dataframe with the range of index numbers."
   ]
  },
  {
   "cell_type": "code",
   "execution_count": 37,
   "metadata": {
    "collapsed": false
   },
   "outputs": [
    {
     "name": "stdout",
     "output_type": "stream",
     "text": [
      "R549    12198\n",
      "R550     6881\n",
      "R541     5922\n",
      "R540     4420\n",
      "R543     4146\n",
      "dtype: int64\n"
     ]
    },
    {
     "data": {
      "text/plain": [
       "4579.4"
      ]
     },
     "execution_count": 37,
     "metadata": {},
     "output_type": "execute_result"
    }
   ],
   "source": [
    "UNIT_counts = frame['UNIT'].value_counts()\n",
    "print(UNIT_counts[0:5])  # Note that they are listed in a descending order of count by default. \n",
    "                         # But the output is not a data frame itself.\n",
    "UNIT_counts[0:10].mean()\n"
   ]
  },
  {
   "cell_type": "code",
   "execution_count": 38,
   "metadata": {
    "collapsed": true
   },
   "outputs": [],
   "source": [
    "clean_frame = frame['UNIT'].fillna('Missing') ## This is to assign a value to those cells in \"unit\" column that are missing.\n",
    "clean_frame[clean_frame == ''] = 'Unknown'  ## To assign a value to those cells that have a value ''."
   ]
  },
  {
   "cell_type": "markdown",
   "metadata": {},
   "source": [
    "Now we are going to plot a graph."
   ]
  },
  {
   "cell_type": "code",
   "execution_count": 39,
   "metadata": {
    "collapsed": false
   },
   "outputs": [
    {
     "data": {
      "text/plain": [
       "<matplotlib.axes._subplots.AxesSubplot at 0x7f52d4737bd0>"
      ]
     },
     "execution_count": 39,
     "metadata": {},
     "output_type": "execute_result"
    },
    {
     "data": {
      "image/png": "[encoded data removed]",
      "text/plain": [
       "<matplotlib.figure.Figure at 0x7f52d47375d0>"
      ]
     },
     "metadata": {},
     "output_type": "display_data"
    }
   ],
   "source": [
    "%matplotlib inline  \n",
    "## Without this line of code, the plot will not show up.\n",
    "import matplotlib.pyplot as plt\n",
    "UNIT_counts[:20].plot(kind='barh', rot=0)"
   ]
  },
  {
   "cell_type": "code",
   "execution_count": 40,
   "metadata": {
    "collapsed": false
   },
   "outputs": [
    {
     "data": {
      "text/plain": [
       "0    01\n",
       "1    01\n",
       "2    01\n",
       "3    01\n",
       "4    01\n",
       "5    01\n",
       "dtype: object"
      ]
     },
     "execution_count": 40,
     "metadata": {},
     "output_type": "execute_result"
    }
   ],
   "source": [
    "results = pd.Series([x.split('-')[2] for x in frame.DATEn.dropna()])\n",
    "results[:6]"
   ]
  },
  {
   "cell_type": "code",
   "execution_count": 41,
   "metadata": {
    "collapsed": false
   },
   "outputs": [
    {
     "data": {
      "text/plain": [
       "0    01\n",
       "1    01\n",
       "2    01\n",
       "3    01\n",
       "4    01\n",
       "5    01\n",
       "dtype: object"
      ]
     },
     "execution_count": 41,
     "metadata": {},
     "output_type": "execute_result"
    }
   ],
   "source": [
    "results = pd.Series([x.split('-')[2] for x in frame.DATEn.dropna()])\n",
    "results[:6]"
   ]
  },
  {
   "cell_type": "code",
   "execution_count": 42,
   "metadata": {
    "collapsed": false
   },
   "outputs": [
    {
     "data": {
      "text/plain": [
       "0    2011-05-01\n",
       "1    2011-05-01\n",
       "2    2011-05-01\n",
       "3    2011-05-01\n",
       "4    2011-05-01\n",
       "5    2011-05-01\n",
       "6    2011-05-01\n",
       "7    2011-05-01\n",
       "8    2011-05-01\n",
       "9    2011-05-01\n",
       "Name: DATEn, dtype: object"
      ]
     },
     "execution_count": 42,
     "metadata": {},
     "output_type": "execute_result"
    }
   ],
   "source": [
    "frame.DATEn.dropna()[:10]"
   ]
  },
  {
   "cell_type": "code",
   "execution_count": 43,
   "metadata": {
    "collapsed": false
   },
   "outputs": [
    {
     "data": {
      "text/plain": [
       "('2011-05-30', '2011-05-01')"
      ]
     },
     "execution_count": 43,
     "metadata": {},
     "output_type": "execute_result"
    }
   ],
   "source": [
    "frame.DATEn.max(), frame.DATEn.min() ## dataframe-dot-variablename is almost like a Series."
   ]
  },
  {
   "cell_type": "code",
   "execution_count": 44,
   "metadata": {
    "collapsed": false
   },
   "outputs": [
    {
     "data": {
      "text/plain": [
       "(131951, 131951, 131951)"
      ]
     },
     "execution_count": 44,
     "metadata": {},
     "output_type": "execute_result"
    }
   ],
   "source": [
    "len(frame[frame.DATEn.notnull()]), len(frame), len(frame.DATEn.dropna()) "
   ]
  },
  {
   "cell_type": "code",
   "execution_count": 45,
   "metadata": {
    "collapsed": false
   },
   "outputs": [
    {
     "data": {
      "text/plain": [
       "array(['Not May', 'Not May', 'Not May', ..., 'Not May', 'Not May',\n",
       "       'Not May'], \n",
       "      dtype='|S7')"
      ]
     },
     "execution_count": 45,
     "metadata": {},
     "output_type": "execute_result"
    }
   ],
   "source": [
    "x = np.where(frame['DATEn'].str.contains('11-05-15'), 'May', 'Not May')\n",
    "x"
   ]
  },
  {
   "cell_type": "code",
   "execution_count": 46,
   "metadata": {
    "collapsed": false
   },
   "outputs": [
    {
     "data": {
      "text/plain": [
       "Unnamed: 0                  0\n",
       "UNIT                     R001\n",
       "DATEn              2011-05-01\n",
       "TIMEn                01:00:00\n",
       "Hour                        1\n",
       "DESCn                 REGULAR\n",
       "ENTRIESn_hourly             0\n",
       "EXITSn_hourly               0\n",
       "maxpressurei            30.31\n",
       "maxdewpti                  42\n",
       "mindewpti                  35\n",
       "minpressurei            30.23\n",
       "meandewpti                 39\n",
       "meanpressurei           30.27\n",
       "fog                         0\n",
       "rain                        0\n",
       "meanwindspdi                5\n",
       "mintempi                   50\n",
       "meantempi                  60\n",
       "maxtempi                   69\n",
       "precipi                     0\n",
       "thunder                     0\n",
       "Name: 0, dtype: object"
      ]
     },
     "execution_count": 46,
     "metadata": {},
     "output_type": "execute_result"
    }
   ],
   "source": [
    "frame.ix[0] ## This shows one of the entries (the first entry in this example) of the data frame."
   ]
  },
  {
   "cell_type": "code",
   "execution_count": 47,
   "metadata": {
    "collapsed": false
   },
   "outputs": [
    {
     "data": {
      "text/html": [
       "<div>\n",
       "<table border=\"1\" class=\"dataframe\">\n",
       "  <thead>\n",
       "    <tr style=\"text-align: right;\">\n",
       "      <th>rain</th>\n",
       "      <th>0.0</th>\n",
       "      <th>1.0</th>\n",
       "    </tr>\n",
       "    <tr>\n",
       "      <th>UNIT</th>\n",
       "      <th></th>\n",
       "      <th></th>\n",
       "    </tr>\n",
       "  </thead>\n",
       "  <tbody>\n",
       "    <tr>\n",
       "      <th>R001</th>\n",
       "      <td>64.927419</td>\n",
       "      <td>62.661290</td>\n",
       "    </tr>\n",
       "    <tr>\n",
       "      <th>R002</th>\n",
       "      <td>64.933884</td>\n",
       "      <td>62.758065</td>\n",
       "    </tr>\n",
       "    <tr>\n",
       "      <th>R003</th>\n",
       "      <td>64.522124</td>\n",
       "      <td>62.661017</td>\n",
       "    </tr>\n",
       "    <tr>\n",
       "      <th>R004</th>\n",
       "      <td>65.008772</td>\n",
       "      <td>62.645161</td>\n",
       "    </tr>\n",
       "    <tr>\n",
       "      <th>R005</th>\n",
       "      <td>65.191667</td>\n",
       "      <td>62.636364</td>\n",
       "    </tr>\n",
       "  </tbody>\n",
       "</table>\n",
       "</div>"
      ],
      "text/plain": [
       "rain          0          1\n",
       "UNIT                      \n",
       "R001  64.927419  62.661290\n",
       "R002  64.933884  62.758065\n",
       "R003  64.522124  62.661017\n",
       "R004  65.008772  62.645161\n",
       "R005  65.191667  62.636364"
      ]
     },
     "execution_count": 47,
     "metadata": {},
     "output_type": "execute_result"
    }
   ],
   "source": [
    "m = frame.pivot_table('meantempi', 'UNIT', 'rain', aggfunc = 'mean')\n",
    "m[:5]"
   ]
  },
  {
   "cell_type": "code",
   "execution_count": 48,
   "metadata": {
    "collapsed": false
   },
   "outputs": [
    {
     "data": {
      "text/plain": [
       "UNIT\n",
       "R001    186\n",
       "R002    183\n",
       "R003    172\n",
       "R004    176\n",
       "R005    175\n",
       "dtype: int64"
      ]
     },
     "execution_count": 48,
     "metadata": {},
     "output_type": "execute_result"
    }
   ],
   "source": [
    "newtable = frame.groupby('UNIT').size() ## Here .size() counts the number of times a certain UNIT appeared in the dataframe.\n",
    "## This can be used to find frequencies of each UNIT. The output is a Series and is not a data frame.\n",
    "newtable[:5]"
   ]
  },
  {
   "cell_type": "code",
   "execution_count": 49,
   "metadata": {
    "collapsed": false
   },
   "outputs": [
    {
     "data": {
      "text/html": [
       "<div>\n",
       "<table border=\"1\" class=\"dataframe\">\n",
       "  <thead>\n",
       "    <tr style=\"text-align: right;\">\n",
       "      <th></th>\n",
       "      <th>May</th>\n",
       "      <th>Not May</th>\n",
       "    </tr>\n",
       "    <tr>\n",
       "      <th>ENTRIESn_hourly</th>\n",
       "      <th></th>\n",
       "      <th></th>\n",
       "    </tr>\n",
       "  </thead>\n",
       "  <tbody>\n",
       "    <tr>\n",
       "      <th>0</th>\n",
       "      <td>531</td>\n",
       "      <td>12810</td>\n",
       "    </tr>\n",
       "    <tr>\n",
       "      <th>1</th>\n",
       "      <td>75</td>\n",
       "      <td>1692</td>\n",
       "    </tr>\n",
       "    <tr>\n",
       "      <th>2</th>\n",
       "      <td>57</td>\n",
       "      <td>1198</td>\n",
       "    </tr>\n",
       "    <tr>\n",
       "      <th>3</th>\n",
       "      <td>42</td>\n",
       "      <td>978</td>\n",
       "    </tr>\n",
       "    <tr>\n",
       "      <th>4</th>\n",
       "      <td>35</td>\n",
       "      <td>863</td>\n",
       "    </tr>\n",
       "    <tr>\n",
       "      <th>5</th>\n",
       "      <td>26</td>\n",
       "      <td>787</td>\n",
       "    </tr>\n",
       "    <tr>\n",
       "      <th>6</th>\n",
       "      <td>27</td>\n",
       "      <td>721</td>\n",
       "    </tr>\n",
       "    <tr>\n",
       "      <th>7</th>\n",
       "      <td>36</td>\n",
       "      <td>664</td>\n",
       "    </tr>\n",
       "    <tr>\n",
       "      <th>8</th>\n",
       "      <td>29</td>\n",
       "      <td>636</td>\n",
       "    </tr>\n",
       "    <tr>\n",
       "      <th>9</th>\n",
       "      <td>21</td>\n",
       "      <td>571</td>\n",
       "    </tr>\n",
       "    <tr>\n",
       "      <th>10</th>\n",
       "      <td>18</td>\n",
       "      <td>567</td>\n",
       "    </tr>\n",
       "  </tbody>\n",
       "</table>\n",
       "</div>"
      ],
      "text/plain": [
       "                 May  Not May\n",
       "ENTRIESn_hourly              \n",
       "0                531    12810\n",
       "1                 75     1692\n",
       "2                 57     1198\n",
       "3                 42      978\n",
       "4                 35      863\n",
       "5                 26      787\n",
       "6                 27      721\n",
       "7                 36      664\n",
       "8                 29      636\n",
       "9                 21      571\n",
       "10                18      567"
      ]
     },
     "execution_count": 49,
     "metadata": {},
     "output_type": "execute_result"
    }
   ],
   "source": [
    "y = frame.groupby(['ENTRIESn_hourly', x])\n",
    "y\n",
    "agg_counts = y.size().unstack().fillna(0)\n",
    "agg_counts[:10]"
   ]
  },
  {
   "cell_type": "code",
   "execution_count": 50,
   "metadata": {
    "collapsed": false
   },
   "outputs": [],
   "source": [
    "busyunits = frame.index[newtable>= 173]\n",
    "mean_ratings = m.ix[busyunits]"
   ]
  },
  {
   "cell_type": "markdown",
   "metadata": {},
   "source": [
    "## Merging pandas data frames."
   ]
  },
  {
   "cell_type": "markdown",
   "metadata": {},
   "source": [
    "You can merge two files using the pandas function \"merge\". E.g. data = pd.merge(pd.merge(ratings, users), movies) .\n",
    "Here we are merging three data frames - ratings, users, and movies. Pandas will figure out how to merge them but the resulting data frame \"data\" will contain all the variables that each of the tables separately had. "
   ]
  },
  {
   "cell_type": "markdown",
   "metadata": {},
   "source": [
    "## CSV Reader/Writer Tutorial"
   ]
  },
  {
   "cell_type": "code",
   "execution_count": 51,
   "metadata": {
    "collapsed": false
   },
   "outputs": [
    {
     "ename": "IOError",
     "evalue": "[Errno 2] No such file or directory: 'in_data.csv'",
     "output_type": "error",
     "traceback": [
      "\u001b[1;31m---------------------------------------------------------------------------\u001b[0m",
      "\u001b[1;31mIOError\u001b[0m                                   Traceback (most recent call last)",
      "\u001b[1;32m<ipython-input-51-1ab8083b00a2>\u001b[0m in \u001b[0;36m<module>\u001b[1;34m()\u001b[0m\n\u001b[0;32m      1\u001b[0m \u001b[1;32mimport\u001b[0m \u001b[0mcsv\u001b[0m\u001b[1;33m\u001b[0m\u001b[0m\n\u001b[0;32m      2\u001b[0m \u001b[1;31m# Create file input object f_in to work with in_data.csv file.\u001b[0m\u001b[1;33m\u001b[0m\u001b[1;33m\u001b[0m\u001b[0m\n\u001b[1;32m----> 3\u001b[1;33m \u001b[0mf_in\u001b[0m \u001b[1;33m=\u001b[0m \u001b[0mopen\u001b[0m\u001b[1;33m(\u001b[0m\u001b[1;34m'in_data.csv'\u001b[0m\u001b[1;33m,\u001b[0m \u001b[1;34m'r'\u001b[0m\u001b[1;33m)\u001b[0m\u001b[1;33m\u001b[0m\u001b[0m\n\u001b[0m\u001b[0;32m      4\u001b[0m \u001b[1;31m# Create file output object f_out to write to the new 'out_data.csv'\u001b[0m\u001b[1;33m\u001b[0m\u001b[1;33m\u001b[0m\u001b[0m\n\u001b[0;32m      5\u001b[0m \u001b[0mf_out\u001b[0m \u001b[1;33m=\u001b[0m \u001b[0mopen\u001b[0m\u001b[1;33m(\u001b[0m\u001b[1;34m'out_data.csv'\u001b[0m\u001b[1;33m,\u001b[0m \u001b[1;34m'w'\u001b[0m\u001b[1;33m)\u001b[0m\u001b[1;33m\u001b[0m\u001b[0m\n",
      "\u001b[1;31mIOError\u001b[0m: [Errno 2] No such file or directory: 'in_data.csv'"
     ]
    }
   ],
   "source": [
    "import csv\n",
    "# Create file input object f_in to work with in_data.csv file.\n",
    "f_in = open('in_data.csv', 'r')\n",
    "# Create file output object f_out to write to the new 'out_data.csv'\n",
    "f_out = open('out_data.csv', 'w')\n",
    "\n",
    "#Create csv readers and writers based on our file objects\n",
    "reader_in = csv.reader(f_in, delimiter=',')\n",
    "writer_out = csv.writer(f_out, delimiter=',')\n",
    "\n",
    "# Skip the first line because it contains headers\n",
    "reader_in.next()\n",
    "\n",
    "for line in reader_in:\n",
    "    type_chocolate = line[0]\n",
    "    # For each line, the format will be:\n",
    "    # type_choco, batch_id, cocoa, milk, sugar\n",
    "    line_1=[type_chocolate, line[1], line[2], line[3], line[4]]\n",
    "    line_2=[type_chocolate, line[5], line[6], line[7], line[8]]\n",
    "    writer_out.writerow(line_1)\n",
    "    writer_out.writerow(line_2)\n",
    "    \n",
    "f_in.close()\n",
    "f_out.close()"
   ]
  },
  {
   "cell_type": "markdown",
   "metadata": {},
   "source": [
    "## Reading data"
   ]
  },
  {
   "cell_type": "markdown",
   "metadata": {},
   "source": [
    "You can open a remote file from a url in python by the following method:\n"
   ]
  },
  {
   "cell_type": "code",
   "execution_count": 52,
   "metadata": {
    "collapsed": false
   },
   "outputs": [
    {
     "data": {
      "text/html": [
       "<div>\n",
       "<table border=\"1\" class=\"dataframe\">\n",
       "  <thead>\n",
       "    <tr style=\"text-align: right;\">\n",
       "      <th></th>\n",
       "      <th>id</th>\n",
       "      <th>female</th>\n",
       "      <th>race</th>\n",
       "      <th>ses</th>\n",
       "      <th>schtyp</th>\n",
       "      <th>prog</th>\n",
       "      <th>read</th>\n",
       "      <th>write</th>\n",
       "      <th>math</th>\n",
       "      <th>science</th>\n",
       "      <th>socst</th>\n",
       "    </tr>\n",
       "  </thead>\n",
       "  <tbody>\n",
       "    <tr>\n",
       "      <th>0</th>\n",
       "      <td>70</td>\n",
       "      <td>0</td>\n",
       "      <td>4</td>\n",
       "      <td>1</td>\n",
       "      <td>1</td>\n",
       "      <td>1</td>\n",
       "      <td>57</td>\n",
       "      <td>52</td>\n",
       "      <td>41</td>\n",
       "      <td>47</td>\n",
       "      <td>57</td>\n",
       "    </tr>\n",
       "    <tr>\n",
       "      <th>1</th>\n",
       "      <td>121</td>\n",
       "      <td>1</td>\n",
       "      <td>4</td>\n",
       "      <td>2</td>\n",
       "      <td>1</td>\n",
       "      <td>3</td>\n",
       "      <td>68</td>\n",
       "      <td>59</td>\n",
       "      <td>53</td>\n",
       "      <td>63</td>\n",
       "      <td>61</td>\n",
       "    </tr>\n",
       "    <tr>\n",
       "      <th>2</th>\n",
       "      <td>86</td>\n",
       "      <td>0</td>\n",
       "      <td>4</td>\n",
       "      <td>3</td>\n",
       "      <td>1</td>\n",
       "      <td>1</td>\n",
       "      <td>44</td>\n",
       "      <td>33</td>\n",
       "      <td>54</td>\n",
       "      <td>58</td>\n",
       "      <td>31</td>\n",
       "    </tr>\n",
       "    <tr>\n",
       "      <th>3</th>\n",
       "      <td>141</td>\n",
       "      <td>0</td>\n",
       "      <td>4</td>\n",
       "      <td>3</td>\n",
       "      <td>1</td>\n",
       "      <td>3</td>\n",
       "      <td>63</td>\n",
       "      <td>44</td>\n",
       "      <td>47</td>\n",
       "      <td>53</td>\n",
       "      <td>56</td>\n",
       "    </tr>\n",
       "  </tbody>\n",
       "</table>\n",
       "</div>"
      ],
      "text/plain": [
       "    id  female  race  ses  schtyp  prog  read  write  math  science  socst\n",
       "0   70       0     4    1       1     1    57     52    41       47     57\n",
       "1  121       1     4    2       1     3    68     59    53       63     61\n",
       "2   86       0     4    3       1     1    44     33    54       58     31\n",
       "3  141       0     4    3       1     3    63     44    47       53     56"
      ]
     },
     "execution_count": 52,
     "metadata": {},
     "output_type": "execute_result"
    }
   ],
   "source": [
    "from urllib2 import urlopen\n",
    "url = 'http://www.ats.ucla.edu/stat/data/hsb2.csv'\n",
    "fp = urlopen(url)\n",
    "df = pd.read_table(url, delimiter =\",\")\n",
    "df[:4]"
   ]
  },
  {
   "cell_type": "markdown",
   "metadata": {},
   "source": [
    "Lets try to do some analysis. I want to load some csv file and do analysis. The file is located at '/media/anirban/Ubuntu/Downloads/turnstile_data_master_with_weather.csv' ."
   ]
  },
  {
   "cell_type": "code",
   "execution_count": 53,
   "metadata": {
    "collapsed": false
   },
   "outputs": [],
   "source": [
    "df = pd.read_csv('turnstile_data_master_with_weather.csv')\n"
   ]
  },
  {
   "cell_type": "markdown",
   "metadata": {},
   "source": [
    "The code below does not work. Need to figure out how to generate a plot."
   ]
  },
  {
   "cell_type": "code",
   "execution_count": 54,
   "metadata": {
    "collapsed": false
   },
   "outputs": [
    {
     "name": "stdout",
     "output_type": "stream",
     "text": [
      "<module 'matplotlib.pyplot' from '/home/anirban/anaconda/lib/python2.7/site-packages/matplotlib/pyplot.pyc'>\n"
     ]
    },
    {
     "data": {
      "text/plain": [
       "<matplotlib.figure.Figure at 0x7f52d4661410>"
      ]
     },
     "metadata": {},
     "output_type": "display_data"
    },
    {
     "data": {
      "image/png": "[encoded data removed]",
      "text/plain": [
       "<matplotlib.figure.Figure at 0x7f52d2dc9650>"
      ]
     },
     "metadata": {},
     "output_type": "display_data"
    }
   ],
   "source": [
    "def entries_histogram(turnstile_weather):\n",
    "    '''\n",
    "    Before we perform any analysis, it might be useful to take a\n",
    "    look at the data we're hoping to analyze. More specifically, let's \n",
    "    examine the hourly entries in our NYC subway data and determine what\n",
    "    distribution the data follows. This data is stored in a dataframe\n",
    "    called turnstile_weather under the ['ENTRIESn_hourly'] column.\n",
    "    \n",
    "    Let's plot two histograms on the same axes to show hourly\n",
    "    entries when raining vs. when not raining. Here's an example on how\n",
    "    to plot histograms with pandas and matplotlib:\n",
    "    turnstile_weather['column_to_graph'].hist()\n",
    "    \n",
    "    Your histogram may look similar to bar graph in the instructor notes below.\n",
    "    \n",
    "    You can read a bit about using matplotlib and pandas to plot histograms here:\n",
    "    http://pandas.pydata.org/pandas-docs/stable/visualization.html#histograms\n",
    "    \n",
    "    You can see the information contained within the turnstile weather data here:\n",
    "    https://www.dropbox.com/s/meyki2wl9xfa7yk/turnstile_data_master_with_weather.csv\n",
    "    '''\n",
    "    \n",
    "    plt.figure()\n",
    "    pd.DataFrame.hist(turnstile_weather, column='ENTRIESn_hourly', by='rain', bins=100) # your code here to plot a historgram for hourly entries when it is raining\n",
    "    #turnstile_weather['ENTRIESn_hourly'].hist() # your code here to plot a historgram for hourly entries when it is not raining\n",
    "    return plt\n",
    "\n",
    "print(entries_histogram(df))"
   ]
  },
  {
   "cell_type": "code",
   "execution_count": 55,
   "metadata": {
    "collapsed": false
   },
   "outputs": [
    {
     "data": {
      "text/plain": [
       "(1105.4463767458733, 1090.278780151855, 1924409167.0, 0.024999912793489721)"
      ]
     },
     "execution_count": 55,
     "metadata": {},
     "output_type": "execute_result"
    }
   ],
   "source": [
    "def mann_whitney_plus_means(turnstile_weather):\n",
    "    '''\n",
    "    This function will consume the turnstile_weather dataframe containing\n",
    "    our final turnstile weather data. \n",
    "    \n",
    "    You will want to take the means and run the Mann Whitney U-test on the \n",
    "    ENTRIESn_hourly column in the turnstile_weather dataframe.\n",
    "    \n",
    "    This function should return:\n",
    "        1) the mean of entries with rain\n",
    "        2) the mean of entries without rain\n",
    "        3) the Mann-Whitney U-statistic and p-value comparing the number of entries\n",
    "           with rain and the number of entries without rain\n",
    "    \n",
    "    You should feel free to use scipy's Mann-Whitney implementation, and you \n",
    "    might also find it useful to use numpy's mean function.\n",
    "    \n",
    "    Here are the functions' documentation:\n",
    "    http://docs.scipy.org/doc/scipy/reference/generated/scipy.stats.mannwhitneyu.html\n",
    "    http://docs.scipy.org/doc/numpy/reference/generated/numpy.mean.html\n",
    "    \n",
    "    You can look at the final turnstile weather data at the link below:\n",
    "    https://www.dropbox.com/s/meyki2wl9xfa7yk/turnstile_data_master_with_weather.csv\n",
    "    '''\n",
    "    \n",
    "    ### YOUR CODE HERE ###\n",
    "    turnstile_weather1 = turnstile_weather.loc[turnstile_weather['rain']==0]    \n",
    "    turnstile_weather2 = turnstile_weather.loc[turnstile_weather['rain']==1]  \n",
    "    with_rain_mean = turnstile_weather2['ENTRIESn_hourly'].mean()\n",
    "    without_rain_mean = turnstile_weather1['ENTRIESn_hourly'].mean()\n",
    "    U, p = scipy.stats.mannwhitneyu(turnstile_weather1['ENTRIESn_hourly'], turnstile_weather2['ENTRIESn_hourly'])\n",
    "    return with_rain_mean, without_rain_mean, U, p\n",
    "\n",
    "mann_whitney_plus_means(df)"
   ]
  },
  {
   "cell_type": "code",
   "execution_count": 56,
   "metadata": {
    "collapsed": true
   },
   "outputs": [],
   "source": [
    "import numpy as np\n",
    "import pandas\n",
    "from ggplot import *\n",
    "\n",
    "\"\"\"\n",
    "In this question, you need to:\n",
    "1) implement the compute_cost() and gradient_descent() procedures\n",
    "2) Select features (in the predictions procedure) and make predictions.\n",
    "\n",
    "\"\"\"\n",
    "\n",
    "def normalize_features(df):\n",
    "    \"\"\"\n",
    "    Normalize the features in the data set.\n",
    "    \"\"\"\n",
    "    mu = df.mean()\n",
    "    sigma = df.std()\n",
    "    \n",
    "    if (sigma == 0).any():\n",
    "        raise Exception(\"One or more features had the same value for all samples, and thus could \" + \\\n",
    "                         \"not be normalized. Please do not include features with only a single value \" + \\\n",
    "                         \"in your model.\")\n",
    "    df_normalized = (df - df.mean()) / df.std()\n",
    "\n",
    "    return df_normalized, mu, sigma\n",
    "\n",
    "def compute_cost(features, values, theta):\n",
    "    \"\"\"\n",
    "    Compute the cost function given a set of features / values, \n",
    "    and the values for our thetas.\n",
    "    \n",
    "    This can be the same code as the compute_cost function in the lesson #3 exercises,\n",
    "    but feel free to implement your own.\n",
    "    \"\"\"\n",
    "    \n",
    "    # your code here\n",
    "    m = len(values)\n",
    "    sum_of_square_errors = np.square(np.dot(features, theta) - values).sum()\n",
    "    cost = sum_of_square_errors / (2*m)\n",
    "\n",
    "    return cost\n",
    "\n",
    "def gradient_descent(features, values, theta, alpha, num_iterations):\n",
    "    \"\"\"\n",
    "    Perform gradient descent given a data set with an arbitrary number of features.\n",
    "    \n",
    "    This can be the same gradient descent code as in the lesson #3 exercises,\n",
    "    but feel free to implement your own.\n",
    "    \"\"\"\n",
    "    \n",
    "    m = len(values)\n",
    "    cost_history = []\n",
    "\n",
    "    for i in range(num_iterations):\n",
    "        # your code here\n",
    "        predicted_values = np.dot(features, theta)\n",
    "        theta = theta - alpha / m * np.dot((predicted_values - values), features)\n",
    "        \n",
    "        cost = compute_cost(features, values, theta)\n",
    "        cost_history.append(cost)\n",
    "    return theta, pandas.Series(cost_history)\n",
    "\n",
    "def predictions(dataframe):\n",
    "    '''\n",
    "    The NYC turnstile data is stored in a pandas dataframe called weather_turnstile.\n",
    "    Using the information stored in the dataframe, let's predict the ridership of\n",
    "    the NYC subway using linear regression with gradient descent.\n",
    "    \n",
    "    You can download the complete turnstile weather dataframe here:\n",
    "    https://www.dropbox.com/s/meyki2wl9xfa7yk/turnstile_data_master_with_weather.csv    \n",
    "    \n",
    "    Your prediction should have a R^2 value of 0.40 or better.\n",
    "    You need to experiment using various input features contained in the dataframe. \n",
    "    We recommend that you don't use the EXITSn_hourly feature as an input to the \n",
    "    linear model because we cannot use it as a predictor: we cannot use exits \n",
    "    counts as a way to predict entry counts. \n",
    "    \n",
    "    Note: Due to the memory and CPU limitation of our Amazon EC2 instance, we will\n",
    "    give you a random subet (~15%) of the data contained in \n",
    "    turnstile_data_master_with_weather.csv. You are encouraged to experiment with \n",
    "    this computer on your own computer, locally. \n",
    "    \n",
    "    \n",
    "    If you'd like to view a plot of your cost history, uncomment the call to \n",
    "    plot_cost_history below. The slowdown from plotting is significant, so if you \n",
    "    are timing out, the first thing to do is to comment out the plot command again.\n",
    "    \n",
    "    If you receive a \"server has encountered an error\" message, that means you are \n",
    "    hitting the 30-second limit that's placed on running your program. Try using a \n",
    "    smaller number for num_iterations if that's the case.\n",
    "    \n",
    "    If you are using your own algorithm/models, see if you can optimize your code so \n",
    "    that it runs faster.\n",
    "    '''\n",
    "    # Select Features (try different features!)\n",
    "    features = dataframe[['Hour']]\n",
    "    # features = dataframe[['rain', 'precipi', 'Hour']]\n",
    "    \n",
    "    # Add UNIT to features using dummy variables\n",
    "    dummy_units = pandas.get_dummies(dataframe['UNIT'], prefix='unit')\n",
    "    features = features.join(dummy_units)\n",
    "    \n",
    "    # Values\n",
    "    values = dataframe['ENTRIESn_hourly']\n",
    "    m = len(values)\n",
    "\n",
    "    features, mu, sigma = normalize_features(features)\n",
    "    features['ones'] = np.ones(m) # Add a column of 1s (y intercept)\n",
    "    \n",
    "    # Convert features and values to numpy arrays\n",
    "    features_array = np.array(features)\n",
    "    values_array = np.array(values)\n",
    "\n",
    "    # Set values for alpha, number of iterations.\n",
    "    alpha = 0.1 # please feel free to change this value\n",
    "    num_iterations = 75 # please feel free to change this value\n",
    "\n",
    "    # Initialize theta, perform gradient descent\n",
    "    theta_gradient_descent = np.zeros(len(features.columns))\n",
    "    theta_gradient_descent, cost_history = gradient_descent(features_array, \n",
    "                                                            values_array, \n",
    "                                                            theta_gradient_descent, \n",
    "                                                            alpha, \n",
    "                                                            num_iterations)\n",
    "    \n",
    "    plot = None\n",
    "    # -------------------------------------------------\n",
    "    # Uncomment the next line to see your cost history\n",
    "    # -------------------------------------------------\n",
    "    plot = plot_cost_history(alpha, cost_history)\n",
    "    # \n",
    "    # Please note, there is a possibility that plotting\n",
    "    # this in addition to your calculation will exceed \n",
    "    # the 30 second limit on the compute servers.\n",
    "    \n",
    "    predictions = np.dot(features_array, theta_gradient_descent)\n",
    "    return predictions, plot\n",
    "\n",
    "\n",
    "def plot_cost_history(alpha, cost_history):\n",
    "   \"\"\"This function is for viewing the plot of your cost history.\n",
    "   You can run it by uncommenting this\n",
    "\n",
    "       plot_cost_history(alpha, cost_history) \n",
    "\n",
    "   call in predictions.\n",
    "   \n",
    "   If you want to run this locally, you should print the return value\n",
    "   from this function.\n",
    "   \"\"\"\n",
    "   cost_df = pandas.DataFrame({\n",
    "      'Cost_History': cost_history,\n",
    "      'Iteration': range(len(cost_history))\n",
    "   })\n",
    "   return ggplot(cost_df, aes('Iteration', 'Cost_History')) + \\\n",
    "      geom_point() + ggtitle('Cost History for alpha = %.3f' % alpha )\n",
    "\n",
    "\n",
    "\n"
   ]
  },
  {
   "cell_type": "code",
   "execution_count": 57,
   "metadata": {
    "collapsed": true
   },
   "outputs": [],
   "source": [
    "import numpy as np\n",
    "import scipy\n",
    "import matplotlib.pyplot as plt\n",
    "\n",
    "def plot_residuals(turnstile_weather, predictions):\n",
    "    '''\n",
    "    Using the same methods that we used to plot a histogram of entries\n",
    "    per hour for our data, why don't you make a histogram of the residuals\n",
    "    (that is, the difference between the original hourly entry data and the predicted values).\n",
    "    Try different binwidths for your histogram.\n",
    "\n",
    "    Based on this residual histogram, do you have any insight into how our model\n",
    "    performed?  Reading a bit on this webpage might be useful:\n",
    "\n",
    "    http://www.itl.nist.gov/div898/handbook/pri/section2/pri24.htm\n",
    "    '''\n",
    "    \n",
    "    plt.figure()\n",
    "    (turnstile_weather['ENTRIESn_hourly'] - predictions).hist(bins=30)\n",
    "    return plt\n",
    "\n"
   ]
  },
  {
   "cell_type": "code",
   "execution_count": 58,
   "metadata": {
    "collapsed": false
   },
   "outputs": [
    {
     "data": {
      "text/plain": [
       "Unnamed: 0           int64\n",
       "UNIT                object\n",
       "DATEn               object\n",
       "TIMEn               object\n",
       "Hour                 int64\n",
       "DESCn               object\n",
       "ENTRIESn_hourly    float64\n",
       "EXITSn_hourly      float64\n",
       "maxpressurei       float64\n",
       "maxdewpti          float64\n",
       "mindewpti          float64\n",
       "minpressurei       float64\n",
       "meandewpti         float64\n",
       "meanpressurei      float64\n",
       "fog                float64\n",
       "rain               float64\n",
       "meanwindspdi       float64\n",
       "mintempi           float64\n",
       "meantempi          float64\n",
       "maxtempi           float64\n",
       "precipi            float64\n",
       "thunder            float64\n",
       "dtype: object"
      ]
     },
     "execution_count": 58,
     "metadata": {},
     "output_type": "execute_result"
    }
   ],
   "source": [
    "frame = pandas.read_csv('turnstile_data_master_with_weather.csv')\n",
    "frame[:2]\n",
    "frame.dtypes\n",
    "#newtable = (frame.groupby(frame['Hour'], 'ENTRIESn_hourly').mean())"
   ]
  },
  {
   "cell_type": "code",
   "execution_count": 59,
   "metadata": {
    "collapsed": false
   },
   "outputs": [
    {
     "data": {
      "image/png": "[encoded data removed]",
      "text/plain": [
       "<matplotlib.figure.Figure at 0x7f5309994ad0>"
      ]
     },
     "metadata": {},
     "output_type": "display_data"
    },
    {
     "data": {
      "text/plain": [
       "<ggplot: (8749609106077)>"
      ]
     },
     "execution_count": 59,
     "metadata": {},
     "output_type": "execute_result"
    }
   ],
   "source": [
    "d = pandas.DataFrame(frame.groupby('Hour').sum())\n",
    "d.index\n",
    "ggplot(d, aes(d.index, 'ENTRIESn_hourly')) + geom_line() + xlab('Time of day (0000 to 2300 hrs)')"
   ]
  },
  {
   "cell_type": "code",
   "execution_count": 73,
   "metadata": {
    "collapsed": false
   },
   "outputs": [
    {
     "data": {
      "image/png": "[encoded data removed]",
      "text/plain": [
       "<matplotlib.figure.Figure at 0x7f52aba90550>"
      ]
     },
     "metadata": {},
     "output_type": "display_data"
    },
    {
     "data": {
      "text/plain": [
       "<ggplot: (8749561163241)>"
      ]
     },
     "execution_count": 73,
     "metadata": {},
     "output_type": "execute_result"
    }
   ],
   "source": [
    "d = pandas.DataFrame(frame.groupby('UNIT').sum())\n",
    "d = d.sort(columns='ENTRIESn_hourly')\n",
    "d = d[d > 800000]\n",
    "#d['ENTRIESn_hourly']\n",
    "d = pd.DataFrame({'UNIT': (d.sort(columns='ENTRIESn_hourly').index), 'entries': d.sort(columns='ENTRIESn_hourly')['ENTRIESn_hourly']})\n",
    "#d['UNIT']\n",
    "#d['UNIT'].astype(basestring)\n",
    "#d.dtypes\n",
    "ggplot(d, aes('UNIT', 'entries')) + geom_bar(stat=\"bar\")"
   ]
  },
  {
   "cell_type": "code",
   "execution_count": 61,
   "metadata": {
    "collapsed": false,
    "scrolled": true
   },
   "outputs": [
    {
     "data": {
      "text/html": [
       "<div>\n",
       "<table border=\"1\" class=\"dataframe\">\n",
       "  <thead>\n",
       "    <tr style=\"text-align: right;\">\n",
       "      <th></th>\n",
       "      <th>Unnamed: 0</th>\n",
       "      <th>Hour</th>\n",
       "      <th>ENTRIESn_hourly</th>\n",
       "      <th>EXITSn_hourly</th>\n",
       "      <th>maxpressurei</th>\n",
       "      <th>maxdewpti</th>\n",
       "      <th>mindewpti</th>\n",
       "      <th>minpressurei</th>\n",
       "      <th>meandewpti</th>\n",
       "      <th>meanpressurei</th>\n",
       "      <th>fog</th>\n",
       "      <th>rain</th>\n",
       "      <th>meanwindspdi</th>\n",
       "      <th>mintempi</th>\n",
       "      <th>meantempi</th>\n",
       "      <th>maxtempi</th>\n",
       "      <th>precipi</th>\n",
       "      <th>thunder</th>\n",
       "    </tr>\n",
       "    <tr>\n",
       "      <th>UNIT</th>\n",
       "      <th></th>\n",
       "      <th></th>\n",
       "      <th></th>\n",
       "      <th></th>\n",
       "      <th></th>\n",
       "      <th></th>\n",
       "      <th></th>\n",
       "      <th></th>\n",
       "      <th></th>\n",
       "      <th></th>\n",
       "      <th></th>\n",
       "      <th></th>\n",
       "      <th></th>\n",
       "      <th></th>\n",
       "      <th></th>\n",
       "      <th></th>\n",
       "      <th></th>\n",
       "      <th></th>\n",
       "    </tr>\n",
       "  </thead>\n",
       "  <tbody>\n",
       "    <tr>\n",
       "      <th>R464</th>\n",
       "      <td>10870424</td>\n",
       "      <td>1660</td>\n",
       "      <td>0</td>\n",
       "      <td>0</td>\n",
       "      <td>4895.85</td>\n",
       "      <td>9329</td>\n",
       "      <td>7873</td>\n",
       "      <td>4872.84</td>\n",
       "      <td>8592</td>\n",
       "      <td>4884.84</td>\n",
       "      <td>26</td>\n",
       "      <td>54</td>\n",
       "      <td>911</td>\n",
       "      <td>9162</td>\n",
       "      <td>10486</td>\n",
       "      <td>11711</td>\n",
       "      <td>26.31</td>\n",
       "      <td>0</td>\n",
       "    </tr>\n",
       "    <tr>\n",
       "      <th>R338</th>\n",
       "      <td>11627848</td>\n",
       "      <td>1773</td>\n",
       "      <td>4464</td>\n",
       "      <td>19759</td>\n",
       "      <td>5255.28</td>\n",
       "      <td>10043</td>\n",
       "      <td>8471</td>\n",
       "      <td>5230.36</td>\n",
       "      <td>9252</td>\n",
       "      <td>5243.37</td>\n",
       "      <td>33</td>\n",
       "      <td>60</td>\n",
       "      <td>984</td>\n",
       "      <td>9840</td>\n",
       "      <td>11263</td>\n",
       "      <td>12583</td>\n",
       "      <td>32.65</td>\n",
       "      <td>0</td>\n",
       "    </tr>\n",
       "    <tr>\n",
       "      <th>R418</th>\n",
       "      <td>11548550</td>\n",
       "      <td>1923</td>\n",
       "      <td>6524</td>\n",
       "      <td>8692</td>\n",
       "      <td>5285.88</td>\n",
       "      <td>10046</td>\n",
       "      <td>8461</td>\n",
       "      <td>5261.03</td>\n",
       "      <td>9243</td>\n",
       "      <td>5274.00</td>\n",
       "      <td>29</td>\n",
       "      <td>56</td>\n",
       "      <td>946</td>\n",
       "      <td>9889</td>\n",
       "      <td>11333</td>\n",
       "      <td>12668</td>\n",
       "      <td>24.78</td>\n",
       "      <td>0</td>\n",
       "    </tr>\n",
       "    <tr>\n",
       "      <th>R459</th>\n",
       "      <td>7923399</td>\n",
       "      <td>836</td>\n",
       "      <td>7289</td>\n",
       "      <td>280</td>\n",
       "      <td>2488.36</td>\n",
       "      <td>5332</td>\n",
       "      <td>4768</td>\n",
       "      <td>2476.37</td>\n",
       "      <td>5057</td>\n",
       "      <td>2482.77</td>\n",
       "      <td>27</td>\n",
       "      <td>42</td>\n",
       "      <td>466</td>\n",
       "      <td>5060</td>\n",
       "      <td>5641</td>\n",
       "      <td>6165</td>\n",
       "      <td>26.64</td>\n",
       "      <td>0</td>\n",
       "    </tr>\n",
       "    <tr>\n",
       "      <th>R415</th>\n",
       "      <td>12218121</td>\n",
       "      <td>2051</td>\n",
       "      <td>7921</td>\n",
       "      <td>2615</td>\n",
       "      <td>5586.00</td>\n",
       "      <td>10641</td>\n",
       "      <td>8959</td>\n",
       "      <td>5560.11</td>\n",
       "      <td>9793</td>\n",
       "      <td>5573.59</td>\n",
       "      <td>30</td>\n",
       "      <td>61</td>\n",
       "      <td>1036</td>\n",
       "      <td>10442</td>\n",
       "      <td>11959</td>\n",
       "      <td>13365</td>\n",
       "      <td>31.58</td>\n",
       "      <td>0</td>\n",
       "    </tr>\n",
       "    <tr>\n",
       "      <th>R417</th>\n",
       "      <td>10785538</td>\n",
       "      <td>1583</td>\n",
       "      <td>15210</td>\n",
       "      <td>16072</td>\n",
       "      <td>4476.48</td>\n",
       "      <td>8822</td>\n",
       "      <td>7623</td>\n",
       "      <td>4455.00</td>\n",
       "      <td>8232</td>\n",
       "      <td>4466.30</td>\n",
       "      <td>30</td>\n",
       "      <td>60</td>\n",
       "      <td>802</td>\n",
       "      <td>8468</td>\n",
       "      <td>9620</td>\n",
       "      <td>10679</td>\n",
       "      <td>31.08</td>\n",
       "      <td>0</td>\n",
       "    </tr>\n",
       "    <tr>\n",
       "      <th>R336</th>\n",
       "      <td>10643192</td>\n",
       "      <td>1639</td>\n",
       "      <td>18478</td>\n",
       "      <td>52448</td>\n",
       "      <td>4864.93</td>\n",
       "      <td>9237</td>\n",
       "      <td>7765</td>\n",
       "      <td>4842.33</td>\n",
       "      <td>8492</td>\n",
       "      <td>4853.96</td>\n",
       "      <td>27</td>\n",
       "      <td>56</td>\n",
       "      <td>900</td>\n",
       "      <td>9063</td>\n",
       "      <td>10379</td>\n",
       "      <td>11598</td>\n",
       "      <td>29.59</td>\n",
       "      <td>0</td>\n",
       "    </tr>\n",
       "    <tr>\n",
       "      <th>R165</th>\n",
       "      <td>11902235</td>\n",
       "      <td>2230</td>\n",
       "      <td>21880</td>\n",
       "      <td>0</td>\n",
       "      <td>5585.83</td>\n",
       "      <td>10591</td>\n",
       "      <td>8901</td>\n",
       "      <td>5560.01</td>\n",
       "      <td>9734</td>\n",
       "      <td>5573.43</td>\n",
       "      <td>30</td>\n",
       "      <td>60</td>\n",
       "      <td>1032</td>\n",
       "      <td>10423</td>\n",
       "      <td>11941</td>\n",
       "      <td>13348</td>\n",
       "      <td>31.08</td>\n",
       "      <td>0</td>\n",
       "    </tr>\n",
       "    <tr>\n",
       "      <th>R455</th>\n",
       "      <td>11194578</td>\n",
       "      <td>1705</td>\n",
       "      <td>23708</td>\n",
       "      <td>73534</td>\n",
       "      <td>5045.27</td>\n",
       "      <td>9637</td>\n",
       "      <td>8139</td>\n",
       "      <td>5021.77</td>\n",
       "      <td>8881</td>\n",
       "      <td>5034.03</td>\n",
       "      <td>29</td>\n",
       "      <td>56</td>\n",
       "      <td>928</td>\n",
       "      <td>9452</td>\n",
       "      <td>10814</td>\n",
       "      <td>12073</td>\n",
       "      <td>30.31</td>\n",
       "      <td>0</td>\n",
       "    </tr>\n",
       "    <tr>\n",
       "      <th>R448</th>\n",
       "      <td>12574457</td>\n",
       "      <td>2174</td>\n",
       "      <td>24229</td>\n",
       "      <td>26700</td>\n",
       "      <td>5856.45</td>\n",
       "      <td>11093</td>\n",
       "      <td>9287</td>\n",
       "      <td>5829.22</td>\n",
       "      <td>10172</td>\n",
       "      <td>5843.34</td>\n",
       "      <td>31</td>\n",
       "      <td>63</td>\n",
       "      <td>1090</td>\n",
       "      <td>10910</td>\n",
       "      <td>12503</td>\n",
       "      <td>13979</td>\n",
       "      <td>33.93</td>\n",
       "      <td>0</td>\n",
       "    </tr>\n",
       "    <tr>\n",
       "      <th>R419</th>\n",
       "      <td>11922346</td>\n",
       "      <td>1967</td>\n",
       "      <td>24793</td>\n",
       "      <td>31219</td>\n",
       "      <td>5375.77</td>\n",
       "      <td>10261</td>\n",
       "      <td>8658</td>\n",
       "      <td>5350.84</td>\n",
       "      <td>9450</td>\n",
       "      <td>5363.80</td>\n",
       "      <td>30</td>\n",
       "      <td>60</td>\n",
       "      <td>990</td>\n",
       "      <td>10061</td>\n",
       "      <td>11510</td>\n",
       "      <td>12852</td>\n",
       "      <td>31.08</td>\n",
       "      <td>0</td>\n",
       "    </tr>\n",
       "    <tr>\n",
       "      <th>R337</th>\n",
       "      <td>11011460</td>\n",
       "      <td>1718</td>\n",
       "      <td>28336</td>\n",
       "      <td>21881</td>\n",
       "      <td>5015.30</td>\n",
       "      <td>9541</td>\n",
       "      <td>8029</td>\n",
       "      <td>4991.95</td>\n",
       "      <td>8774</td>\n",
       "      <td>5004.15</td>\n",
       "      <td>28</td>\n",
       "      <td>55</td>\n",
       "      <td>927</td>\n",
       "      <td>9363</td>\n",
       "      <td>10719</td>\n",
       "      <td>11976</td>\n",
       "      <td>29.42</td>\n",
       "      <td>0</td>\n",
       "    </tr>\n",
       "    <tr>\n",
       "      <th>R454</th>\n",
       "      <td>11236511</td>\n",
       "      <td>1646</td>\n",
       "      <td>29557</td>\n",
       "      <td>118009</td>\n",
       "      <td>4985.72</td>\n",
       "      <td>9544</td>\n",
       "      <td>8067</td>\n",
       "      <td>4962.41</td>\n",
       "      <td>8801</td>\n",
       "      <td>4974.55</td>\n",
       "      <td>29</td>\n",
       "      <td>55</td>\n",
       "      <td>934</td>\n",
       "      <td>9356</td>\n",
       "      <td>10696</td>\n",
       "      <td>11937</td>\n",
       "      <td>29.14</td>\n",
       "      <td>0</td>\n",
       "    </tr>\n",
       "    <tr>\n",
       "      <th>R360</th>\n",
       "      <td>11660626</td>\n",
       "      <td>1938</td>\n",
       "      <td>31873</td>\n",
       "      <td>35844</td>\n",
       "      <td>5345.97</td>\n",
       "      <td>10179</td>\n",
       "      <td>8576</td>\n",
       "      <td>5321.41</td>\n",
       "      <td>9370</td>\n",
       "      <td>5334.32</td>\n",
       "      <td>30</td>\n",
       "      <td>57</td>\n",
       "      <td>981</td>\n",
       "      <td>10006</td>\n",
       "      <td>11454</td>\n",
       "      <td>12798</td>\n",
       "      <td>30.67</td>\n",
       "      <td>0</td>\n",
       "    </tr>\n",
       "    <tr>\n",
       "      <th>R357</th>\n",
       "      <td>11885790</td>\n",
       "      <td>1980</td>\n",
       "      <td>34666</td>\n",
       "      <td>17614</td>\n",
       "      <td>5405.64</td>\n",
       "      <td>10308</td>\n",
       "      <td>8694</td>\n",
       "      <td>5380.62</td>\n",
       "      <td>9492</td>\n",
       "      <td>5393.64</td>\n",
       "      <td>30</td>\n",
       "      <td>60</td>\n",
       "      <td>996</td>\n",
       "      <td>10116</td>\n",
       "      <td>11574</td>\n",
       "      <td>12924</td>\n",
       "      <td>31.08</td>\n",
       "      <td>0</td>\n",
       "    </tr>\n",
       "    <tr>\n",
       "      <th>R313</th>\n",
       "      <td>10572689</td>\n",
       "      <td>1674</td>\n",
       "      <td>34931</td>\n",
       "      <td>32896</td>\n",
       "      <td>4865.04</td>\n",
       "      <td>9257</td>\n",
       "      <td>7810</td>\n",
       "      <td>4842.40</td>\n",
       "      <td>8526</td>\n",
       "      <td>4854.12</td>\n",
       "      <td>27</td>\n",
       "      <td>54</td>\n",
       "      <td>902</td>\n",
       "      <td>9086</td>\n",
       "      <td>10394</td>\n",
       "      <td>11608</td>\n",
       "      <td>27.08</td>\n",
       "      <td>0</td>\n",
       "    </tr>\n",
       "    <tr>\n",
       "      <th>R263</th>\n",
       "      <td>13710059</td>\n",
       "      <td>2083</td>\n",
       "      <td>35386</td>\n",
       "      <td>60335</td>\n",
       "      <td>6035.92</td>\n",
       "      <td>11675</td>\n",
       "      <td>9853</td>\n",
       "      <td>6007.16</td>\n",
       "      <td>10756</td>\n",
       "      <td>6022.26</td>\n",
       "      <td>38</td>\n",
       "      <td>73</td>\n",
       "      <td>1093</td>\n",
       "      <td>11357</td>\n",
       "      <td>12977</td>\n",
       "      <td>14479</td>\n",
       "      <td>34.56</td>\n",
       "      <td>0</td>\n",
       "    </tr>\n",
       "    <tr>\n",
       "      <th>R003</th>\n",
       "      <td>10695020</td>\n",
       "      <td>1747</td>\n",
       "      <td>35938</td>\n",
       "      <td>25333</td>\n",
       "      <td>5165.86</td>\n",
       "      <td>9800</td>\n",
       "      <td>8244</td>\n",
       "      <td>5141.81</td>\n",
       "      <td>9012</td>\n",
       "      <td>5154.34</td>\n",
       "      <td>29</td>\n",
       "      <td>59</td>\n",
       "      <td>956</td>\n",
       "      <td>9608</td>\n",
       "      <td>10988</td>\n",
       "      <td>12264</td>\n",
       "      <td>32.47</td>\n",
       "      <td>0</td>\n",
       "    </tr>\n",
       "    <tr>\n",
       "      <th>R348</th>\n",
       "      <td>11578581</td>\n",
       "      <td>1757</td>\n",
       "      <td>38677</td>\n",
       "      <td>13855</td>\n",
       "      <td>5164.60</td>\n",
       "      <td>9901</td>\n",
       "      <td>8378</td>\n",
       "      <td>5140.66</td>\n",
       "      <td>9127</td>\n",
       "      <td>5153.17</td>\n",
       "      <td>29</td>\n",
       "      <td>58</td>\n",
       "      <td>949</td>\n",
       "      <td>9710</td>\n",
       "      <td>11106</td>\n",
       "      <td>12400</td>\n",
       "      <td>28.40</td>\n",
       "      <td>0</td>\n",
       "    </tr>\n",
       "    <tr>\n",
       "      <th>R422</th>\n",
       "      <td>11845948</td>\n",
       "      <td>1945</td>\n",
       "      <td>39345</td>\n",
       "      <td>24172</td>\n",
       "      <td>5315.08</td>\n",
       "      <td>10154</td>\n",
       "      <td>8558</td>\n",
       "      <td>5290.45</td>\n",
       "      <td>9347</td>\n",
       "      <td>5303.23</td>\n",
       "      <td>31</td>\n",
       "      <td>61</td>\n",
       "      <td>981</td>\n",
       "      <td>9944</td>\n",
       "      <td>11371</td>\n",
       "      <td>12693</td>\n",
       "      <td>31.15</td>\n",
       "      <td>0</td>\n",
       "    </tr>\n",
       "    <tr>\n",
       "      <th>R416</th>\n",
       "      <td>11860334</td>\n",
       "      <td>1971</td>\n",
       "      <td>41975</td>\n",
       "      <td>41137</td>\n",
       "      <td>5405.80</td>\n",
       "      <td>10287</td>\n",
       "      <td>8680</td>\n",
       "      <td>5380.70</td>\n",
       "      <td>9474</td>\n",
       "      <td>5393.76</td>\n",
       "      <td>31</td>\n",
       "      <td>61</td>\n",
       "      <td>993</td>\n",
       "      <td>10100</td>\n",
       "      <td>11560</td>\n",
       "      <td>12910</td>\n",
       "      <td>31.15</td>\n",
       "      <td>0</td>\n",
       "    </tr>\n",
       "    <tr>\n",
       "      <th>R038</th>\n",
       "      <td>11574537</td>\n",
       "      <td>1828</td>\n",
       "      <td>43130</td>\n",
       "      <td>24775</td>\n",
       "      <td>5315.63</td>\n",
       "      <td>10207</td>\n",
       "      <td>8597</td>\n",
       "      <td>5289.89</td>\n",
       "      <td>9401</td>\n",
       "      <td>5303.38</td>\n",
       "      <td>34</td>\n",
       "      <td>62</td>\n",
       "      <td>982</td>\n",
       "      <td>9975</td>\n",
       "      <td>11394</td>\n",
       "      <td>12708</td>\n",
       "      <td>30.81</td>\n",
       "      <td>0</td>\n",
       "    </tr>\n",
       "    <tr>\n",
       "      <th>R354</th>\n",
       "      <td>10844147</td>\n",
       "      <td>1651</td>\n",
       "      <td>43911</td>\n",
       "      <td>39602</td>\n",
       "      <td>4925.60</td>\n",
       "      <td>9413</td>\n",
       "      <td>7929</td>\n",
       "      <td>4902.64</td>\n",
       "      <td>8663</td>\n",
       "      <td>4914.72</td>\n",
       "      <td>28</td>\n",
       "      <td>54</td>\n",
       "      <td>897</td>\n",
       "      <td>9236</td>\n",
       "      <td>10564</td>\n",
       "      <td>11794</td>\n",
       "      <td>26.43</td>\n",
       "      <td>0</td>\n",
       "    </tr>\n",
       "    <tr>\n",
       "      <th>R426</th>\n",
       "      <td>12065480</td>\n",
       "      <td>2004</td>\n",
       "      <td>46162</td>\n",
       "      <td>15585</td>\n",
       "      <td>5465.77</td>\n",
       "      <td>10410</td>\n",
       "      <td>8784</td>\n",
       "      <td>5440.46</td>\n",
       "      <td>9588</td>\n",
       "      <td>5453.63</td>\n",
       "      <td>30</td>\n",
       "      <td>60</td>\n",
       "      <td>1004</td>\n",
       "      <td>10220</td>\n",
       "      <td>11697</td>\n",
       "      <td>13065</td>\n",
       "      <td>31.08</td>\n",
       "      <td>0</td>\n",
       "    </tr>\n",
       "    <tr>\n",
       "      <th>R329</th>\n",
       "      <td>11613171</td>\n",
       "      <td>1929</td>\n",
       "      <td>46398</td>\n",
       "      <td>47947</td>\n",
       "      <td>5315.71</td>\n",
       "      <td>10133</td>\n",
       "      <td>8554</td>\n",
       "      <td>5291.01</td>\n",
       "      <td>9333</td>\n",
       "      <td>5303.87</td>\n",
       "      <td>30</td>\n",
       "      <td>60</td>\n",
       "      <td>977</td>\n",
       "      <td>9942</td>\n",
       "      <td>11376</td>\n",
       "      <td>12703</td>\n",
       "      <td>31.08</td>\n",
       "      <td>0</td>\n",
       "    </tr>\n",
       "    <tr>\n",
       "      <th>R427</th>\n",
       "      <td>11919265</td>\n",
       "      <td>1950</td>\n",
       "      <td>49506</td>\n",
       "      <td>15033</td>\n",
       "      <td>5345.62</td>\n",
       "      <td>10230</td>\n",
       "      <td>8650</td>\n",
       "      <td>5320.84</td>\n",
       "      <td>9430</td>\n",
       "      <td>5333.74</td>\n",
       "      <td>30</td>\n",
       "      <td>60</td>\n",
       "      <td>978</td>\n",
       "      <td>10024</td>\n",
       "      <td>11462</td>\n",
       "      <td>12794</td>\n",
       "      <td>31.08</td>\n",
       "      <td>0</td>\n",
       "    </tr>\n",
       "    <tr>\n",
       "      <th>R456</th>\n",
       "      <td>12465008</td>\n",
       "      <td>1895</td>\n",
       "      <td>50038</td>\n",
       "      <td>111841</td>\n",
       "      <td>5615.02</td>\n",
       "      <td>10720</td>\n",
       "      <td>9046</td>\n",
       "      <td>5588.85</td>\n",
       "      <td>9873</td>\n",
       "      <td>5602.78</td>\n",
       "      <td>36</td>\n",
       "      <td>67</td>\n",
       "      <td>1010</td>\n",
       "      <td>10507</td>\n",
       "      <td>12012</td>\n",
       "      <td>13404</td>\n",
       "      <td>33.50</td>\n",
       "      <td>0</td>\n",
       "    </tr>\n",
       "    <tr>\n",
       "      <th>R358</th>\n",
       "      <td>10890065</td>\n",
       "      <td>1668</td>\n",
       "      <td>50605</td>\n",
       "      <td>49832</td>\n",
       "      <td>4955.56</td>\n",
       "      <td>9462</td>\n",
       "      <td>7977</td>\n",
       "      <td>4932.37</td>\n",
       "      <td>8708</td>\n",
       "      <td>4944.49</td>\n",
       "      <td>28</td>\n",
       "      <td>55</td>\n",
       "      <td>917</td>\n",
       "      <td>9257</td>\n",
       "      <td>10592</td>\n",
       "      <td>11831</td>\n",
       "      <td>29.42</td>\n",
       "      <td>0</td>\n",
       "    </tr>\n",
       "    <tr>\n",
       "      <th>R247</th>\n",
       "      <td>10805864</td>\n",
       "      <td>1686</td>\n",
       "      <td>50847</td>\n",
       "      <td>48550</td>\n",
       "      <td>4895.39</td>\n",
       "      <td>9370</td>\n",
       "      <td>7921</td>\n",
       "      <td>4872.71</td>\n",
       "      <td>8645</td>\n",
       "      <td>4884.59</td>\n",
       "      <td>28</td>\n",
       "      <td>57</td>\n",
       "      <td>897</td>\n",
       "      <td>9177</td>\n",
       "      <td>10483</td>\n",
       "      <td>11692</td>\n",
       "      <td>27.75</td>\n",
       "      <td>0</td>\n",
       "    </tr>\n",
       "    <tr>\n",
       "      <th>R316</th>\n",
       "      <td>12257938</td>\n",
       "      <td>2018</td>\n",
       "      <td>53690</td>\n",
       "      <td>53649</td>\n",
       "      <td>5555.95</td>\n",
       "      <td>10604</td>\n",
       "      <td>8938</td>\n",
       "      <td>5530.14</td>\n",
       "      <td>9761</td>\n",
       "      <td>5543.54</td>\n",
       "      <td>31</td>\n",
       "      <td>61</td>\n",
       "      <td>1025</td>\n",
       "      <td>10409</td>\n",
       "      <td>11908</td>\n",
       "      <td>13297</td>\n",
       "      <td>31.18</td>\n",
       "      <td>0</td>\n",
       "    </tr>\n",
       "    <tr>\n",
       "      <th>...</th>\n",
       "      <td>...</td>\n",
       "      <td>...</td>\n",
       "      <td>...</td>\n",
       "      <td>...</td>\n",
       "      <td>...</td>\n",
       "      <td>...</td>\n",
       "      <td>...</td>\n",
       "      <td>...</td>\n",
       "      <td>...</td>\n",
       "      <td>...</td>\n",
       "      <td>...</td>\n",
       "      <td>...</td>\n",
       "      <td>...</td>\n",
       "      <td>...</td>\n",
       "      <td>...</td>\n",
       "      <td>...</td>\n",
       "      <td>...</td>\n",
       "      <td>...</td>\n",
       "    </tr>\n",
       "    <tr>\n",
       "      <th>R177</th>\n",
       "      <td>12007055</td>\n",
       "      <td>2067</td>\n",
       "      <td>877492</td>\n",
       "      <td>669116</td>\n",
       "      <td>5645.63</td>\n",
       "      <td>10674</td>\n",
       "      <td>8948</td>\n",
       "      <td>5619.73</td>\n",
       "      <td>9805</td>\n",
       "      <td>5633.16</td>\n",
       "      <td>30</td>\n",
       "      <td>61</td>\n",
       "      <td>1064</td>\n",
       "      <td>10514</td>\n",
       "      <td>12042</td>\n",
       "      <td>13457</td>\n",
       "      <td>31.75</td>\n",
       "      <td>0</td>\n",
       "    </tr>\n",
       "    <tr>\n",
       "      <th>R031</th>\n",
       "      <td>12324257</td>\n",
       "      <td>1939</td>\n",
       "      <td>879536</td>\n",
       "      <td>829266</td>\n",
       "      <td>5826.61</td>\n",
       "      <td>11079</td>\n",
       "      <td>9349</td>\n",
       "      <td>5799.82</td>\n",
       "      <td>10206</td>\n",
       "      <td>5813.73</td>\n",
       "      <td>34</td>\n",
       "      <td>66</td>\n",
       "      <td>1074</td>\n",
       "      <td>10872</td>\n",
       "      <td>12446</td>\n",
       "      <td>13901</td>\n",
       "      <td>33.91</td>\n",
       "      <td>0</td>\n",
       "    </tr>\n",
       "    <tr>\n",
       "      <th>R541</th>\n",
       "      <td>394130501</td>\n",
       "      <td>67800</td>\n",
       "      <td>887765</td>\n",
       "      <td>800570</td>\n",
       "      <td>177843.49</td>\n",
       "      <td>338541</td>\n",
       "      <td>285322</td>\n",
       "      <td>177021.48</td>\n",
       "      <td>311646</td>\n",
       "      <td>177448.90</td>\n",
       "      <td>981</td>\n",
       "      <td>1971</td>\n",
       "      <td>32855</td>\n",
       "      <td>332517</td>\n",
       "      <td>380521</td>\n",
       "      <td>424956</td>\n",
       "      <td>1024.51</td>\n",
       "      <td>0</td>\n",
       "    </tr>\n",
       "    <tr>\n",
       "      <th>R057</th>\n",
       "      <td>12244522</td>\n",
       "      <td>1927</td>\n",
       "      <td>895935</td>\n",
       "      <td>852758</td>\n",
       "      <td>5765.79</td>\n",
       "      <td>10926</td>\n",
       "      <td>9172</td>\n",
       "      <td>5739.19</td>\n",
       "      <td>10030</td>\n",
       "      <td>5753.13</td>\n",
       "      <td>31</td>\n",
       "      <td>60</td>\n",
       "      <td>1071</td>\n",
       "      <td>10778</td>\n",
       "      <td>12345</td>\n",
       "      <td>13795</td>\n",
       "      <td>31.08</td>\n",
       "      <td>0</td>\n",
       "    </tr>\n",
       "    <tr>\n",
       "      <th>R044</th>\n",
       "      <td>14378430</td>\n",
       "      <td>2292</td>\n",
       "      <td>897321</td>\n",
       "      <td>905942</td>\n",
       "      <td>6606.74</td>\n",
       "      <td>12629</td>\n",
       "      <td>10738</td>\n",
       "      <td>6576.89</td>\n",
       "      <td>11671</td>\n",
       "      <td>6592.39</td>\n",
       "      <td>34</td>\n",
       "      <td>75</td>\n",
       "      <td>1189</td>\n",
       "      <td>12392</td>\n",
       "      <td>14141</td>\n",
       "      <td>15756</td>\n",
       "      <td>37.33</td>\n",
       "      <td>0</td>\n",
       "    </tr>\n",
       "    <tr>\n",
       "      <th>R021</th>\n",
       "      <td>13091705</td>\n",
       "      <td>2060</td>\n",
       "      <td>921754</td>\n",
       "      <td>884099</td>\n",
       "      <td>6186.95</td>\n",
       "      <td>11717</td>\n",
       "      <td>9940</td>\n",
       "      <td>6158.49</td>\n",
       "      <td>10810</td>\n",
       "      <td>6173.25</td>\n",
       "      <td>31</td>\n",
       "      <td>61</td>\n",
       "      <td>1117</td>\n",
       "      <td>11537</td>\n",
       "      <td>13235</td>\n",
       "      <td>14809</td>\n",
       "      <td>33.26</td>\n",
       "      <td>0</td>\n",
       "    </tr>\n",
       "    <tr>\n",
       "      <th>R108</th>\n",
       "      <td>11751477</td>\n",
       "      <td>1835</td>\n",
       "      <td>936992</td>\n",
       "      <td>650427</td>\n",
       "      <td>5495.26</td>\n",
       "      <td>10497</td>\n",
       "      <td>8854</td>\n",
       "      <td>5469.68</td>\n",
       "      <td>9666</td>\n",
       "      <td>5482.97</td>\n",
       "      <td>32</td>\n",
       "      <td>62</td>\n",
       "      <td>1011</td>\n",
       "      <td>10287</td>\n",
       "      <td>11767</td>\n",
       "      <td>13137</td>\n",
       "      <td>32.86</td>\n",
       "      <td>0</td>\n",
       "    </tr>\n",
       "    <tr>\n",
       "      <th>R178</th>\n",
       "      <td>12018686</td>\n",
       "      <td>2036</td>\n",
       "      <td>945340</td>\n",
       "      <td>917008</td>\n",
       "      <td>5586.01</td>\n",
       "      <td>10669</td>\n",
       "      <td>9013</td>\n",
       "      <td>5560.21</td>\n",
       "      <td>9832</td>\n",
       "      <td>5573.63</td>\n",
       "      <td>33</td>\n",
       "      <td>64</td>\n",
       "      <td>1040</td>\n",
       "      <td>10446</td>\n",
       "      <td>11950</td>\n",
       "      <td>13343</td>\n",
       "      <td>36.18</td>\n",
       "      <td>0</td>\n",
       "    </tr>\n",
       "    <tr>\n",
       "      <th>R051</th>\n",
       "      <td>11856788</td>\n",
       "      <td>1903</td>\n",
       "      <td>951879</td>\n",
       "      <td>798118</td>\n",
       "      <td>5646.71</td>\n",
       "      <td>10728</td>\n",
       "      <td>9048</td>\n",
       "      <td>5620.52</td>\n",
       "      <td>9881</td>\n",
       "      <td>5634.09</td>\n",
       "      <td>30</td>\n",
       "      <td>62</td>\n",
       "      <td>1048</td>\n",
       "      <td>10527</td>\n",
       "      <td>12047</td>\n",
       "      <td>13454</td>\n",
       "      <td>31.92</td>\n",
       "      <td>0</td>\n",
       "    </tr>\n",
       "    <tr>\n",
       "      <th>R047</th>\n",
       "      <td>12090204</td>\n",
       "      <td>2090</td>\n",
       "      <td>953822</td>\n",
       "      <td>1086742</td>\n",
       "      <td>5676.31</td>\n",
       "      <td>10810</td>\n",
       "      <td>9109</td>\n",
       "      <td>5650.00</td>\n",
       "      <td>9948</td>\n",
       "      <td>5663.68</td>\n",
       "      <td>32</td>\n",
       "      <td>63</td>\n",
       "      <td>1052</td>\n",
       "      <td>10609</td>\n",
       "      <td>12139</td>\n",
       "      <td>13557</td>\n",
       "      <td>31.92</td>\n",
       "      <td>0</td>\n",
       "    </tr>\n",
       "    <tr>\n",
       "      <th>R168</th>\n",
       "      <td>12404027</td>\n",
       "      <td>2105</td>\n",
       "      <td>987022</td>\n",
       "      <td>933722</td>\n",
       "      <td>5735.48</td>\n",
       "      <td>10931</td>\n",
       "      <td>9228</td>\n",
       "      <td>5708.80</td>\n",
       "      <td>10067</td>\n",
       "      <td>5722.71</td>\n",
       "      <td>32</td>\n",
       "      <td>64</td>\n",
       "      <td>1070</td>\n",
       "      <td>10718</td>\n",
       "      <td>12260</td>\n",
       "      <td>13688</td>\n",
       "      <td>34.77</td>\n",
       "      <td>0</td>\n",
       "    </tr>\n",
       "    <tr>\n",
       "      <th>R025</th>\n",
       "      <td>12765840</td>\n",
       "      <td>2116</td>\n",
       "      <td>1038087</td>\n",
       "      <td>898776</td>\n",
       "      <td>6156.93</td>\n",
       "      <td>11625</td>\n",
       "      <td>9753</td>\n",
       "      <td>6127.89</td>\n",
       "      <td>10673</td>\n",
       "      <td>6143.05</td>\n",
       "      <td>35</td>\n",
       "      <td>64</td>\n",
       "      <td>1131</td>\n",
       "      <td>11457</td>\n",
       "      <td>13149</td>\n",
       "      <td>14723</td>\n",
       "      <td>31.85</td>\n",
       "      <td>0</td>\n",
       "    </tr>\n",
       "    <tr>\n",
       "      <th>R138</th>\n",
       "      <td>12326904</td>\n",
       "      <td>2046</td>\n",
       "      <td>1038214</td>\n",
       "      <td>1044483</td>\n",
       "      <td>5645.78</td>\n",
       "      <td>10796</td>\n",
       "      <td>9119</td>\n",
       "      <td>5619.56</td>\n",
       "      <td>9952</td>\n",
       "      <td>5633.14</td>\n",
       "      <td>31</td>\n",
       "      <td>63</td>\n",
       "      <td>1047</td>\n",
       "      <td>10583</td>\n",
       "      <td>12097</td>\n",
       "      <td>13500</td>\n",
       "      <td>32.02</td>\n",
       "      <td>0</td>\n",
       "    </tr>\n",
       "    <tr>\n",
       "      <th>R175</th>\n",
       "      <td>11793293</td>\n",
       "      <td>2009</td>\n",
       "      <td>1065336</td>\n",
       "      <td>914655</td>\n",
       "      <td>5525.70</td>\n",
       "      <td>10504</td>\n",
       "      <td>8819</td>\n",
       "      <td>5500.15</td>\n",
       "      <td>9652</td>\n",
       "      <td>5513.43</td>\n",
       "      <td>30</td>\n",
       "      <td>61</td>\n",
       "      <td>1020</td>\n",
       "      <td>10315</td>\n",
       "      <td>11815</td>\n",
       "      <td>13207</td>\n",
       "      <td>31.58</td>\n",
       "      <td>0</td>\n",
       "    </tr>\n",
       "    <tr>\n",
       "      <th>R452</th>\n",
       "      <td>12218145</td>\n",
       "      <td>2010</td>\n",
       "      <td>1068004</td>\n",
       "      <td>1003399</td>\n",
       "      <td>5525.89</td>\n",
       "      <td>10521</td>\n",
       "      <td>8882</td>\n",
       "      <td>5500.42</td>\n",
       "      <td>9693</td>\n",
       "      <td>5513.68</td>\n",
       "      <td>31</td>\n",
       "      <td>61</td>\n",
       "      <td>1017</td>\n",
       "      <td>10326</td>\n",
       "      <td>11820</td>\n",
       "      <td>13203</td>\n",
       "      <td>33.26</td>\n",
       "      <td>0</td>\n",
       "    </tr>\n",
       "    <tr>\n",
       "      <th>R540</th>\n",
       "      <td>290707102</td>\n",
       "      <td>50326</td>\n",
       "      <td>1118847</td>\n",
       "      <td>1060240</td>\n",
       "      <td>132742.06</td>\n",
       "      <td>252031</td>\n",
       "      <td>212151</td>\n",
       "      <td>132134.60</td>\n",
       "      <td>231871</td>\n",
       "      <td>132448.28</td>\n",
       "      <td>701</td>\n",
       "      <td>1453</td>\n",
       "      <td>24628</td>\n",
       "      <td>247726</td>\n",
       "      <td>283674</td>\n",
       "      <td>316970</td>\n",
       "      <td>764.52</td>\n",
       "      <td>0</td>\n",
       "    </tr>\n",
       "    <tr>\n",
       "      <th>R023</th>\n",
       "      <td>12306738</td>\n",
       "      <td>1955</td>\n",
       "      <td>1272679</td>\n",
       "      <td>1313745</td>\n",
       "      <td>5825.82</td>\n",
       "      <td>11075</td>\n",
       "      <td>9349</td>\n",
       "      <td>5799.09</td>\n",
       "      <td>10197</td>\n",
       "      <td>5812.97</td>\n",
       "      <td>30</td>\n",
       "      <td>64</td>\n",
       "      <td>1098</td>\n",
       "      <td>10883</td>\n",
       "      <td>12431</td>\n",
       "      <td>13863</td>\n",
       "      <td>33.76</td>\n",
       "      <td>0</td>\n",
       "    </tr>\n",
       "    <tr>\n",
       "      <th>R293</th>\n",
       "      <td>12330995</td>\n",
       "      <td>2273</td>\n",
       "      <td>1288343</td>\n",
       "      <td>982321</td>\n",
       "      <td>5766.38</td>\n",
       "      <td>10946</td>\n",
       "      <td>9209</td>\n",
       "      <td>5739.74</td>\n",
       "      <td>10066</td>\n",
       "      <td>5753.74</td>\n",
       "      <td>31</td>\n",
       "      <td>60</td>\n",
       "      <td>1066</td>\n",
       "      <td>10768</td>\n",
       "      <td>12344</td>\n",
       "      <td>13805</td>\n",
       "      <td>31.08</td>\n",
       "      <td>0</td>\n",
       "    </tr>\n",
       "    <tr>\n",
       "      <th>R029</th>\n",
       "      <td>12336330</td>\n",
       "      <td>1985</td>\n",
       "      <td>1293260</td>\n",
       "      <td>741054</td>\n",
       "      <td>5886.10</td>\n",
       "      <td>11168</td>\n",
       "      <td>9367</td>\n",
       "      <td>5859.25</td>\n",
       "      <td>10255</td>\n",
       "      <td>5873.20</td>\n",
       "      <td>31</td>\n",
       "      <td>64</td>\n",
       "      <td>1082</td>\n",
       "      <td>10982</td>\n",
       "      <td>12584</td>\n",
       "      <td>14072</td>\n",
       "      <td>32.13</td>\n",
       "      <td>0</td>\n",
       "    </tr>\n",
       "    <tr>\n",
       "      <th>R020</th>\n",
       "      <td>13347879</td>\n",
       "      <td>2086</td>\n",
       "      <td>1348414</td>\n",
       "      <td>1359083</td>\n",
       "      <td>6215.55</td>\n",
       "      <td>11872</td>\n",
       "      <td>10053</td>\n",
       "      <td>6186.44</td>\n",
       "      <td>10950</td>\n",
       "      <td>6201.53</td>\n",
       "      <td>32</td>\n",
       "      <td>70</td>\n",
       "      <td>1187</td>\n",
       "      <td>11625</td>\n",
       "      <td>13270</td>\n",
       "      <td>14790</td>\n",
       "      <td>35.78</td>\n",
       "      <td>0</td>\n",
       "    </tr>\n",
       "    <tr>\n",
       "      <th>R018</th>\n",
       "      <td>15239532</td>\n",
       "      <td>2547</td>\n",
       "      <td>1389878</td>\n",
       "      <td>1153646</td>\n",
       "      <td>6937.73</td>\n",
       "      <td>13283</td>\n",
       "      <td>11203</td>\n",
       "      <td>6902.12</td>\n",
       "      <td>12251</td>\n",
       "      <td>6920.60</td>\n",
       "      <td>48</td>\n",
       "      <td>87</td>\n",
       "      <td>1257</td>\n",
       "      <td>12906</td>\n",
       "      <td>14758</td>\n",
       "      <td>16475</td>\n",
       "      <td>36.83</td>\n",
       "      <td>0</td>\n",
       "    </tr>\n",
       "    <tr>\n",
       "      <th>R012</th>\n",
       "      <td>12663820</td>\n",
       "      <td>2107</td>\n",
       "      <td>1564752</td>\n",
       "      <td>1138409</td>\n",
       "      <td>6278.81</td>\n",
       "      <td>11868</td>\n",
       "      <td>10025</td>\n",
       "      <td>6249.92</td>\n",
       "      <td>10937</td>\n",
       "      <td>6264.95</td>\n",
       "      <td>32</td>\n",
       "      <td>65</td>\n",
       "      <td>1173</td>\n",
       "      <td>11647</td>\n",
       "      <td>13381</td>\n",
       "      <td>15000</td>\n",
       "      <td>34.84</td>\n",
       "      <td>0</td>\n",
       "    </tr>\n",
       "    <tr>\n",
       "      <th>R011</th>\n",
       "      <td>12444789</td>\n",
       "      <td>1951</td>\n",
       "      <td>1582914</td>\n",
       "      <td>1280674</td>\n",
       "      <td>5917.53</td>\n",
       "      <td>11276</td>\n",
       "      <td>9499</td>\n",
       "      <td>5889.95</td>\n",
       "      <td>10383</td>\n",
       "      <td>5904.18</td>\n",
       "      <td>35</td>\n",
       "      <td>67</td>\n",
       "      <td>1086</td>\n",
       "      <td>11055</td>\n",
       "      <td>12657</td>\n",
       "      <td>14138</td>\n",
       "      <td>31.77</td>\n",
       "      <td>0</td>\n",
       "    </tr>\n",
       "    <tr>\n",
       "      <th>R055</th>\n",
       "      <td>12410558</td>\n",
       "      <td>1963</td>\n",
       "      <td>1607534</td>\n",
       "      <td>1482767</td>\n",
       "      <td>5856.78</td>\n",
       "      <td>11134</td>\n",
       "      <td>9404</td>\n",
       "      <td>5829.97</td>\n",
       "      <td>10260</td>\n",
       "      <td>5843.86</td>\n",
       "      <td>30</td>\n",
       "      <td>64</td>\n",
       "      <td>1092</td>\n",
       "      <td>10930</td>\n",
       "      <td>12514</td>\n",
       "      <td>13980</td>\n",
       "      <td>33.09</td>\n",
       "      <td>0</td>\n",
       "    </tr>\n",
       "    <tr>\n",
       "      <th>R179</th>\n",
       "      <td>13279493</td>\n",
       "      <td>2104</td>\n",
       "      <td>1618261</td>\n",
       "      <td>1598984</td>\n",
       "      <td>6065.56</td>\n",
       "      <td>11605</td>\n",
       "      <td>9744</td>\n",
       "      <td>6037.05</td>\n",
       "      <td>10667</td>\n",
       "      <td>6051.81</td>\n",
       "      <td>34</td>\n",
       "      <td>70</td>\n",
       "      <td>1112</td>\n",
       "      <td>11365</td>\n",
       "      <td>13017</td>\n",
       "      <td>14551</td>\n",
       "      <td>34.94</td>\n",
       "      <td>0</td>\n",
       "    </tr>\n",
       "    <tr>\n",
       "      <th>R046</th>\n",
       "      <td>13711891</td>\n",
       "      <td>2175</td>\n",
       "      <td>1695150</td>\n",
       "      <td>1498240</td>\n",
       "      <td>6275.16</td>\n",
       "      <td>12005</td>\n",
       "      <td>10223</td>\n",
       "      <td>6246.29</td>\n",
       "      <td>11097</td>\n",
       "      <td>6261.35</td>\n",
       "      <td>36</td>\n",
       "      <td>78</td>\n",
       "      <td>1226</td>\n",
       "      <td>11724</td>\n",
       "      <td>13365</td>\n",
       "      <td>14883</td>\n",
       "      <td>46.17</td>\n",
       "      <td>0</td>\n",
       "    </tr>\n",
       "    <tr>\n",
       "      <th>R033</th>\n",
       "      <td>13684746</td>\n",
       "      <td>2076</td>\n",
       "      <td>1711663</td>\n",
       "      <td>1112844</td>\n",
       "      <td>6066.10</td>\n",
       "      <td>11723</td>\n",
       "      <td>9935</td>\n",
       "      <td>6038.68</td>\n",
       "      <td>10827</td>\n",
       "      <td>6052.88</td>\n",
       "      <td>31</td>\n",
       "      <td>64</td>\n",
       "      <td>1115</td>\n",
       "      <td>11475</td>\n",
       "      <td>13106</td>\n",
       "      <td>14622</td>\n",
       "      <td>34.01</td>\n",
       "      <td>0</td>\n",
       "    </tr>\n",
       "    <tr>\n",
       "      <th>R022</th>\n",
       "      <td>13475756</td>\n",
       "      <td>2103</td>\n",
       "      <td>1796932</td>\n",
       "      <td>1562407</td>\n",
       "      <td>6246.50</td>\n",
       "      <td>11889</td>\n",
       "      <td>10013</td>\n",
       "      <td>6218.34</td>\n",
       "      <td>10922</td>\n",
       "      <td>6232.85</td>\n",
       "      <td>32</td>\n",
       "      <td>62</td>\n",
       "      <td>1149</td>\n",
       "      <td>11738</td>\n",
       "      <td>13467</td>\n",
       "      <td>15081</td>\n",
       "      <td>33.33</td>\n",
       "      <td>0</td>\n",
       "    </tr>\n",
       "    <tr>\n",
       "      <th>R084</th>\n",
       "      <td>16343447</td>\n",
       "      <td>2877</td>\n",
       "      <td>1809423</td>\n",
       "      <td>1415233</td>\n",
       "      <td>7658.28</td>\n",
       "      <td>14523</td>\n",
       "      <td>12230</td>\n",
       "      <td>7623.18</td>\n",
       "      <td>13355</td>\n",
       "      <td>7641.88</td>\n",
       "      <td>42</td>\n",
       "      <td>79</td>\n",
       "      <td>1427</td>\n",
       "      <td>14327</td>\n",
       "      <td>16411</td>\n",
       "      <td>18342</td>\n",
       "      <td>44.07</td>\n",
       "      <td>0</td>\n",
       "    </tr>\n",
       "    <tr>\n",
       "      <th>R170</th>\n",
       "      <td>15435071</td>\n",
       "      <td>2813</td>\n",
       "      <td>2887918</td>\n",
       "      <td>2743585</td>\n",
       "      <td>7296.23</td>\n",
       "      <td>13885</td>\n",
       "      <td>11673</td>\n",
       "      <td>7262.49</td>\n",
       "      <td>12766</td>\n",
       "      <td>7279.81</td>\n",
       "      <td>40</td>\n",
       "      <td>85</td>\n",
       "      <td>1342</td>\n",
       "      <td>13573</td>\n",
       "      <td>15535</td>\n",
       "      <td>17354</td>\n",
       "      <td>45.53</td>\n",
       "      <td>0</td>\n",
       "    </tr>\n",
       "  </tbody>\n",
       "</table>\n",
       "<p>465 rows × 18 columns</p>\n",
       "</div>"
      ],
      "text/plain": [
       "      Unnamed: 0   Hour  ENTRIESn_hourly  EXITSn_hourly  maxpressurei  \\\n",
       "UNIT                                                                    \n",
       "R464    10870424   1660                0              0       4895.85   \n",
       "R338    11627848   1773             4464          19759       5255.28   \n",
       "R418    11548550   1923             6524           8692       5285.88   \n",
       "R459     7923399    836             7289            280       2488.36   \n",
       "R415    12218121   2051             7921           2615       5586.00   \n",
       "R417    10785538   1583            15210          16072       4476.48   \n",
       "R336    10643192   1639            18478          52448       4864.93   \n",
       "R165    11902235   2230            21880              0       5585.83   \n",
       "R455    11194578   1705            23708          73534       5045.27   \n",
       "R448    12574457   2174            24229          26700       5856.45   \n",
       "R419    11922346   1967            24793          31219       5375.77   \n",
       "R337    11011460   1718            28336          21881       5015.30   \n",
       "R454    11236511   1646            29557         118009       4985.72   \n",
       "R360    11660626   1938            31873          35844       5345.97   \n",
       "R357    11885790   1980            34666          17614       5405.64   \n",
       "R313    10572689   1674            34931          32896       4865.04   \n",
       "R263    13710059   2083            35386          60335       6035.92   \n",
       "R003    10695020   1747            35938          25333       5165.86   \n",
       "R348    11578581   1757            38677          13855       5164.60   \n",
       "R422    11845948   1945            39345          24172       5315.08   \n",
       "R416    11860334   1971            41975          41137       5405.80   \n",
       "R038    11574537   1828            43130          24775       5315.63   \n",
       "R354    10844147   1651            43911          39602       4925.60   \n",
       "R426    12065480   2004            46162          15585       5465.77   \n",
       "R329    11613171   1929            46398          47947       5315.71   \n",
       "R427    11919265   1950            49506          15033       5345.62   \n",
       "R456    12465008   1895            50038         111841       5615.02   \n",
       "R358    10890065   1668            50605          49832       4955.56   \n",
       "R247    10805864   1686            50847          48550       4895.39   \n",
       "R316    12257938   2018            53690          53649       5555.95   \n",
       "...          ...    ...              ...            ...           ...   \n",
       "R177    12007055   2067           877492         669116       5645.63   \n",
       "R031    12324257   1939           879536         829266       5826.61   \n",
       "R541   394130501  67800           887765         800570     177843.49   \n",
       "R057    12244522   1927           895935         852758       5765.79   \n",
       "R044    14378430   2292           897321         905942       6606.74   \n",
       "R021    13091705   2060           921754         884099       6186.95   \n",
       "R108    11751477   1835           936992         650427       5495.26   \n",
       "R178    12018686   2036           945340         917008       5586.01   \n",
       "R051    11856788   1903           951879         798118       5646.71   \n",
       "R047    12090204   2090           953822        1086742       5676.31   \n",
       "R168    12404027   2105           987022         933722       5735.48   \n",
       "R025    12765840   2116          1038087         898776       6156.93   \n",
       "R138    12326904   2046          1038214        1044483       5645.78   \n",
       "R175    11793293   2009          1065336         914655       5525.70   \n",
       "R452    12218145   2010          1068004        1003399       5525.89   \n",
       "R540   290707102  50326          1118847        1060240     132742.06   \n",
       "R023    12306738   1955          1272679        1313745       5825.82   \n",
       "R293    12330995   2273          1288343         982321       5766.38   \n",
       "R029    12336330   1985          1293260         741054       5886.10   \n",
       "R020    13347879   2086          1348414        1359083       6215.55   \n",
       "R018    15239532   2547          1389878        1153646       6937.73   \n",
       "R012    12663820   2107          1564752        1138409       6278.81   \n",
       "R011    12444789   1951          1582914        1280674       5917.53   \n",
       "R055    12410558   1963          1607534        1482767       5856.78   \n",
       "R179    13279493   2104          1618261        1598984       6065.56   \n",
       "R046    13711891   2175          1695150        1498240       6275.16   \n",
       "R033    13684746   2076          1711663        1112844       6066.10   \n",
       "R022    13475756   2103          1796932        1562407       6246.50   \n",
       "R084    16343447   2877          1809423        1415233       7658.28   \n",
       "R170    15435071   2813          2887918        2743585       7296.23   \n",
       "\n",
       "      maxdewpti  mindewpti  minpressurei  meandewpti  meanpressurei  fog  \\\n",
       "UNIT                                                                       \n",
       "R464       9329       7873       4872.84        8592        4884.84   26   \n",
       "R338      10043       8471       5230.36        9252        5243.37   33   \n",
       "R418      10046       8461       5261.03        9243        5274.00   29   \n",
       "R459       5332       4768       2476.37        5057        2482.77   27   \n",
       "R415      10641       8959       5560.11        9793        5573.59   30   \n",
       "R417       8822       7623       4455.00        8232        4466.30   30   \n",
       "R336       9237       7765       4842.33        8492        4853.96   27   \n",
       "R165      10591       8901       5560.01        9734        5573.43   30   \n",
       "R455       9637       8139       5021.77        8881        5034.03   29   \n",
       "R448      11093       9287       5829.22       10172        5843.34   31   \n",
       "R419      10261       8658       5350.84        9450        5363.80   30   \n",
       "R337       9541       8029       4991.95        8774        5004.15   28   \n",
       "R454       9544       8067       4962.41        8801        4974.55   29   \n",
       "R360      10179       8576       5321.41        9370        5334.32   30   \n",
       "R357      10308       8694       5380.62        9492        5393.64   30   \n",
       "R313       9257       7810       4842.40        8526        4854.12   27   \n",
       "R263      11675       9853       6007.16       10756        6022.26   38   \n",
       "R003       9800       8244       5141.81        9012        5154.34   29   \n",
       "R348       9901       8378       5140.66        9127        5153.17   29   \n",
       "R422      10154       8558       5290.45        9347        5303.23   31   \n",
       "R416      10287       8680       5380.70        9474        5393.76   31   \n",
       "R038      10207       8597       5289.89        9401        5303.38   34   \n",
       "R354       9413       7929       4902.64        8663        4914.72   28   \n",
       "R426      10410       8784       5440.46        9588        5453.63   30   \n",
       "R329      10133       8554       5291.01        9333        5303.87   30   \n",
       "R427      10230       8650       5320.84        9430        5333.74   30   \n",
       "R456      10720       9046       5588.85        9873        5602.78   36   \n",
       "R358       9462       7977       4932.37        8708        4944.49   28   \n",
       "R247       9370       7921       4872.71        8645        4884.59   28   \n",
       "R316      10604       8938       5530.14        9761        5543.54   31   \n",
       "...         ...        ...           ...         ...            ...  ...   \n",
       "R177      10674       8948       5619.73        9805        5633.16   30   \n",
       "R031      11079       9349       5799.82       10206        5813.73   34   \n",
       "R541     338541     285322     177021.48      311646      177448.90  981   \n",
       "R057      10926       9172       5739.19       10030        5753.13   31   \n",
       "R044      12629      10738       6576.89       11671        6592.39   34   \n",
       "R021      11717       9940       6158.49       10810        6173.25   31   \n",
       "R108      10497       8854       5469.68        9666        5482.97   32   \n",
       "R178      10669       9013       5560.21        9832        5573.63   33   \n",
       "R051      10728       9048       5620.52        9881        5634.09   30   \n",
       "R047      10810       9109       5650.00        9948        5663.68   32   \n",
       "R168      10931       9228       5708.80       10067        5722.71   32   \n",
       "R025      11625       9753       6127.89       10673        6143.05   35   \n",
       "R138      10796       9119       5619.56        9952        5633.14   31   \n",
       "R175      10504       8819       5500.15        9652        5513.43   30   \n",
       "R452      10521       8882       5500.42        9693        5513.68   31   \n",
       "R540     252031     212151     132134.60      231871      132448.28  701   \n",
       "R023      11075       9349       5799.09       10197        5812.97   30   \n",
       "R293      10946       9209       5739.74       10066        5753.74   31   \n",
       "R029      11168       9367       5859.25       10255        5873.20   31   \n",
       "R020      11872      10053       6186.44       10950        6201.53   32   \n",
       "R018      13283      11203       6902.12       12251        6920.60   48   \n",
       "R012      11868      10025       6249.92       10937        6264.95   32   \n",
       "R011      11276       9499       5889.95       10383        5904.18   35   \n",
       "R055      11134       9404       5829.97       10260        5843.86   30   \n",
       "R179      11605       9744       6037.05       10667        6051.81   34   \n",
       "R046      12005      10223       6246.29       11097        6261.35   36   \n",
       "R033      11723       9935       6038.68       10827        6052.88   31   \n",
       "R022      11889      10013       6218.34       10922        6232.85   32   \n",
       "R084      14523      12230       7623.18       13355        7641.88   42   \n",
       "R170      13885      11673       7262.49       12766        7279.81   40   \n",
       "\n",
       "      rain  meanwindspdi  mintempi  meantempi  maxtempi  precipi  thunder  \n",
       "UNIT                                                                       \n",
       "R464    54           911      9162      10486     11711    26.31        0  \n",
       "R338    60           984      9840      11263     12583    32.65        0  \n",
       "R418    56           946      9889      11333     12668    24.78        0  \n",
       "R459    42           466      5060       5641      6165    26.64        0  \n",
       "R415    61          1036     10442      11959     13365    31.58        0  \n",
       "R417    60           802      8468       9620     10679    31.08        0  \n",
       "R336    56           900      9063      10379     11598    29.59        0  \n",
       "R165    60          1032     10423      11941     13348    31.08        0  \n",
       "R455    56           928      9452      10814     12073    30.31        0  \n",
       "R448    63          1090     10910      12503     13979    33.93        0  \n",
       "R419    60           990     10061      11510     12852    31.08        0  \n",
       "R337    55           927      9363      10719     11976    29.42        0  \n",
       "R454    55           934      9356      10696     11937    29.14        0  \n",
       "R360    57           981     10006      11454     12798    30.67        0  \n",
       "R357    60           996     10116      11574     12924    31.08        0  \n",
       "R313    54           902      9086      10394     11608    27.08        0  \n",
       "R263    73          1093     11357      12977     14479    34.56        0  \n",
       "R003    59           956      9608      10988     12264    32.47        0  \n",
       "R348    58           949      9710      11106     12400    28.40        0  \n",
       "R422    61           981      9944      11371     12693    31.15        0  \n",
       "R416    61           993     10100      11560     12910    31.15        0  \n",
       "R038    62           982      9975      11394     12708    30.81        0  \n",
       "R354    54           897      9236      10564     11794    26.43        0  \n",
       "R426    60          1004     10220      11697     13065    31.08        0  \n",
       "R329    60           977      9942      11376     12703    31.08        0  \n",
       "R427    60           978     10024      11462     12794    31.08        0  \n",
       "R456    67          1010     10507      12012     13404    33.50        0  \n",
       "R358    55           917      9257      10592     11831    29.42        0  \n",
       "R247    57           897      9177      10483     11692    27.75        0  \n",
       "R316    61          1025     10409      11908     13297    31.18        0  \n",
       "...    ...           ...       ...        ...       ...      ...      ...  \n",
       "R177    61          1064     10514      12042     13457    31.75        0  \n",
       "R031    66          1074     10872      12446     13901    33.91        0  \n",
       "R541  1971         32855    332517     380521    424956  1024.51        0  \n",
       "R057    60          1071     10778      12345     13795    31.08        0  \n",
       "R044    75          1189     12392      14141     15756    37.33        0  \n",
       "R021    61          1117     11537      13235     14809    33.26        0  \n",
       "R108    62          1011     10287      11767     13137    32.86        0  \n",
       "R178    64          1040     10446      11950     13343    36.18        0  \n",
       "R051    62          1048     10527      12047     13454    31.92        0  \n",
       "R047    63          1052     10609      12139     13557    31.92        0  \n",
       "R168    64          1070     10718      12260     13688    34.77        0  \n",
       "R025    64          1131     11457      13149     14723    31.85        0  \n",
       "R138    63          1047     10583      12097     13500    32.02        0  \n",
       "R175    61          1020     10315      11815     13207    31.58        0  \n",
       "R452    61          1017     10326      11820     13203    33.26        0  \n",
       "R540  1453         24628    247726     283674    316970   764.52        0  \n",
       "R023    64          1098     10883      12431     13863    33.76        0  \n",
       "R293    60          1066     10768      12344     13805    31.08        0  \n",
       "R029    64          1082     10982      12584     14072    32.13        0  \n",
       "R020    70          1187     11625      13270     14790    35.78        0  \n",
       "R018    87          1257     12906      14758     16475    36.83        0  \n",
       "R012    65          1173     11647      13381     15000    34.84        0  \n",
       "R011    67          1086     11055      12657     14138    31.77        0  \n",
       "R055    64          1092     10930      12514     13980    33.09        0  \n",
       "R179    70          1112     11365      13017     14551    34.94        0  \n",
       "R046    78          1226     11724      13365     14883    46.17        0  \n",
       "R033    64          1115     11475      13106     14622    34.01        0  \n",
       "R022    62          1149     11738      13467     15081    33.33        0  \n",
       "R084    79          1427     14327      16411     18342    44.07        0  \n",
       "R170    85          1342     13573      15535     17354    45.53        0  \n",
       "\n",
       "[465 rows x 18 columns]"
      ]
     },
     "execution_count": 61,
     "metadata": {},
     "output_type": "execute_result"
    }
   ],
   "source": [
    "d"
   ]
  },
  {
   "cell_type": "code",
   "execution_count": null,
   "metadata": {
    "collapsed": true
   },
   "outputs": [],
   "source": []
  },
  {
   "cell_type": "code",
   "execution_count": null,
   "metadata": {
    "collapsed": true
   },
   "outputs": [],
   "source": []
  }
 ],
 "metadata": {
  "kernelspec": {
   "display_name": "Python 2",
   "language": "python",
   "name": "python2"
  },
  "language_info": {
   "codemirror_mode": {
    "name": "ipython",
    "version": 2
   },
   "file_extension": ".py",
   "mimetype": "text/x-python",
   "name": "python",
   "nbconvert_exporter": "python",
   "pygments_lexer": "ipython2",
   "version": "2.7.10"
  }
 },
 "nbformat": 4,
 "nbformat_minor": 0
}
