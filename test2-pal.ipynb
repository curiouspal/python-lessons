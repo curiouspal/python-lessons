{
 "cells": [
  {
   "cell_type": "markdown",
   "metadata": {},
   "source": [
    "# Learning Python"
   ]
  },
  {
   "cell_type": "code",
   "execution_count": 57,
   "metadata": {
    "collapsed": false
   },
   "outputs": [],
   "source": [
    "import numpy as np\n",
    "import pandas as pd\n",
    "import matplotlib\n",
    "import scipy\n",
    "import scipy.stats\n",
    "import json\n",
    "import requests\n",
    "from pprint import pprint\n",
    "from ggplot import *\n",
    "import csv"
   ]
  },
  {
   "cell_type": "markdown",
   "metadata": {},
   "source": [
    "## Strings "
   ]
  },
  {
   "cell_type": "code",
   "execution_count": 11,
   "metadata": {
    "collapsed": false
   },
   "outputs": [
    {
     "data": {
      "text/plain": [
       "'string string string string '"
      ]
     },
     "execution_count": 11,
     "metadata": {},
     "output_type": "execute_result"
    }
   ],
   "source": [
    "\"string \"*4"
   ]
  },
  {
   "cell_type": "code",
   "execution_count": 12,
   "metadata": {
    "collapsed": false
   },
   "outputs": [
    {
     "data": {
      "text/plain": [
       "'n'"
      ]
     },
     "execution_count": 12,
     "metadata": {},
     "output_type": "execute_result"
    }
   ],
   "source": [
    "'String'[4]"
   ]
  },
  {
   "cell_type": "code",
   "execution_count": 13,
   "metadata": {
    "collapsed": false
   },
   "outputs": [
    {
     "data": {
      "text/plain": [
       "7"
      ]
     },
     "execution_count": 13,
     "metadata": {},
     "output_type": "execute_result"
    }
   ],
   "source": [
    "len('strings')"
   ]
  },
  {
   "cell_type": "code",
   "execution_count": 15,
   "metadata": {
    "collapsed": false
   },
   "outputs": [
    {
     "data": {
      "text/plain": [
       "3"
      ]
     },
     "execution_count": 15,
     "metadata": {},
     "output_type": "execute_result"
    }
   ],
   "source": [
    "'Search String'.find('r')"
   ]
  },
  {
   "cell_type": "code",
   "execution_count": 21,
   "metadata": {
    "collapsed": false
   },
   "outputs": [
    {
     "data": {
      "text/plain": [
       "7"
      ]
     },
     "execution_count": 21,
     "metadata": {},
     "output_type": "execute_result"
    }
   ],
   "source": [
    "'Search String'.find('S', 2)"
   ]
  },
  {
   "cell_type": "code",
   "execution_count": 28,
   "metadata": {
    "collapsed": false
   },
   "outputs": [
    {
     "data": {
      "text/plain": [
       "-1"
      ]
     },
     "execution_count": 28,
     "metadata": {},
     "output_type": "execute_result"
    }
   ],
   "source": [
    "'Search String'.find('S', 8)"
   ]
  },
  {
   "cell_type": "code",
   "execution_count": 23,
   "metadata": {
    "collapsed": false
   },
   "outputs": [
    {
     "data": {
      "text/plain": [
       "'tri'"
      ]
     },
     "execution_count": 23,
     "metadata": {},
     "output_type": "execute_result"
    }
   ],
   "source": [
    "'String'[1:4]"
   ]
  },
  {
   "cell_type": "code",
   "execution_count": 25,
   "metadata": {
    "collapsed": false
   },
   "outputs": [
    {
     "data": {
      "text/plain": [
       "['Str', 'ng']"
      ]
     },
     "execution_count": 25,
     "metadata": {},
     "output_type": "execute_result"
    }
   ],
   "source": [
    " 'String'.split('i')"
   ]
  },
  {
   "cell_type": "code",
   "execution_count": 30,
   "metadata": {
    "collapsed": false
   },
   "outputs": [
    {
     "data": {
      "text/plain": [
       "98"
      ]
     },
     "execution_count": 30,
     "metadata": {},
     "output_type": "execute_result"
    }
   ],
   "source": [
    "ord('b')"
   ]
  },
  {
   "cell_type": "code",
   "execution_count": 33,
   "metadata": {
    "collapsed": false
   },
   "outputs": [
    {
     "data": {
      "text/plain": [
       "'b'"
      ]
     },
     "execution_count": 33,
     "metadata": {},
     "output_type": "execute_result"
    }
   ],
   "source": [
    "chr(98)"
   ]
  },
  {
   "cell_type": "code",
   "execution_count": 34,
   "metadata": {
    "collapsed": false
   },
   "outputs": [
    {
     "data": {
      "text/plain": [
       "'45'"
      ]
     },
     "execution_count": 34,
     "metadata": {},
     "output_type": "execute_result"
    }
   ],
   "source": [
    "str(45)"
   ]
  },
  {
   "cell_type": "markdown",
   "metadata": {},
   "source": [
    "## Lists"
   ]
  },
  {
   "cell_type": "markdown",
   "metadata": {},
   "source": [
    "We can create a list by writing range(start, stop, step)"
   ]
  },
  {
   "cell_type": "code",
   "execution_count": 37,
   "metadata": {
    "collapsed": false
   },
   "outputs": [
    {
     "data": {
      "text/plain": [
       "[0, 3, 6, 9]"
      ]
     },
     "execution_count": 37,
     "metadata": {},
     "output_type": "execute_result"
    }
   ],
   "source": [
    "range(0, 10, 3)"
   ]
  },
  {
   "cell_type": "code",
   "execution_count": 38,
   "metadata": {
    "collapsed": false
   },
   "outputs": [
    {
     "data": {
      "text/plain": [
       "[0, -1, -2, -3, -4, -5, -6, -7, -8, -9]"
      ]
     },
     "execution_count": 38,
     "metadata": {},
     "output_type": "execute_result"
    }
   ],
   "source": [
    "range(0, -10, -1)"
   ]
  },
  {
   "cell_type": "code",
   "execution_count": 39,
   "metadata": {
    "collapsed": false
   },
   "outputs": [
    {
     "data": {
      "text/plain": [
       "[]"
      ]
     },
     "execution_count": 39,
     "metadata": {},
     "output_type": "execute_result"
    }
   ],
   "source": [
    "range(1, 0)"
   ]
  },
  {
   "cell_type": "code",
   "execution_count": 40,
   "metadata": {
    "collapsed": false
   },
   "outputs": [
    {
     "data": {
      "text/plain": [
       "[0, 1, 2, 3, 4, 5, 6, 7, 8, 9]"
      ]
     },
     "execution_count": 40,
     "metadata": {},
     "output_type": "execute_result"
    }
   ],
   "source": [
    "range(10)"
   ]
  },
  {
   "cell_type": "code",
   "execution_count": 41,
   "metadata": {
    "collapsed": false
   },
   "outputs": [
    {
     "data": {
      "text/plain": [
       "[1, 2, 3, 4, 5, 6, 7, 8, 9, 10]"
      ]
     },
     "execution_count": 41,
     "metadata": {},
     "output_type": "execute_result"
    }
   ],
   "source": [
    "range(1, 11)"
   ]
  },
  {
   "cell_type": "code",
   "execution_count": 42,
   "metadata": {
    "collapsed": false
   },
   "outputs": [
    {
     "data": {
      "text/plain": [
       "[0, 1, 2, 3, 4, 5, 6, 7, 8, 9]"
      ]
     },
     "execution_count": 42,
     "metadata": {},
     "output_type": "execute_result"
    }
   ],
   "source": [
    "range(10)"
   ]
  },
  {
   "cell_type": "markdown",
   "metadata": {},
   "source": [
    "You can modify a list."
   ]
  },
  {
   "cell_type": "code",
   "execution_count": 52,
   "metadata": {
    "collapsed": false
   },
   "outputs": [
    {
     "data": {
      "text/plain": [
       "[1, 2, 33, 4, 5, 6]"
      ]
     },
     "execution_count": 52,
     "metadata": {},
     "output_type": "execute_result"
    }
   ],
   "source": [
    "list = [1, 2, 3, 4, 5, 6]\n",
    "list[2] = 33\n",
    "list"
   ]
  },
  {
   "cell_type": "code",
   "execution_count": 53,
   "metadata": {
    "collapsed": false
   },
   "outputs": [
    {
     "data": {
      "text/plain": [
       "[3, 4, 5, 6]"
      ]
     },
     "execution_count": 53,
     "metadata": {},
     "output_type": "execute_result"
    }
   ],
   "source": [
    "list = [1, 2, 3, 4, 5, 6]\n",
    "list1 = list[2:6] \n",
    "list1"
   ]
  },
  {
   "cell_type": "code",
   "execution_count": 55,
   "metadata": {
    "collapsed": false
   },
   "outputs": [
    {
     "data": {
      "text/plain": [
       "[1, 2, 3, 4, 5, 6, 'element']"
      ]
     },
     "execution_count": 55,
     "metadata": {},
     "output_type": "execute_result"
    }
   ],
   "source": [
    "list = [1, 2, 3, 4, 5, 6]\n",
    "list.append('element')\n",
    "list"
   ]
  },
  {
   "cell_type": "code",
   "execution_count": 56,
   "metadata": {
    "collapsed": false
   },
   "outputs": [
    {
     "data": {
      "text/plain": [
       "[1, 2, 3, 4, 5]"
      ]
     },
     "execution_count": 56,
     "metadata": {},
     "output_type": "execute_result"
    }
   ],
   "source": [
    "list1 = [1, 2, 3]\n",
    "list2 = [4, 5]\n",
    "list1+list2"
   ]
  },
  {
   "cell_type": "code",
   "execution_count": 57,
   "metadata": {
    "collapsed": false
   },
   "outputs": [
    {
     "data": {
      "text/plain": [
       "'x'"
      ]
     },
     "execution_count": 57,
     "metadata": {},
     "output_type": "execute_result"
    }
   ],
   "source": [
    "list = [1, 2, 3, 4, 'x', 'a']\n",
    "list.pop(4)"
   ]
  },
  {
   "cell_type": "code",
   "execution_count": 59,
   "metadata": {
    "collapsed": false
   },
   "outputs": [
    {
     "data": {
      "text/plain": [
       "'a'"
      ]
     },
     "execution_count": 59,
     "metadata": {},
     "output_type": "execute_result"
    }
   ],
   "source": [
    "list = [1, 2, 3, 4, 'x', 'a']\n",
    "list.pop()"
   ]
  },
  {
   "cell_type": "code",
   "execution_count": 58,
   "metadata": {
    "collapsed": false
   },
   "outputs": [
    {
     "ename": "IndexError",
     "evalue": "pop from empty list",
     "output_type": "error",
     "traceback": [
      "\u001b[1;31m---------------------------------------------------------------------------\u001b[0m",
      "\u001b[1;31mIndexError\u001b[0m                                Traceback (most recent call last)",
      "\u001b[1;32m<ipython-input-58-818409a8e42d>\u001b[0m in \u001b[0;36m<module>\u001b[1;34m()\u001b[0m\n\u001b[1;32m----> 1\u001b[1;33m \u001b[1;33m[\u001b[0m\u001b[1;33m]\u001b[0m\u001b[1;33m.\u001b[0m\u001b[0mpop\u001b[0m\u001b[1;33m(\u001b[0m\u001b[1;33m)\u001b[0m\u001b[1;33m\u001b[0m\u001b[0m\n\u001b[0m",
      "\u001b[1;31mIndexError\u001b[0m: pop from empty list"
     ]
    }
   ],
   "source": [
    "[].pop()"
   ]
  },
  {
   "cell_type": "code",
   "execution_count": 60,
   "metadata": {
    "collapsed": false
   },
   "outputs": [
    {
     "data": {
      "text/plain": [
       "4"
      ]
     },
     "execution_count": 60,
     "metadata": {},
     "output_type": "execute_result"
    }
   ],
   "source": [
    "list = [1, 2, 3, 4, 'x', 'a']\n",
    "list.index('x')"
   ]
  },
  {
   "cell_type": "code",
   "execution_count": 65,
   "metadata": {
    "collapsed": false
   },
   "outputs": [
    {
     "data": {
      "text/plain": [
       "(False, True)"
      ]
     },
     "execution_count": 65,
     "metadata": {},
     "output_type": "execute_result"
    }
   ],
   "source": [
    "list1 = [1, 2, 3, 4, 'x', 'a']\n",
    "'a' not in list1, 10 not in list1"
   ]
  },
  {
   "cell_type": "markdown",
   "metadata": {},
   "source": [
    "## Dictionaries"
   ]
  },
  {
   "cell_type": "markdown",
   "metadata": {
    "collapsed": true
   },
   "source": [
    "A Dictionary provides a mapping between keys, which can be values of any immutable type, and values, which can be any value. Because a Dictionary is implemented using a hash table, the time to lookup a value does not increase (significantly) even when the number of keys increases.\n",
    "\n",
    "Constructing a Dictionary. A Dictionary is a set of zero or more key-value pairs, surrounded by squiggly braces:"
   ]
  },
  {
   "cell_type": "code",
   "execution_count": 66,
   "metadata": {
    "collapsed": false
   },
   "outputs": [
    {
     "data": {
      "text/plain": [
       "'pear'"
      ]
     },
     "execution_count": 66,
     "metadata": {},
     "output_type": "execute_result"
    }
   ],
   "source": [
    "x = { 'key1': 'apple', 'key2': 'banana', 'key3': 'pear'}\n",
    "x['key3']"
   ]
  },
  {
   "cell_type": "code",
   "execution_count": 68,
   "metadata": {
    "collapsed": false
   },
   "outputs": [
    {
     "data": {
      "text/plain": [
       "(False, True)"
      ]
     },
     "execution_count": 68,
     "metadata": {},
     "output_type": "execute_result"
    }
   ],
   "source": [
    "x = { 'key1': 'apple', 'key2': 'banana', 'key3': 'pear'}\n",
    "'key4' in x, 'key2' in x"
   ]
  },
  {
   "cell_type": "code",
   "execution_count": 78,
   "metadata": {
    "collapsed": false
   },
   "outputs": [
    {
     "data": {
      "text/plain": [
       "4.170946"
      ]
     },
     "execution_count": 78,
     "metadata": {},
     "output_type": "execute_result"
    }
   ],
   "source": [
    "import time\n",
    "time.clock()"
   ]
  },
  {
   "cell_type": "code",
   "execution_count": 82,
   "metadata": {
    "collapsed": false
   },
   "outputs": [
    {
     "name": "stdout",
     "output_type": "stream",
     "text": [
      "Object `except` not found.\n"
     ]
    }
   ],
   "source": [
    "?except"
   ]
  },
  {
   "cell_type": "markdown",
   "metadata": {},
   "source": [
    "## Pandas dataframe"
   ]
  },
  {
   "cell_type": "markdown",
   "metadata": {},
   "source": [
    "It extends the Python's basic data structures and allows better memory management for data analysis. Its more useful than R data.frame data structure. Also Series().  "
   ]
  },
  {
   "cell_type": "code",
   "execution_count": 23,
   "metadata": {
    "collapsed": false
   },
   "outputs": [
    {
     "data": {
      "text/html": [
       "<div>\n",
       "<table border=\"1\" class=\"dataframe\">\n",
       "  <thead>\n",
       "    <tr style=\"text-align: right;\">\n",
       "      <th></th>\n",
       "      <th>Unnamed: 0</th>\n",
       "      <th>UNIT</th>\n",
       "      <th>DATEn</th>\n",
       "      <th>TIMEn</th>\n",
       "      <th>Hour</th>\n",
       "      <th>DESCn</th>\n",
       "      <th>ENTRIESn_hourly</th>\n",
       "      <th>EXITSn_hourly</th>\n",
       "      <th>maxpressurei</th>\n",
       "      <th>maxdewpti</th>\n",
       "      <th>...</th>\n",
       "      <th>meandewpti</th>\n",
       "      <th>meanpressurei</th>\n",
       "      <th>fog</th>\n",
       "      <th>rain</th>\n",
       "      <th>meanwindspdi</th>\n",
       "      <th>mintempi</th>\n",
       "      <th>meantempi</th>\n",
       "      <th>maxtempi</th>\n",
       "      <th>precipi</th>\n",
       "      <th>thunder</th>\n",
       "    </tr>\n",
       "  </thead>\n",
       "  <tbody>\n",
       "    <tr>\n",
       "      <th>0</th>\n",
       "      <td>0</td>\n",
       "      <td>R001</td>\n",
       "      <td>2011-05-01</td>\n",
       "      <td>01:00:00</td>\n",
       "      <td>1</td>\n",
       "      <td>REGULAR</td>\n",
       "      <td>0</td>\n",
       "      <td>0</td>\n",
       "      <td>30.31</td>\n",
       "      <td>42</td>\n",
       "      <td>...</td>\n",
       "      <td>39</td>\n",
       "      <td>30.27</td>\n",
       "      <td>0</td>\n",
       "      <td>0</td>\n",
       "      <td>5</td>\n",
       "      <td>50</td>\n",
       "      <td>60</td>\n",
       "      <td>69</td>\n",
       "      <td>0.00</td>\n",
       "      <td>0</td>\n",
       "    </tr>\n",
       "    <tr>\n",
       "      <th>1</th>\n",
       "      <td>1</td>\n",
       "      <td>R001</td>\n",
       "      <td>2011-05-01</td>\n",
       "      <td>05:00:00</td>\n",
       "      <td>5</td>\n",
       "      <td>REGULAR</td>\n",
       "      <td>217</td>\n",
       "      <td>553</td>\n",
       "      <td>30.31</td>\n",
       "      <td>42</td>\n",
       "      <td>...</td>\n",
       "      <td>39</td>\n",
       "      <td>30.27</td>\n",
       "      <td>0</td>\n",
       "      <td>0</td>\n",
       "      <td>5</td>\n",
       "      <td>50</td>\n",
       "      <td>60</td>\n",
       "      <td>69</td>\n",
       "      <td>0.00</td>\n",
       "      <td>0</td>\n",
       "    </tr>\n",
       "    <tr>\n",
       "      <th>2</th>\n",
       "      <td>2</td>\n",
       "      <td>R001</td>\n",
       "      <td>2011-05-01</td>\n",
       "      <td>09:00:00</td>\n",
       "      <td>9</td>\n",
       "      <td>REGULAR</td>\n",
       "      <td>890</td>\n",
       "      <td>1262</td>\n",
       "      <td>30.31</td>\n",
       "      <td>42</td>\n",
       "      <td>...</td>\n",
       "      <td>39</td>\n",
       "      <td>30.27</td>\n",
       "      <td>0</td>\n",
       "      <td>0</td>\n",
       "      <td>5</td>\n",
       "      <td>50</td>\n",
       "      <td>60</td>\n",
       "      <td>69</td>\n",
       "      <td>0.00</td>\n",
       "      <td>0</td>\n",
       "    </tr>\n",
       "    <tr>\n",
       "      <th>3</th>\n",
       "      <td>3</td>\n",
       "      <td>R001</td>\n",
       "      <td>2011-05-01</td>\n",
       "      <td>13:00:00</td>\n",
       "      <td>13</td>\n",
       "      <td>REGULAR</td>\n",
       "      <td>2451</td>\n",
       "      <td>3708</td>\n",
       "      <td>30.31</td>\n",
       "      <td>42</td>\n",
       "      <td>...</td>\n",
       "      <td>39</td>\n",
       "      <td>30.27</td>\n",
       "      <td>0</td>\n",
       "      <td>0</td>\n",
       "      <td>5</td>\n",
       "      <td>50</td>\n",
       "      <td>60</td>\n",
       "      <td>69</td>\n",
       "      <td>0.00</td>\n",
       "      <td>0</td>\n",
       "    </tr>\n",
       "    <tr>\n",
       "      <th>4</th>\n",
       "      <td>4</td>\n",
       "      <td>R001</td>\n",
       "      <td>2011-05-01</td>\n",
       "      <td>17:00:00</td>\n",
       "      <td>17</td>\n",
       "      <td>REGULAR</td>\n",
       "      <td>4400</td>\n",
       "      <td>2501</td>\n",
       "      <td>30.31</td>\n",
       "      <td>42</td>\n",
       "      <td>...</td>\n",
       "      <td>39</td>\n",
       "      <td>30.27</td>\n",
       "      <td>0</td>\n",
       "      <td>0</td>\n",
       "      <td>5</td>\n",
       "      <td>50</td>\n",
       "      <td>60</td>\n",
       "      <td>69</td>\n",
       "      <td>0.00</td>\n",
       "      <td>0</td>\n",
       "    </tr>\n",
       "    <tr>\n",
       "      <th>5</th>\n",
       "      <td>5</td>\n",
       "      <td>R001</td>\n",
       "      <td>2011-05-01</td>\n",
       "      <td>21:00:00</td>\n",
       "      <td>21</td>\n",
       "      <td>REGULAR</td>\n",
       "      <td>3372</td>\n",
       "      <td>2122</td>\n",
       "      <td>30.31</td>\n",
       "      <td>42</td>\n",
       "      <td>...</td>\n",
       "      <td>39</td>\n",
       "      <td>30.27</td>\n",
       "      <td>0</td>\n",
       "      <td>0</td>\n",
       "      <td>5</td>\n",
       "      <td>50</td>\n",
       "      <td>60</td>\n",
       "      <td>69</td>\n",
       "      <td>0.00</td>\n",
       "      <td>0</td>\n",
       "    </tr>\n",
       "    <tr>\n",
       "      <th>6</th>\n",
       "      <td>6</td>\n",
       "      <td>R002</td>\n",
       "      <td>2011-05-01</td>\n",
       "      <td>01:00:00</td>\n",
       "      <td>1</td>\n",
       "      <td>REGULAR</td>\n",
       "      <td>0</td>\n",
       "      <td>0</td>\n",
       "      <td>30.31</td>\n",
       "      <td>42</td>\n",
       "      <td>...</td>\n",
       "      <td>39</td>\n",
       "      <td>30.27</td>\n",
       "      <td>0</td>\n",
       "      <td>0</td>\n",
       "      <td>5</td>\n",
       "      <td>50</td>\n",
       "      <td>60</td>\n",
       "      <td>69</td>\n",
       "      <td>0.00</td>\n",
       "      <td>0</td>\n",
       "    </tr>\n",
       "    <tr>\n",
       "      <th>7</th>\n",
       "      <td>7</td>\n",
       "      <td>R002</td>\n",
       "      <td>2011-05-01</td>\n",
       "      <td>05:00:00</td>\n",
       "      <td>5</td>\n",
       "      <td>REGULAR</td>\n",
       "      <td>42</td>\n",
       "      <td>66</td>\n",
       "      <td>30.31</td>\n",
       "      <td>42</td>\n",
       "      <td>...</td>\n",
       "      <td>39</td>\n",
       "      <td>30.27</td>\n",
       "      <td>0</td>\n",
       "      <td>0</td>\n",
       "      <td>5</td>\n",
       "      <td>50</td>\n",
       "      <td>60</td>\n",
       "      <td>69</td>\n",
       "      <td>0.00</td>\n",
       "      <td>0</td>\n",
       "    </tr>\n",
       "    <tr>\n",
       "      <th>8</th>\n",
       "      <td>8</td>\n",
       "      <td>R002</td>\n",
       "      <td>2011-05-01</td>\n",
       "      <td>09:00:00</td>\n",
       "      <td>9</td>\n",
       "      <td>REGULAR</td>\n",
       "      <td>50</td>\n",
       "      <td>125</td>\n",
       "      <td>30.31</td>\n",
       "      <td>42</td>\n",
       "      <td>...</td>\n",
       "      <td>39</td>\n",
       "      <td>30.27</td>\n",
       "      <td>0</td>\n",
       "      <td>0</td>\n",
       "      <td>5</td>\n",
       "      <td>50</td>\n",
       "      <td>60</td>\n",
       "      <td>69</td>\n",
       "      <td>0.00</td>\n",
       "      <td>0</td>\n",
       "    </tr>\n",
       "    <tr>\n",
       "      <th>9</th>\n",
       "      <td>9</td>\n",
       "      <td>R002</td>\n",
       "      <td>2011-05-01</td>\n",
       "      <td>13:00:00</td>\n",
       "      <td>13</td>\n",
       "      <td>REGULAR</td>\n",
       "      <td>316</td>\n",
       "      <td>716</td>\n",
       "      <td>30.31</td>\n",
       "      <td>42</td>\n",
       "      <td>...</td>\n",
       "      <td>39</td>\n",
       "      <td>30.27</td>\n",
       "      <td>0</td>\n",
       "      <td>0</td>\n",
       "      <td>5</td>\n",
       "      <td>50</td>\n",
       "      <td>60</td>\n",
       "      <td>69</td>\n",
       "      <td>0.00</td>\n",
       "      <td>0</td>\n",
       "    </tr>\n",
       "    <tr>\n",
       "      <th>10</th>\n",
       "      <td>10</td>\n",
       "      <td>R002</td>\n",
       "      <td>2011-05-01</td>\n",
       "      <td>17:00:00</td>\n",
       "      <td>17</td>\n",
       "      <td>REGULAR</td>\n",
       "      <td>633</td>\n",
       "      <td>968</td>\n",
       "      <td>30.31</td>\n",
       "      <td>42</td>\n",
       "      <td>...</td>\n",
       "      <td>39</td>\n",
       "      <td>30.27</td>\n",
       "      <td>0</td>\n",
       "      <td>0</td>\n",
       "      <td>5</td>\n",
       "      <td>50</td>\n",
       "      <td>60</td>\n",
       "      <td>69</td>\n",
       "      <td>0.00</td>\n",
       "      <td>0</td>\n",
       "    </tr>\n",
       "    <tr>\n",
       "      <th>11</th>\n",
       "      <td>11</td>\n",
       "      <td>R002</td>\n",
       "      <td>2011-05-01</td>\n",
       "      <td>21:00:00</td>\n",
       "      <td>21</td>\n",
       "      <td>REGULAR</td>\n",
       "      <td>639</td>\n",
       "      <td>566</td>\n",
       "      <td>30.31</td>\n",
       "      <td>42</td>\n",
       "      <td>...</td>\n",
       "      <td>39</td>\n",
       "      <td>30.27</td>\n",
       "      <td>0</td>\n",
       "      <td>0</td>\n",
       "      <td>5</td>\n",
       "      <td>50</td>\n",
       "      <td>60</td>\n",
       "      <td>69</td>\n",
       "      <td>0.00</td>\n",
       "      <td>0</td>\n",
       "    </tr>\n",
       "    <tr>\n",
       "      <th>12</th>\n",
       "      <td>12</td>\n",
       "      <td>R003</td>\n",
       "      <td>2011-05-01</td>\n",
       "      <td>00:00:00</td>\n",
       "      <td>0</td>\n",
       "      <td>REGULAR</td>\n",
       "      <td>0</td>\n",
       "      <td>0</td>\n",
       "      <td>30.31</td>\n",
       "      <td>42</td>\n",
       "      <td>...</td>\n",
       "      <td>39</td>\n",
       "      <td>30.27</td>\n",
       "      <td>0</td>\n",
       "      <td>0</td>\n",
       "      <td>5</td>\n",
       "      <td>50</td>\n",
       "      <td>60</td>\n",
       "      <td>69</td>\n",
       "      <td>0.00</td>\n",
       "      <td>0</td>\n",
       "    </tr>\n",
       "    <tr>\n",
       "      <th>13</th>\n",
       "      <td>13</td>\n",
       "      <td>R003</td>\n",
       "      <td>2011-05-01</td>\n",
       "      <td>04:00:00</td>\n",
       "      <td>4</td>\n",
       "      <td>REGULAR</td>\n",
       "      <td>0</td>\n",
       "      <td>0</td>\n",
       "      <td>30.31</td>\n",
       "      <td>42</td>\n",
       "      <td>...</td>\n",
       "      <td>39</td>\n",
       "      <td>30.27</td>\n",
       "      <td>0</td>\n",
       "      <td>0</td>\n",
       "      <td>5</td>\n",
       "      <td>50</td>\n",
       "      <td>60</td>\n",
       "      <td>69</td>\n",
       "      <td>0.00</td>\n",
       "      <td>0</td>\n",
       "    </tr>\n",
       "    <tr>\n",
       "      <th>14</th>\n",
       "      <td>14</td>\n",
       "      <td>R003</td>\n",
       "      <td>2011-05-01</td>\n",
       "      <td>12:00:00</td>\n",
       "      <td>12</td>\n",
       "      <td>REGULAR</td>\n",
       "      <td>0</td>\n",
       "      <td>0</td>\n",
       "      <td>30.31</td>\n",
       "      <td>42</td>\n",
       "      <td>...</td>\n",
       "      <td>39</td>\n",
       "      <td>30.27</td>\n",
       "      <td>0</td>\n",
       "      <td>0</td>\n",
       "      <td>5</td>\n",
       "      <td>50</td>\n",
       "      <td>60</td>\n",
       "      <td>69</td>\n",
       "      <td>0.00</td>\n",
       "      <td>0</td>\n",
       "    </tr>\n",
       "    <tr>\n",
       "      <th>15</th>\n",
       "      <td>15</td>\n",
       "      <td>R003</td>\n",
       "      <td>2011-05-01</td>\n",
       "      <td>16:00:00</td>\n",
       "      <td>16</td>\n",
       "      <td>REGULAR</td>\n",
       "      <td>0</td>\n",
       "      <td>0</td>\n",
       "      <td>30.31</td>\n",
       "      <td>42</td>\n",
       "      <td>...</td>\n",
       "      <td>39</td>\n",
       "      <td>30.27</td>\n",
       "      <td>0</td>\n",
       "      <td>0</td>\n",
       "      <td>5</td>\n",
       "      <td>50</td>\n",
       "      <td>60</td>\n",
       "      <td>69</td>\n",
       "      <td>0.00</td>\n",
       "      <td>0</td>\n",
       "    </tr>\n",
       "    <tr>\n",
       "      <th>16</th>\n",
       "      <td>16</td>\n",
       "      <td>R003</td>\n",
       "      <td>2011-05-01</td>\n",
       "      <td>20:00:00</td>\n",
       "      <td>20</td>\n",
       "      <td>REGULAR</td>\n",
       "      <td>0</td>\n",
       "      <td>0</td>\n",
       "      <td>30.31</td>\n",
       "      <td>42</td>\n",
       "      <td>...</td>\n",
       "      <td>39</td>\n",
       "      <td>30.27</td>\n",
       "      <td>0</td>\n",
       "      <td>0</td>\n",
       "      <td>5</td>\n",
       "      <td>50</td>\n",
       "      <td>60</td>\n",
       "      <td>69</td>\n",
       "      <td>0.00</td>\n",
       "      <td>0</td>\n",
       "    </tr>\n",
       "    <tr>\n",
       "      <th>17</th>\n",
       "      <td>17</td>\n",
       "      <td>R004</td>\n",
       "      <td>2011-05-01</td>\n",
       "      <td>00:00:00</td>\n",
       "      <td>0</td>\n",
       "      <td>REGULAR</td>\n",
       "      <td>0</td>\n",
       "      <td>0</td>\n",
       "      <td>30.31</td>\n",
       "      <td>42</td>\n",
       "      <td>...</td>\n",
       "      <td>39</td>\n",
       "      <td>30.27</td>\n",
       "      <td>0</td>\n",
       "      <td>0</td>\n",
       "      <td>5</td>\n",
       "      <td>50</td>\n",
       "      <td>60</td>\n",
       "      <td>69</td>\n",
       "      <td>0.00</td>\n",
       "      <td>0</td>\n",
       "    </tr>\n",
       "    <tr>\n",
       "      <th>18</th>\n",
       "      <td>18</td>\n",
       "      <td>R004</td>\n",
       "      <td>2011-05-01</td>\n",
       "      <td>04:00:00</td>\n",
       "      <td>4</td>\n",
       "      <td>REGULAR</td>\n",
       "      <td>0</td>\n",
       "      <td>0</td>\n",
       "      <td>30.31</td>\n",
       "      <td>42</td>\n",
       "      <td>...</td>\n",
       "      <td>39</td>\n",
       "      <td>30.27</td>\n",
       "      <td>0</td>\n",
       "      <td>0</td>\n",
       "      <td>5</td>\n",
       "      <td>50</td>\n",
       "      <td>60</td>\n",
       "      <td>69</td>\n",
       "      <td>0.00</td>\n",
       "      <td>0</td>\n",
       "    </tr>\n",
       "    <tr>\n",
       "      <th>19</th>\n",
       "      <td>19</td>\n",
       "      <td>R004</td>\n",
       "      <td>2011-05-01</td>\n",
       "      <td>08:00:00</td>\n",
       "      <td>8</td>\n",
       "      <td>REGULAR</td>\n",
       "      <td>0</td>\n",
       "      <td>0</td>\n",
       "      <td>30.31</td>\n",
       "      <td>42</td>\n",
       "      <td>...</td>\n",
       "      <td>39</td>\n",
       "      <td>30.27</td>\n",
       "      <td>0</td>\n",
       "      <td>0</td>\n",
       "      <td>5</td>\n",
       "      <td>50</td>\n",
       "      <td>60</td>\n",
       "      <td>69</td>\n",
       "      <td>0.00</td>\n",
       "      <td>0</td>\n",
       "    </tr>\n",
       "    <tr>\n",
       "      <th>20</th>\n",
       "      <td>20</td>\n",
       "      <td>R004</td>\n",
       "      <td>2011-05-01</td>\n",
       "      <td>12:00:00</td>\n",
       "      <td>12</td>\n",
       "      <td>REGULAR</td>\n",
       "      <td>0</td>\n",
       "      <td>0</td>\n",
       "      <td>30.31</td>\n",
       "      <td>42</td>\n",
       "      <td>...</td>\n",
       "      <td>39</td>\n",
       "      <td>30.27</td>\n",
       "      <td>0</td>\n",
       "      <td>0</td>\n",
       "      <td>5</td>\n",
       "      <td>50</td>\n",
       "      <td>60</td>\n",
       "      <td>69</td>\n",
       "      <td>0.00</td>\n",
       "      <td>0</td>\n",
       "    </tr>\n",
       "    <tr>\n",
       "      <th>21</th>\n",
       "      <td>21</td>\n",
       "      <td>R004</td>\n",
       "      <td>2011-05-01</td>\n",
       "      <td>16:00:00</td>\n",
       "      <td>16</td>\n",
       "      <td>REGULAR</td>\n",
       "      <td>0</td>\n",
       "      <td>0</td>\n",
       "      <td>30.31</td>\n",
       "      <td>42</td>\n",
       "      <td>...</td>\n",
       "      <td>39</td>\n",
       "      <td>30.27</td>\n",
       "      <td>0</td>\n",
       "      <td>0</td>\n",
       "      <td>5</td>\n",
       "      <td>50</td>\n",
       "      <td>60</td>\n",
       "      <td>69</td>\n",
       "      <td>0.00</td>\n",
       "      <td>0</td>\n",
       "    </tr>\n",
       "    <tr>\n",
       "      <th>22</th>\n",
       "      <td>22</td>\n",
       "      <td>R004</td>\n",
       "      <td>2011-05-01</td>\n",
       "      <td>20:00:00</td>\n",
       "      <td>20</td>\n",
       "      <td>REGULAR</td>\n",
       "      <td>0</td>\n",
       "      <td>0</td>\n",
       "      <td>30.31</td>\n",
       "      <td>42</td>\n",
       "      <td>...</td>\n",
       "      <td>39</td>\n",
       "      <td>30.27</td>\n",
       "      <td>0</td>\n",
       "      <td>0</td>\n",
       "      <td>5</td>\n",
       "      <td>50</td>\n",
       "      <td>60</td>\n",
       "      <td>69</td>\n",
       "      <td>0.00</td>\n",
       "      <td>0</td>\n",
       "    </tr>\n",
       "    <tr>\n",
       "      <th>23</th>\n",
       "      <td>23</td>\n",
       "      <td>R005</td>\n",
       "      <td>2011-05-01</td>\n",
       "      <td>00:00:00</td>\n",
       "      <td>0</td>\n",
       "      <td>REGULAR</td>\n",
       "      <td>0</td>\n",
       "      <td>0</td>\n",
       "      <td>30.31</td>\n",
       "      <td>42</td>\n",
       "      <td>...</td>\n",
       "      <td>39</td>\n",
       "      <td>30.27</td>\n",
       "      <td>0</td>\n",
       "      <td>0</td>\n",
       "      <td>5</td>\n",
       "      <td>50</td>\n",
       "      <td>60</td>\n",
       "      <td>69</td>\n",
       "      <td>0.00</td>\n",
       "      <td>0</td>\n",
       "    </tr>\n",
       "    <tr>\n",
       "      <th>24</th>\n",
       "      <td>24</td>\n",
       "      <td>R005</td>\n",
       "      <td>2011-05-01</td>\n",
       "      <td>04:00:00</td>\n",
       "      <td>4</td>\n",
       "      <td>REGULAR</td>\n",
       "      <td>0</td>\n",
       "      <td>2</td>\n",
       "      <td>30.31</td>\n",
       "      <td>42</td>\n",
       "      <td>...</td>\n",
       "      <td>39</td>\n",
       "      <td>30.27</td>\n",
       "      <td>0</td>\n",
       "      <td>0</td>\n",
       "      <td>5</td>\n",
       "      <td>50</td>\n",
       "      <td>60</td>\n",
       "      <td>69</td>\n",
       "      <td>0.00</td>\n",
       "      <td>0</td>\n",
       "    </tr>\n",
       "    <tr>\n",
       "      <th>25</th>\n",
       "      <td>25</td>\n",
       "      <td>R005</td>\n",
       "      <td>2011-05-01</td>\n",
       "      <td>12:00:00</td>\n",
       "      <td>12</td>\n",
       "      <td>REGULAR</td>\n",
       "      <td>0</td>\n",
       "      <td>2</td>\n",
       "      <td>30.31</td>\n",
       "      <td>42</td>\n",
       "      <td>...</td>\n",
       "      <td>39</td>\n",
       "      <td>30.27</td>\n",
       "      <td>0</td>\n",
       "      <td>0</td>\n",
       "      <td>5</td>\n",
       "      <td>50</td>\n",
       "      <td>60</td>\n",
       "      <td>69</td>\n",
       "      <td>0.00</td>\n",
       "      <td>0</td>\n",
       "    </tr>\n",
       "    <tr>\n",
       "      <th>26</th>\n",
       "      <td>26</td>\n",
       "      <td>R005</td>\n",
       "      <td>2011-05-01</td>\n",
       "      <td>16:00:00</td>\n",
       "      <td>16</td>\n",
       "      <td>REGULAR</td>\n",
       "      <td>1</td>\n",
       "      <td>7</td>\n",
       "      <td>30.31</td>\n",
       "      <td>42</td>\n",
       "      <td>...</td>\n",
       "      <td>39</td>\n",
       "      <td>30.27</td>\n",
       "      <td>0</td>\n",
       "      <td>0</td>\n",
       "      <td>5</td>\n",
       "      <td>50</td>\n",
       "      <td>60</td>\n",
       "      <td>69</td>\n",
       "      <td>0.00</td>\n",
       "      <td>0</td>\n",
       "    </tr>\n",
       "    <tr>\n",
       "      <th>27</th>\n",
       "      <td>27</td>\n",
       "      <td>R005</td>\n",
       "      <td>2011-05-01</td>\n",
       "      <td>20:00:00</td>\n",
       "      <td>20</td>\n",
       "      <td>REGULAR</td>\n",
       "      <td>0</td>\n",
       "      <td>0</td>\n",
       "      <td>30.31</td>\n",
       "      <td>42</td>\n",
       "      <td>...</td>\n",
       "      <td>39</td>\n",
       "      <td>30.27</td>\n",
       "      <td>0</td>\n",
       "      <td>0</td>\n",
       "      <td>5</td>\n",
       "      <td>50</td>\n",
       "      <td>60</td>\n",
       "      <td>69</td>\n",
       "      <td>0.00</td>\n",
       "      <td>0</td>\n",
       "    </tr>\n",
       "    <tr>\n",
       "      <th>28</th>\n",
       "      <td>28</td>\n",
       "      <td>R006</td>\n",
       "      <td>2011-05-01</td>\n",
       "      <td>00:00:00</td>\n",
       "      <td>0</td>\n",
       "      <td>REGULAR</td>\n",
       "      <td>0</td>\n",
       "      <td>0</td>\n",
       "      <td>30.31</td>\n",
       "      <td>42</td>\n",
       "      <td>...</td>\n",
       "      <td>39</td>\n",
       "      <td>30.27</td>\n",
       "      <td>0</td>\n",
       "      <td>0</td>\n",
       "      <td>5</td>\n",
       "      <td>50</td>\n",
       "      <td>60</td>\n",
       "      <td>69</td>\n",
       "      <td>0.00</td>\n",
       "      <td>0</td>\n",
       "    </tr>\n",
       "    <tr>\n",
       "      <th>29</th>\n",
       "      <td>29</td>\n",
       "      <td>R006</td>\n",
       "      <td>2011-05-01</td>\n",
       "      <td>04:00:00</td>\n",
       "      <td>4</td>\n",
       "      <td>REGULAR</td>\n",
       "      <td>0</td>\n",
       "      <td>1</td>\n",
       "      <td>30.31</td>\n",
       "      <td>42</td>\n",
       "      <td>...</td>\n",
       "      <td>39</td>\n",
       "      <td>30.27</td>\n",
       "      <td>0</td>\n",
       "      <td>0</td>\n",
       "      <td>5</td>\n",
       "      <td>50</td>\n",
       "      <td>60</td>\n",
       "      <td>69</td>\n",
       "      <td>0.00</td>\n",
       "      <td>0</td>\n",
       "    </tr>\n",
       "    <tr>\n",
       "      <th>...</th>\n",
       "      <td>...</td>\n",
       "      <td>...</td>\n",
       "      <td>...</td>\n",
       "      <td>...</td>\n",
       "      <td>...</td>\n",
       "      <td>...</td>\n",
       "      <td>...</td>\n",
       "      <td>...</td>\n",
       "      <td>...</td>\n",
       "      <td>...</td>\n",
       "      <td>...</td>\n",
       "      <td>...</td>\n",
       "      <td>...</td>\n",
       "      <td>...</td>\n",
       "      <td>...</td>\n",
       "      <td>...</td>\n",
       "      <td>...</td>\n",
       "      <td>...</td>\n",
       "      <td>...</td>\n",
       "      <td>...</td>\n",
       "      <td>...</td>\n",
       "    </tr>\n",
       "    <tr>\n",
       "      <th>131921</th>\n",
       "      <td>131921</td>\n",
       "      <td>R552</td>\n",
       "      <td>2011-05-30</td>\n",
       "      <td>17:55:25</td>\n",
       "      <td>17</td>\n",
       "      <td>REGULAR</td>\n",
       "      <td>6</td>\n",
       "      <td>2</td>\n",
       "      <td>30.13</td>\n",
       "      <td>70</td>\n",
       "      <td>...</td>\n",
       "      <td>68</td>\n",
       "      <td>30.08</td>\n",
       "      <td>0</td>\n",
       "      <td>1</td>\n",
       "      <td>5</td>\n",
       "      <td>70</td>\n",
       "      <td>78</td>\n",
       "      <td>86</td>\n",
       "      <td>0.29</td>\n",
       "      <td>0</td>\n",
       "    </tr>\n",
       "    <tr>\n",
       "      <th>131922</th>\n",
       "      <td>131922</td>\n",
       "      <td>R552</td>\n",
       "      <td>2011-05-30</td>\n",
       "      <td>18:09:09</td>\n",
       "      <td>18</td>\n",
       "      <td>REGULAR</td>\n",
       "      <td>192</td>\n",
       "      <td>55</td>\n",
       "      <td>30.13</td>\n",
       "      <td>70</td>\n",
       "      <td>...</td>\n",
       "      <td>68</td>\n",
       "      <td>30.08</td>\n",
       "      <td>0</td>\n",
       "      <td>1</td>\n",
       "      <td>5</td>\n",
       "      <td>70</td>\n",
       "      <td>78</td>\n",
       "      <td>86</td>\n",
       "      <td>0.29</td>\n",
       "      <td>0</td>\n",
       "    </tr>\n",
       "    <tr>\n",
       "      <th>131923</th>\n",
       "      <td>131923</td>\n",
       "      <td>R552</td>\n",
       "      <td>2011-05-30</td>\n",
       "      <td>18:15:11</td>\n",
       "      <td>18</td>\n",
       "      <td>REGULAR</td>\n",
       "      <td>350</td>\n",
       "      <td>90</td>\n",
       "      <td>30.13</td>\n",
       "      <td>70</td>\n",
       "      <td>...</td>\n",
       "      <td>68</td>\n",
       "      <td>30.08</td>\n",
       "      <td>0</td>\n",
       "      <td>1</td>\n",
       "      <td>5</td>\n",
       "      <td>70</td>\n",
       "      <td>78</td>\n",
       "      <td>86</td>\n",
       "      <td>0.29</td>\n",
       "      <td>0</td>\n",
       "    </tr>\n",
       "    <tr>\n",
       "      <th>131924</th>\n",
       "      <td>131924</td>\n",
       "      <td>R552</td>\n",
       "      <td>2011-05-30</td>\n",
       "      <td>18:27:32</td>\n",
       "      <td>18</td>\n",
       "      <td>REGULAR</td>\n",
       "      <td>25</td>\n",
       "      <td>3</td>\n",
       "      <td>30.13</td>\n",
       "      <td>70</td>\n",
       "      <td>...</td>\n",
       "      <td>68</td>\n",
       "      <td>30.08</td>\n",
       "      <td>0</td>\n",
       "      <td>1</td>\n",
       "      <td>5</td>\n",
       "      <td>70</td>\n",
       "      <td>78</td>\n",
       "      <td>86</td>\n",
       "      <td>0.29</td>\n",
       "      <td>0</td>\n",
       "    </tr>\n",
       "    <tr>\n",
       "      <th>131925</th>\n",
       "      <td>131925</td>\n",
       "      <td>R552</td>\n",
       "      <td>2011-05-30</td>\n",
       "      <td>18:46:54</td>\n",
       "      <td>18</td>\n",
       "      <td>REGULAR</td>\n",
       "      <td>0</td>\n",
       "      <td>0</td>\n",
       "      <td>30.13</td>\n",
       "      <td>70</td>\n",
       "      <td>...</td>\n",
       "      <td>68</td>\n",
       "      <td>30.08</td>\n",
       "      <td>0</td>\n",
       "      <td>1</td>\n",
       "      <td>5</td>\n",
       "      <td>70</td>\n",
       "      <td>78</td>\n",
       "      <td>86</td>\n",
       "      <td>0.29</td>\n",
       "      <td>0</td>\n",
       "    </tr>\n",
       "    <tr>\n",
       "      <th>131926</th>\n",
       "      <td>131926</td>\n",
       "      <td>R552</td>\n",
       "      <td>2011-05-30</td>\n",
       "      <td>19:09:29</td>\n",
       "      <td>19</td>\n",
       "      <td>REGULAR</td>\n",
       "      <td>30</td>\n",
       "      <td>2</td>\n",
       "      <td>30.13</td>\n",
       "      <td>70</td>\n",
       "      <td>...</td>\n",
       "      <td>68</td>\n",
       "      <td>30.08</td>\n",
       "      <td>0</td>\n",
       "      <td>1</td>\n",
       "      <td>5</td>\n",
       "      <td>70</td>\n",
       "      <td>78</td>\n",
       "      <td>86</td>\n",
       "      <td>0.29</td>\n",
       "      <td>0</td>\n",
       "    </tr>\n",
       "    <tr>\n",
       "      <th>131927</th>\n",
       "      <td>131927</td>\n",
       "      <td>R552</td>\n",
       "      <td>2011-05-30</td>\n",
       "      <td>19:11:30</td>\n",
       "      <td>19</td>\n",
       "      <td>REGULAR</td>\n",
       "      <td>208</td>\n",
       "      <td>998</td>\n",
       "      <td>30.13</td>\n",
       "      <td>70</td>\n",
       "      <td>...</td>\n",
       "      <td>68</td>\n",
       "      <td>30.08</td>\n",
       "      <td>0</td>\n",
       "      <td>1</td>\n",
       "      <td>5</td>\n",
       "      <td>70</td>\n",
       "      <td>78</td>\n",
       "      <td>86</td>\n",
       "      <td>0.29</td>\n",
       "      <td>0</td>\n",
       "    </tr>\n",
       "    <tr>\n",
       "      <th>131928</th>\n",
       "      <td>131928</td>\n",
       "      <td>R552</td>\n",
       "      <td>2011-05-30</td>\n",
       "      <td>19:16:44</td>\n",
       "      <td>19</td>\n",
       "      <td>REGULAR</td>\n",
       "      <td>107</td>\n",
       "      <td>199</td>\n",
       "      <td>30.13</td>\n",
       "      <td>70</td>\n",
       "      <td>...</td>\n",
       "      <td>68</td>\n",
       "      <td>30.08</td>\n",
       "      <td>0</td>\n",
       "      <td>1</td>\n",
       "      <td>5</td>\n",
       "      <td>70</td>\n",
       "      <td>78</td>\n",
       "      <td>86</td>\n",
       "      <td>0.29</td>\n",
       "      <td>0</td>\n",
       "    </tr>\n",
       "    <tr>\n",
       "      <th>131929</th>\n",
       "      <td>131929</td>\n",
       "      <td>R552</td>\n",
       "      <td>2011-05-30</td>\n",
       "      <td>19:23:45</td>\n",
       "      <td>19</td>\n",
       "      <td>REGULAR</td>\n",
       "      <td>139</td>\n",
       "      <td>38</td>\n",
       "      <td>30.13</td>\n",
       "      <td>70</td>\n",
       "      <td>...</td>\n",
       "      <td>68</td>\n",
       "      <td>30.08</td>\n",
       "      <td>0</td>\n",
       "      <td>1</td>\n",
       "      <td>5</td>\n",
       "      <td>70</td>\n",
       "      <td>78</td>\n",
       "      <td>86</td>\n",
       "      <td>0.29</td>\n",
       "      <td>0</td>\n",
       "    </tr>\n",
       "    <tr>\n",
       "      <th>131930</th>\n",
       "      <td>131930</td>\n",
       "      <td>R552</td>\n",
       "      <td>2011-05-30</td>\n",
       "      <td>19:36:27</td>\n",
       "      <td>19</td>\n",
       "      <td>REGULAR</td>\n",
       "      <td>331</td>\n",
       "      <td>399</td>\n",
       "      <td>30.13</td>\n",
       "      <td>70</td>\n",
       "      <td>...</td>\n",
       "      <td>68</td>\n",
       "      <td>30.08</td>\n",
       "      <td>0</td>\n",
       "      <td>1</td>\n",
       "      <td>5</td>\n",
       "      <td>70</td>\n",
       "      <td>78</td>\n",
       "      <td>86</td>\n",
       "      <td>0.29</td>\n",
       "      <td>0</td>\n",
       "    </tr>\n",
       "    <tr>\n",
       "      <th>131931</th>\n",
       "      <td>131931</td>\n",
       "      <td>R552</td>\n",
       "      <td>2011-05-30</td>\n",
       "      <td>19:38:47</td>\n",
       "      <td>19</td>\n",
       "      <td>REGULAR</td>\n",
       "      <td>275</td>\n",
       "      <td>71</td>\n",
       "      <td>30.13</td>\n",
       "      <td>70</td>\n",
       "      <td>...</td>\n",
       "      <td>68</td>\n",
       "      <td>30.08</td>\n",
       "      <td>0</td>\n",
       "      <td>1</td>\n",
       "      <td>5</td>\n",
       "      <td>70</td>\n",
       "      <td>78</td>\n",
       "      <td>86</td>\n",
       "      <td>0.29</td>\n",
       "      <td>0</td>\n",
       "    </tr>\n",
       "    <tr>\n",
       "      <th>131932</th>\n",
       "      <td>131932</td>\n",
       "      <td>R552</td>\n",
       "      <td>2011-05-30</td>\n",
       "      <td>19:52:07</td>\n",
       "      <td>19</td>\n",
       "      <td>REGULAR</td>\n",
       "      <td>133</td>\n",
       "      <td>39</td>\n",
       "      <td>30.13</td>\n",
       "      <td>70</td>\n",
       "      <td>...</td>\n",
       "      <td>68</td>\n",
       "      <td>30.08</td>\n",
       "      <td>0</td>\n",
       "      <td>1</td>\n",
       "      <td>5</td>\n",
       "      <td>70</td>\n",
       "      <td>78</td>\n",
       "      <td>86</td>\n",
       "      <td>0.29</td>\n",
       "      <td>0</td>\n",
       "    </tr>\n",
       "    <tr>\n",
       "      <th>131933</th>\n",
       "      <td>131933</td>\n",
       "      <td>R552</td>\n",
       "      <td>2011-05-30</td>\n",
       "      <td>20:10:01</td>\n",
       "      <td>20</td>\n",
       "      <td>REGULAR</td>\n",
       "      <td>7</td>\n",
       "      <td>332</td>\n",
       "      <td>30.13</td>\n",
       "      <td>70</td>\n",
       "      <td>...</td>\n",
       "      <td>68</td>\n",
       "      <td>30.08</td>\n",
       "      <td>0</td>\n",
       "      <td>1</td>\n",
       "      <td>5</td>\n",
       "      <td>70</td>\n",
       "      <td>78</td>\n",
       "      <td>86</td>\n",
       "      <td>0.29</td>\n",
       "      <td>0</td>\n",
       "    </tr>\n",
       "    <tr>\n",
       "      <th>131934</th>\n",
       "      <td>131934</td>\n",
       "      <td>R552</td>\n",
       "      <td>2011-05-30</td>\n",
       "      <td>20:17:36</td>\n",
       "      <td>20</td>\n",
       "      <td>REGULAR</td>\n",
       "      <td>128</td>\n",
       "      <td>447</td>\n",
       "      <td>30.13</td>\n",
       "      <td>70</td>\n",
       "      <td>...</td>\n",
       "      <td>68</td>\n",
       "      <td>30.08</td>\n",
       "      <td>0</td>\n",
       "      <td>1</td>\n",
       "      <td>5</td>\n",
       "      <td>70</td>\n",
       "      <td>78</td>\n",
       "      <td>86</td>\n",
       "      <td>0.29</td>\n",
       "      <td>0</td>\n",
       "    </tr>\n",
       "    <tr>\n",
       "      <th>131935</th>\n",
       "      <td>131935</td>\n",
       "      <td>R552</td>\n",
       "      <td>2011-05-30</td>\n",
       "      <td>20:23:06</td>\n",
       "      <td>20</td>\n",
       "      <td>REGULAR</td>\n",
       "      <td>142</td>\n",
       "      <td>677</td>\n",
       "      <td>30.13</td>\n",
       "      <td>70</td>\n",
       "      <td>...</td>\n",
       "      <td>68</td>\n",
       "      <td>30.08</td>\n",
       "      <td>0</td>\n",
       "      <td>1</td>\n",
       "      <td>5</td>\n",
       "      <td>70</td>\n",
       "      <td>78</td>\n",
       "      <td>86</td>\n",
       "      <td>0.29</td>\n",
       "      <td>0</td>\n",
       "    </tr>\n",
       "    <tr>\n",
       "      <th>131936</th>\n",
       "      <td>131936</td>\n",
       "      <td>R552</td>\n",
       "      <td>2011-05-30</td>\n",
       "      <td>20:51:44</td>\n",
       "      <td>20</td>\n",
       "      <td>REGULAR</td>\n",
       "      <td>0</td>\n",
       "      <td>0</td>\n",
       "      <td>30.13</td>\n",
       "      <td>70</td>\n",
       "      <td>...</td>\n",
       "      <td>68</td>\n",
       "      <td>30.08</td>\n",
       "      <td>0</td>\n",
       "      <td>1</td>\n",
       "      <td>5</td>\n",
       "      <td>70</td>\n",
       "      <td>78</td>\n",
       "      <td>86</td>\n",
       "      <td>0.29</td>\n",
       "      <td>0</td>\n",
       "    </tr>\n",
       "    <tr>\n",
       "      <th>131937</th>\n",
       "      <td>131937</td>\n",
       "      <td>R552</td>\n",
       "      <td>2011-05-30</td>\n",
       "      <td>20:58:04</td>\n",
       "      <td>20</td>\n",
       "      <td>REGULAR</td>\n",
       "      <td>248</td>\n",
       "      <td>257</td>\n",
       "      <td>30.13</td>\n",
       "      <td>70</td>\n",
       "      <td>...</td>\n",
       "      <td>68</td>\n",
       "      <td>30.08</td>\n",
       "      <td>0</td>\n",
       "      <td>1</td>\n",
       "      <td>5</td>\n",
       "      <td>70</td>\n",
       "      <td>78</td>\n",
       "      <td>86</td>\n",
       "      <td>0.29</td>\n",
       "      <td>0</td>\n",
       "    </tr>\n",
       "    <tr>\n",
       "      <th>131938</th>\n",
       "      <td>131938</td>\n",
       "      <td>R552</td>\n",
       "      <td>2011-05-30</td>\n",
       "      <td>20:58:21</td>\n",
       "      <td>20</td>\n",
       "      <td>REGULAR</td>\n",
       "      <td>62</td>\n",
       "      <td>32</td>\n",
       "      <td>30.13</td>\n",
       "      <td>70</td>\n",
       "      <td>...</td>\n",
       "      <td>68</td>\n",
       "      <td>30.08</td>\n",
       "      <td>0</td>\n",
       "      <td>1</td>\n",
       "      <td>5</td>\n",
       "      <td>70</td>\n",
       "      <td>78</td>\n",
       "      <td>86</td>\n",
       "      <td>0.29</td>\n",
       "      <td>0</td>\n",
       "    </tr>\n",
       "    <tr>\n",
       "      <th>131939</th>\n",
       "      <td>131939</td>\n",
       "      <td>R552</td>\n",
       "      <td>2011-05-30</td>\n",
       "      <td>21:14:49</td>\n",
       "      <td>21</td>\n",
       "      <td>REGULAR</td>\n",
       "      <td>116</td>\n",
       "      <td>726</td>\n",
       "      <td>30.13</td>\n",
       "      <td>70</td>\n",
       "      <td>...</td>\n",
       "      <td>68</td>\n",
       "      <td>30.08</td>\n",
       "      <td>0</td>\n",
       "      <td>1</td>\n",
       "      <td>5</td>\n",
       "      <td>70</td>\n",
       "      <td>78</td>\n",
       "      <td>86</td>\n",
       "      <td>0.29</td>\n",
       "      <td>0</td>\n",
       "    </tr>\n",
       "    <tr>\n",
       "      <th>131940</th>\n",
       "      <td>131940</td>\n",
       "      <td>R552</td>\n",
       "      <td>2011-05-30</td>\n",
       "      <td>21:21:28</td>\n",
       "      <td>21</td>\n",
       "      <td>REGULAR</td>\n",
       "      <td>68</td>\n",
       "      <td>115</td>\n",
       "      <td>30.13</td>\n",
       "      <td>70</td>\n",
       "      <td>...</td>\n",
       "      <td>68</td>\n",
       "      <td>30.08</td>\n",
       "      <td>0</td>\n",
       "      <td>1</td>\n",
       "      <td>5</td>\n",
       "      <td>70</td>\n",
       "      <td>78</td>\n",
       "      <td>86</td>\n",
       "      <td>0.29</td>\n",
       "      <td>0</td>\n",
       "    </tr>\n",
       "    <tr>\n",
       "      <th>131941</th>\n",
       "      <td>131941</td>\n",
       "      <td>R552</td>\n",
       "      <td>2011-05-30</td>\n",
       "      <td>22:07:25</td>\n",
       "      <td>22</td>\n",
       "      <td>REGULAR</td>\n",
       "      <td>7</td>\n",
       "      <td>4</td>\n",
       "      <td>30.13</td>\n",
       "      <td>70</td>\n",
       "      <td>...</td>\n",
       "      <td>68</td>\n",
       "      <td>30.08</td>\n",
       "      <td>0</td>\n",
       "      <td>1</td>\n",
       "      <td>5</td>\n",
       "      <td>70</td>\n",
       "      <td>78</td>\n",
       "      <td>86</td>\n",
       "      <td>0.29</td>\n",
       "      <td>0</td>\n",
       "    </tr>\n",
       "    <tr>\n",
       "      <th>131942</th>\n",
       "      <td>131942</td>\n",
       "      <td>R552</td>\n",
       "      <td>2011-05-30</td>\n",
       "      <td>22:21:09</td>\n",
       "      <td>22</td>\n",
       "      <td>REGULAR</td>\n",
       "      <td>80</td>\n",
       "      <td>63</td>\n",
       "      <td>30.13</td>\n",
       "      <td>70</td>\n",
       "      <td>...</td>\n",
       "      <td>68</td>\n",
       "      <td>30.08</td>\n",
       "      <td>0</td>\n",
       "      <td>1</td>\n",
       "      <td>5</td>\n",
       "      <td>70</td>\n",
       "      <td>78</td>\n",
       "      <td>86</td>\n",
       "      <td>0.29</td>\n",
       "      <td>0</td>\n",
       "    </tr>\n",
       "    <tr>\n",
       "      <th>131943</th>\n",
       "      <td>131943</td>\n",
       "      <td>R552</td>\n",
       "      <td>2011-05-30</td>\n",
       "      <td>22:27:11</td>\n",
       "      <td>22</td>\n",
       "      <td>REGULAR</td>\n",
       "      <td>195</td>\n",
       "      <td>207</td>\n",
       "      <td>30.13</td>\n",
       "      <td>70</td>\n",
       "      <td>...</td>\n",
       "      <td>68</td>\n",
       "      <td>30.08</td>\n",
       "      <td>0</td>\n",
       "      <td>1</td>\n",
       "      <td>5</td>\n",
       "      <td>70</td>\n",
       "      <td>78</td>\n",
       "      <td>86</td>\n",
       "      <td>0.29</td>\n",
       "      <td>0</td>\n",
       "    </tr>\n",
       "    <tr>\n",
       "      <th>131944</th>\n",
       "      <td>131944</td>\n",
       "      <td>R552</td>\n",
       "      <td>2011-05-30</td>\n",
       "      <td>22:39:32</td>\n",
       "      <td>22</td>\n",
       "      <td>REGULAR</td>\n",
       "      <td>18</td>\n",
       "      <td>4</td>\n",
       "      <td>30.13</td>\n",
       "      <td>70</td>\n",
       "      <td>...</td>\n",
       "      <td>68</td>\n",
       "      <td>30.08</td>\n",
       "      <td>0</td>\n",
       "      <td>1</td>\n",
       "      <td>5</td>\n",
       "      <td>70</td>\n",
       "      <td>78</td>\n",
       "      <td>86</td>\n",
       "      <td>0.29</td>\n",
       "      <td>0</td>\n",
       "    </tr>\n",
       "    <tr>\n",
       "      <th>131945</th>\n",
       "      <td>131945</td>\n",
       "      <td>R552</td>\n",
       "      <td>2011-05-30</td>\n",
       "      <td>22:58:54</td>\n",
       "      <td>22</td>\n",
       "      <td>REGULAR</td>\n",
       "      <td>0</td>\n",
       "      <td>0</td>\n",
       "      <td>30.13</td>\n",
       "      <td>70</td>\n",
       "      <td>...</td>\n",
       "      <td>68</td>\n",
       "      <td>30.08</td>\n",
       "      <td>0</td>\n",
       "      <td>1</td>\n",
       "      <td>5</td>\n",
       "      <td>70</td>\n",
       "      <td>78</td>\n",
       "      <td>86</td>\n",
       "      <td>0.29</td>\n",
       "      <td>0</td>\n",
       "    </tr>\n",
       "    <tr>\n",
       "      <th>131946</th>\n",
       "      <td>131946</td>\n",
       "      <td>R552</td>\n",
       "      <td>2011-05-30</td>\n",
       "      <td>23:21:29</td>\n",
       "      <td>23</td>\n",
       "      <td>REGULAR</td>\n",
       "      <td>19</td>\n",
       "      <td>14</td>\n",
       "      <td>30.13</td>\n",
       "      <td>70</td>\n",
       "      <td>...</td>\n",
       "      <td>68</td>\n",
       "      <td>30.08</td>\n",
       "      <td>0</td>\n",
       "      <td>1</td>\n",
       "      <td>5</td>\n",
       "      <td>70</td>\n",
       "      <td>78</td>\n",
       "      <td>86</td>\n",
       "      <td>0.29</td>\n",
       "      <td>0</td>\n",
       "    </tr>\n",
       "    <tr>\n",
       "      <th>131947</th>\n",
       "      <td>131947</td>\n",
       "      <td>R552</td>\n",
       "      <td>2011-05-30</td>\n",
       "      <td>23:23:30</td>\n",
       "      <td>23</td>\n",
       "      <td>REGULAR</td>\n",
       "      <td>158</td>\n",
       "      <td>1022</td>\n",
       "      <td>30.13</td>\n",
       "      <td>70</td>\n",
       "      <td>...</td>\n",
       "      <td>68</td>\n",
       "      <td>30.08</td>\n",
       "      <td>0</td>\n",
       "      <td>1</td>\n",
       "      <td>5</td>\n",
       "      <td>70</td>\n",
       "      <td>78</td>\n",
       "      <td>86</td>\n",
       "      <td>0.29</td>\n",
       "      <td>0</td>\n",
       "    </tr>\n",
       "    <tr>\n",
       "      <th>131948</th>\n",
       "      <td>131948</td>\n",
       "      <td>R552</td>\n",
       "      <td>2011-05-30</td>\n",
       "      <td>23:28:44</td>\n",
       "      <td>23</td>\n",
       "      <td>REGULAR</td>\n",
       "      <td>54</td>\n",
       "      <td>275</td>\n",
       "      <td>30.13</td>\n",
       "      <td>70</td>\n",
       "      <td>...</td>\n",
       "      <td>68</td>\n",
       "      <td>30.08</td>\n",
       "      <td>0</td>\n",
       "      <td>1</td>\n",
       "      <td>5</td>\n",
       "      <td>70</td>\n",
       "      <td>78</td>\n",
       "      <td>86</td>\n",
       "      <td>0.29</td>\n",
       "      <td>0</td>\n",
       "    </tr>\n",
       "    <tr>\n",
       "      <th>131949</th>\n",
       "      <td>131949</td>\n",
       "      <td>R552</td>\n",
       "      <td>2011-05-30</td>\n",
       "      <td>23:35:45</td>\n",
       "      <td>23</td>\n",
       "      <td>REGULAR</td>\n",
       "      <td>59</td>\n",
       "      <td>46</td>\n",
       "      <td>30.13</td>\n",
       "      <td>70</td>\n",
       "      <td>...</td>\n",
       "      <td>68</td>\n",
       "      <td>30.08</td>\n",
       "      <td>0</td>\n",
       "      <td>1</td>\n",
       "      <td>5</td>\n",
       "      <td>70</td>\n",
       "      <td>78</td>\n",
       "      <td>86</td>\n",
       "      <td>0.29</td>\n",
       "      <td>0</td>\n",
       "    </tr>\n",
       "    <tr>\n",
       "      <th>131950</th>\n",
       "      <td>131950</td>\n",
       "      <td>R552</td>\n",
       "      <td>2011-05-30</td>\n",
       "      <td>23:50:47</td>\n",
       "      <td>23</td>\n",
       "      <td>REGULAR</td>\n",
       "      <td>123</td>\n",
       "      <td>108</td>\n",
       "      <td>30.13</td>\n",
       "      <td>70</td>\n",
       "      <td>...</td>\n",
       "      <td>68</td>\n",
       "      <td>30.08</td>\n",
       "      <td>0</td>\n",
       "      <td>1</td>\n",
       "      <td>5</td>\n",
       "      <td>70</td>\n",
       "      <td>78</td>\n",
       "      <td>86</td>\n",
       "      <td>0.29</td>\n",
       "      <td>0</td>\n",
       "    </tr>\n",
       "  </tbody>\n",
       "</table>\n",
       "<p>131951 rows × 22 columns</p>\n",
       "</div>"
      ],
      "text/plain": [
       "        Unnamed: 0  UNIT       DATEn     TIMEn  Hour    DESCn  \\\n",
       "0                0  R001  2011-05-01  01:00:00     1  REGULAR   \n",
       "1                1  R001  2011-05-01  05:00:00     5  REGULAR   \n",
       "2                2  R001  2011-05-01  09:00:00     9  REGULAR   \n",
       "3                3  R001  2011-05-01  13:00:00    13  REGULAR   \n",
       "4                4  R001  2011-05-01  17:00:00    17  REGULAR   \n",
       "5                5  R001  2011-05-01  21:00:00    21  REGULAR   \n",
       "6                6  R002  2011-05-01  01:00:00     1  REGULAR   \n",
       "7                7  R002  2011-05-01  05:00:00     5  REGULAR   \n",
       "8                8  R002  2011-05-01  09:00:00     9  REGULAR   \n",
       "9                9  R002  2011-05-01  13:00:00    13  REGULAR   \n",
       "10              10  R002  2011-05-01  17:00:00    17  REGULAR   \n",
       "11              11  R002  2011-05-01  21:00:00    21  REGULAR   \n",
       "12              12  R003  2011-05-01  00:00:00     0  REGULAR   \n",
       "13              13  R003  2011-05-01  04:00:00     4  REGULAR   \n",
       "14              14  R003  2011-05-01  12:00:00    12  REGULAR   \n",
       "15              15  R003  2011-05-01  16:00:00    16  REGULAR   \n",
       "16              16  R003  2011-05-01  20:00:00    20  REGULAR   \n",
       "17              17  R004  2011-05-01  00:00:00     0  REGULAR   \n",
       "18              18  R004  2011-05-01  04:00:00     4  REGULAR   \n",
       "19              19  R004  2011-05-01  08:00:00     8  REGULAR   \n",
       "20              20  R004  2011-05-01  12:00:00    12  REGULAR   \n",
       "21              21  R004  2011-05-01  16:00:00    16  REGULAR   \n",
       "22              22  R004  2011-05-01  20:00:00    20  REGULAR   \n",
       "23              23  R005  2011-05-01  00:00:00     0  REGULAR   \n",
       "24              24  R005  2011-05-01  04:00:00     4  REGULAR   \n",
       "25              25  R005  2011-05-01  12:00:00    12  REGULAR   \n",
       "26              26  R005  2011-05-01  16:00:00    16  REGULAR   \n",
       "27              27  R005  2011-05-01  20:00:00    20  REGULAR   \n",
       "28              28  R006  2011-05-01  00:00:00     0  REGULAR   \n",
       "29              29  R006  2011-05-01  04:00:00     4  REGULAR   \n",
       "...            ...   ...         ...       ...   ...      ...   \n",
       "131921      131921  R552  2011-05-30  17:55:25    17  REGULAR   \n",
       "131922      131922  R552  2011-05-30  18:09:09    18  REGULAR   \n",
       "131923      131923  R552  2011-05-30  18:15:11    18  REGULAR   \n",
       "131924      131924  R552  2011-05-30  18:27:32    18  REGULAR   \n",
       "131925      131925  R552  2011-05-30  18:46:54    18  REGULAR   \n",
       "131926      131926  R552  2011-05-30  19:09:29    19  REGULAR   \n",
       "131927      131927  R552  2011-05-30  19:11:30    19  REGULAR   \n",
       "131928      131928  R552  2011-05-30  19:16:44    19  REGULAR   \n",
       "131929      131929  R552  2011-05-30  19:23:45    19  REGULAR   \n",
       "131930      131930  R552  2011-05-30  19:36:27    19  REGULAR   \n",
       "131931      131931  R552  2011-05-30  19:38:47    19  REGULAR   \n",
       "131932      131932  R552  2011-05-30  19:52:07    19  REGULAR   \n",
       "131933      131933  R552  2011-05-30  20:10:01    20  REGULAR   \n",
       "131934      131934  R552  2011-05-30  20:17:36    20  REGULAR   \n",
       "131935      131935  R552  2011-05-30  20:23:06    20  REGULAR   \n",
       "131936      131936  R552  2011-05-30  20:51:44    20  REGULAR   \n",
       "131937      131937  R552  2011-05-30  20:58:04    20  REGULAR   \n",
       "131938      131938  R552  2011-05-30  20:58:21    20  REGULAR   \n",
       "131939      131939  R552  2011-05-30  21:14:49    21  REGULAR   \n",
       "131940      131940  R552  2011-05-30  21:21:28    21  REGULAR   \n",
       "131941      131941  R552  2011-05-30  22:07:25    22  REGULAR   \n",
       "131942      131942  R552  2011-05-30  22:21:09    22  REGULAR   \n",
       "131943      131943  R552  2011-05-30  22:27:11    22  REGULAR   \n",
       "131944      131944  R552  2011-05-30  22:39:32    22  REGULAR   \n",
       "131945      131945  R552  2011-05-30  22:58:54    22  REGULAR   \n",
       "131946      131946  R552  2011-05-30  23:21:29    23  REGULAR   \n",
       "131947      131947  R552  2011-05-30  23:23:30    23  REGULAR   \n",
       "131948      131948  R552  2011-05-30  23:28:44    23  REGULAR   \n",
       "131949      131949  R552  2011-05-30  23:35:45    23  REGULAR   \n",
       "131950      131950  R552  2011-05-30  23:50:47    23  REGULAR   \n",
       "\n",
       "        ENTRIESn_hourly  EXITSn_hourly  maxpressurei  maxdewpti   ...     \\\n",
       "0                     0              0         30.31         42   ...      \n",
       "1                   217            553         30.31         42   ...      \n",
       "2                   890           1262         30.31         42   ...      \n",
       "3                  2451           3708         30.31         42   ...      \n",
       "4                  4400           2501         30.31         42   ...      \n",
       "5                  3372           2122         30.31         42   ...      \n",
       "6                     0              0         30.31         42   ...      \n",
       "7                    42             66         30.31         42   ...      \n",
       "8                    50            125         30.31         42   ...      \n",
       "9                   316            716         30.31         42   ...      \n",
       "10                  633            968         30.31         42   ...      \n",
       "11                  639            566         30.31         42   ...      \n",
       "12                    0              0         30.31         42   ...      \n",
       "13                    0              0         30.31         42   ...      \n",
       "14                    0              0         30.31         42   ...      \n",
       "15                    0              0         30.31         42   ...      \n",
       "16                    0              0         30.31         42   ...      \n",
       "17                    0              0         30.31         42   ...      \n",
       "18                    0              0         30.31         42   ...      \n",
       "19                    0              0         30.31         42   ...      \n",
       "20                    0              0         30.31         42   ...      \n",
       "21                    0              0         30.31         42   ...      \n",
       "22                    0              0         30.31         42   ...      \n",
       "23                    0              0         30.31         42   ...      \n",
       "24                    0              2         30.31         42   ...      \n",
       "25                    0              2         30.31         42   ...      \n",
       "26                    1              7         30.31         42   ...      \n",
       "27                    0              0         30.31         42   ...      \n",
       "28                    0              0         30.31         42   ...      \n",
       "29                    0              1         30.31         42   ...      \n",
       "...                 ...            ...           ...        ...   ...      \n",
       "131921                6              2         30.13         70   ...      \n",
       "131922              192             55         30.13         70   ...      \n",
       "131923              350             90         30.13         70   ...      \n",
       "131924               25              3         30.13         70   ...      \n",
       "131925                0              0         30.13         70   ...      \n",
       "131926               30              2         30.13         70   ...      \n",
       "131927              208            998         30.13         70   ...      \n",
       "131928              107            199         30.13         70   ...      \n",
       "131929              139             38         30.13         70   ...      \n",
       "131930              331            399         30.13         70   ...      \n",
       "131931              275             71         30.13         70   ...      \n",
       "131932              133             39         30.13         70   ...      \n",
       "131933                7            332         30.13         70   ...      \n",
       "131934              128            447         30.13         70   ...      \n",
       "131935              142            677         30.13         70   ...      \n",
       "131936                0              0         30.13         70   ...      \n",
       "131937              248            257         30.13         70   ...      \n",
       "131938               62             32         30.13         70   ...      \n",
       "131939              116            726         30.13         70   ...      \n",
       "131940               68            115         30.13         70   ...      \n",
       "131941                7              4         30.13         70   ...      \n",
       "131942               80             63         30.13         70   ...      \n",
       "131943              195            207         30.13         70   ...      \n",
       "131944               18              4         30.13         70   ...      \n",
       "131945                0              0         30.13         70   ...      \n",
       "131946               19             14         30.13         70   ...      \n",
       "131947              158           1022         30.13         70   ...      \n",
       "131948               54            275         30.13         70   ...      \n",
       "131949               59             46         30.13         70   ...      \n",
       "131950              123            108         30.13         70   ...      \n",
       "\n",
       "        meandewpti  meanpressurei  fog  rain  meanwindspdi  mintempi  \\\n",
       "0               39          30.27    0     0             5        50   \n",
       "1               39          30.27    0     0             5        50   \n",
       "2               39          30.27    0     0             5        50   \n",
       "3               39          30.27    0     0             5        50   \n",
       "4               39          30.27    0     0             5        50   \n",
       "5               39          30.27    0     0             5        50   \n",
       "6               39          30.27    0     0             5        50   \n",
       "7               39          30.27    0     0             5        50   \n",
       "8               39          30.27    0     0             5        50   \n",
       "9               39          30.27    0     0             5        50   \n",
       "10              39          30.27    0     0             5        50   \n",
       "11              39          30.27    0     0             5        50   \n",
       "12              39          30.27    0     0             5        50   \n",
       "13              39          30.27    0     0             5        50   \n",
       "14              39          30.27    0     0             5        50   \n",
       "15              39          30.27    0     0             5        50   \n",
       "16              39          30.27    0     0             5        50   \n",
       "17              39          30.27    0     0             5        50   \n",
       "18              39          30.27    0     0             5        50   \n",
       "19              39          30.27    0     0             5        50   \n",
       "20              39          30.27    0     0             5        50   \n",
       "21              39          30.27    0     0             5        50   \n",
       "22              39          30.27    0     0             5        50   \n",
       "23              39          30.27    0     0             5        50   \n",
       "24              39          30.27    0     0             5        50   \n",
       "25              39          30.27    0     0             5        50   \n",
       "26              39          30.27    0     0             5        50   \n",
       "27              39          30.27    0     0             5        50   \n",
       "28              39          30.27    0     0             5        50   \n",
       "29              39          30.27    0     0             5        50   \n",
       "...            ...            ...  ...   ...           ...       ...   \n",
       "131921          68          30.08    0     1             5        70   \n",
       "131922          68          30.08    0     1             5        70   \n",
       "131923          68          30.08    0     1             5        70   \n",
       "131924          68          30.08    0     1             5        70   \n",
       "131925          68          30.08    0     1             5        70   \n",
       "131926          68          30.08    0     1             5        70   \n",
       "131927          68          30.08    0     1             5        70   \n",
       "131928          68          30.08    0     1             5        70   \n",
       "131929          68          30.08    0     1             5        70   \n",
       "131930          68          30.08    0     1             5        70   \n",
       "131931          68          30.08    0     1             5        70   \n",
       "131932          68          30.08    0     1             5        70   \n",
       "131933          68          30.08    0     1             5        70   \n",
       "131934          68          30.08    0     1             5        70   \n",
       "131935          68          30.08    0     1             5        70   \n",
       "131936          68          30.08    0     1             5        70   \n",
       "131937          68          30.08    0     1             5        70   \n",
       "131938          68          30.08    0     1             5        70   \n",
       "131939          68          30.08    0     1             5        70   \n",
       "131940          68          30.08    0     1             5        70   \n",
       "131941          68          30.08    0     1             5        70   \n",
       "131942          68          30.08    0     1             5        70   \n",
       "131943          68          30.08    0     1             5        70   \n",
       "131944          68          30.08    0     1             5        70   \n",
       "131945          68          30.08    0     1             5        70   \n",
       "131946          68          30.08    0     1             5        70   \n",
       "131947          68          30.08    0     1             5        70   \n",
       "131948          68          30.08    0     1             5        70   \n",
       "131949          68          30.08    0     1             5        70   \n",
       "131950          68          30.08    0     1             5        70   \n",
       "\n",
       "        meantempi  maxtempi  precipi  thunder  \n",
       "0              60        69     0.00        0  \n",
       "1              60        69     0.00        0  \n",
       "2              60        69     0.00        0  \n",
       "3              60        69     0.00        0  \n",
       "4              60        69     0.00        0  \n",
       "5              60        69     0.00        0  \n",
       "6              60        69     0.00        0  \n",
       "7              60        69     0.00        0  \n",
       "8              60        69     0.00        0  \n",
       "9              60        69     0.00        0  \n",
       "10             60        69     0.00        0  \n",
       "11             60        69     0.00        0  \n",
       "12             60        69     0.00        0  \n",
       "13             60        69     0.00        0  \n",
       "14             60        69     0.00        0  \n",
       "15             60        69     0.00        0  \n",
       "16             60        69     0.00        0  \n",
       "17             60        69     0.00        0  \n",
       "18             60        69     0.00        0  \n",
       "19             60        69     0.00        0  \n",
       "20             60        69     0.00        0  \n",
       "21             60        69     0.00        0  \n",
       "22             60        69     0.00        0  \n",
       "23             60        69     0.00        0  \n",
       "24             60        69     0.00        0  \n",
       "25             60        69     0.00        0  \n",
       "26             60        69     0.00        0  \n",
       "27             60        69     0.00        0  \n",
       "28             60        69     0.00        0  \n",
       "29             60        69     0.00        0  \n",
       "...           ...       ...      ...      ...  \n",
       "131921         78        86     0.29        0  \n",
       "131922         78        86     0.29        0  \n",
       "131923         78        86     0.29        0  \n",
       "131924         78        86     0.29        0  \n",
       "131925         78        86     0.29        0  \n",
       "131926         78        86     0.29        0  \n",
       "131927         78        86     0.29        0  \n",
       "131928         78        86     0.29        0  \n",
       "131929         78        86     0.29        0  \n",
       "131930         78        86     0.29        0  \n",
       "131931         78        86     0.29        0  \n",
       "131932         78        86     0.29        0  \n",
       "131933         78        86     0.29        0  \n",
       "131934         78        86     0.29        0  \n",
       "131935         78        86     0.29        0  \n",
       "131936         78        86     0.29        0  \n",
       "131937         78        86     0.29        0  \n",
       "131938         78        86     0.29        0  \n",
       "131939         78        86     0.29        0  \n",
       "131940         78        86     0.29        0  \n",
       "131941         78        86     0.29        0  \n",
       "131942         78        86     0.29        0  \n",
       "131943         78        86     0.29        0  \n",
       "131944         78        86     0.29        0  \n",
       "131945         78        86     0.29        0  \n",
       "131946         78        86     0.29        0  \n",
       "131947         78        86     0.29        0  \n",
       "131948         78        86     0.29        0  \n",
       "131949         78        86     0.29        0  \n",
       "131950         78        86     0.29        0  \n",
       "\n",
       "[131951 rows x 22 columns]"
      ]
     },
     "execution_count": 23,
     "metadata": {},
     "output_type": "execute_result"
    }
   ],
   "source": [
    "import pandas as pd\n",
    "records = pd.read_csv('turnstile_data_master_with_weather.csv')\n",
    "frame = pd.DataFrame(records)\n",
    "frame"
   ]
  },
  {
   "cell_type": "code",
   "execution_count": 39,
   "metadata": {
    "collapsed": false
   },
   "outputs": [
    {
     "name": "stdout",
     "output_type": "stream",
     "text": [
      "('maximum per hour =', 51839.0)\n",
      "('minimum per hour =', 0.0)\n",
      "('average per hour =', 1095.3484778440481)\n",
      "('median per hour =', 279.0)\n"
     ]
    }
   ],
   "source": [
    "print('maximum per hour =', frame['ENTRIESn_hourly'].max())\n",
    "print('minimum per hour =', frame['ENTRIESn_hourly'].min())\n",
    "print('average per hour =', frame['ENTRIESn_hourly'].mean())\n",
    "print('median per hour =', frame['ENTRIESn_hourly'].median())"
   ]
  },
  {
   "cell_type": "markdown",
   "metadata": {},
   "source": [
    "Below I will try to subset a pandas dataframe in many ways."
   ]
  },
  {
   "cell_type": "code",
   "execution_count": 44,
   "metadata": {
    "collapsed": false
   },
   "outputs": [
    {
     "data": {
      "text/plain": [
       "5     3372\n",
       "6        0\n",
       "7       42\n",
       "8       50\n",
       "9      316\n",
       "10     633\n",
       "11     639\n",
       "12       0\n",
       "13       0\n",
       "14       0\n",
       "15       0\n",
       "16       0\n",
       "17       0\n",
       "18       0\n",
       "19       0\n",
       "Name: ENTRIESn_hourly, dtype: float64"
      ]
     },
     "execution_count": 44,
     "metadata": {},
     "output_type": "execute_result"
    }
   ],
   "source": [
    "frame['ENTRIESn_hourly'][5:20] # To select one column in a dataframe with the range of index numbers."
   ]
  },
  {
   "cell_type": "code",
   "execution_count": 51,
   "metadata": {
    "collapsed": false
   },
   "outputs": [
    {
     "name": "stdout",
     "output_type": "stream",
     "text": [
      "R549    12198\n",
      "R550     6881\n",
      "R541     5922\n",
      "R540     4420\n",
      "R543     4146\n",
      "dtype: int64\n"
     ]
    },
    {
     "data": {
      "text/plain": [
       "4579.4"
      ]
     },
     "execution_count": 51,
     "metadata": {},
     "output_type": "execute_result"
    }
   ],
   "source": [
    "UNIT_counts = frame['UNIT'].value_counts()\n",
    "print(UNIT_counts[0:5])  # Note that they are listed in a descending order of count by default. \n",
    "                         # But the output is not a data frame itself.\n",
    "UNIT_counts[0:10].mean()\n"
   ]
  },
  {
   "cell_type": "code",
   "execution_count": 53,
   "metadata": {
    "collapsed": true
   },
   "outputs": [],
   "source": [
    "clean_frame = frame['UNIT'].fillna('Missing') ## This is to assign a value to those cells in \"unit\" column that are missing.\n",
    "clean_frame[clean_frame == ''] = 'Unknown'  ## To assign a value to those cells that have a value ''."
   ]
  },
  {
   "cell_type": "markdown",
   "metadata": {},
   "source": [
    "Now we are going to plot a graph."
   ]
  },
  {
   "cell_type": "code",
   "execution_count": 62,
   "metadata": {
    "collapsed": false
   },
   "outputs": [
    {
     "data": {
      "text/plain": [
       "<matplotlib.axes._subplots.AxesSubplot at 0x7f3ba49b0e10>"
      ]
     },
     "execution_count": 62,
     "metadata": {},
     "output_type": "execute_result"
    },
    {
     "data": {
      "image/png": "[encoded data removed]",
      "text/plain": [
       "<matplotlib.figure.Figure at 0x7f3ba4d82a50>"
      ]
     },
     "metadata": {},
     "output_type": "display_data"
    }
   ],
   "source": [
    "%matplotlib inline  ## Without this line of code, the plot will not show up.\n",
    "import matplotlib.pyplot as plt\n",
    "UNIT_counts[:20].plot(kind='barh', rot=0)"
   ]
  },
  {
   "cell_type": "code",
   "execution_count": 77,
   "metadata": {
    "collapsed": false
   },
   "outputs": [
    {
     "data": {
      "text/plain": [
       "0    01\n",
       "1    01\n",
       "2    01\n",
       "3    01\n",
       "4    01\n",
       "5    01\n",
       "dtype: object"
      ]
     },
     "execution_count": 77,
     "metadata": {},
     "output_type": "execute_result"
    }
   ],
   "source": [
    "results = pd.Series([x.split('-')[2] for x in frame.DATEn.dropna()])\n",
    "results[:6]"
   ]
  },
  {
   "cell_type": "code",
   "execution_count": null,
   "metadata": {
    "collapsed": false
   },
   "outputs": [],
   "source": []
  },
  {
   "cell_type": "markdown",
   "metadata": {},
   "source": [
    "## CSV Reader/Writer Tutorial"
   ]
  },
  {
   "cell_type": "code",
   "execution_count": 83,
   "metadata": {
    "collapsed": false
   },
   "outputs": [
    {
     "ename": "IOError",
     "evalue": "[Errno 2] No such file or directory: 'in_data.csv'",
     "output_type": "error",
     "traceback": [
      "\u001b[1;31m---------------------------------------------------------------------------\u001b[0m",
      "\u001b[1;31mIOError\u001b[0m                                   Traceback (most recent call last)",
      "\u001b[1;32m<ipython-input-83-1ab8083b00a2>\u001b[0m in \u001b[0;36m<module>\u001b[1;34m()\u001b[0m\n\u001b[0;32m      1\u001b[0m \u001b[1;32mimport\u001b[0m \u001b[0mcsv\u001b[0m\u001b[1;33m\u001b[0m\u001b[0m\n\u001b[0;32m      2\u001b[0m \u001b[1;31m# Create file input object f_in to work with in_data.csv file.\u001b[0m\u001b[1;33m\u001b[0m\u001b[1;33m\u001b[0m\u001b[0m\n\u001b[1;32m----> 3\u001b[1;33m \u001b[0mf_in\u001b[0m \u001b[1;33m=\u001b[0m \u001b[0mopen\u001b[0m\u001b[1;33m(\u001b[0m\u001b[1;34m'in_data.csv'\u001b[0m\u001b[1;33m,\u001b[0m \u001b[1;34m'r'\u001b[0m\u001b[1;33m)\u001b[0m\u001b[1;33m\u001b[0m\u001b[0m\n\u001b[0m\u001b[0;32m      4\u001b[0m \u001b[1;31m# Create file output object f_out to write to the new 'out_data.csv'\u001b[0m\u001b[1;33m\u001b[0m\u001b[1;33m\u001b[0m\u001b[0m\n\u001b[0;32m      5\u001b[0m \u001b[0mf_out\u001b[0m \u001b[1;33m=\u001b[0m \u001b[0mopen\u001b[0m\u001b[1;33m(\u001b[0m\u001b[1;34m'out_data.csv'\u001b[0m\u001b[1;33m,\u001b[0m \u001b[1;34m'w'\u001b[0m\u001b[1;33m)\u001b[0m\u001b[1;33m\u001b[0m\u001b[0m\n",
      "\u001b[1;31mIOError\u001b[0m: [Errno 2] No such file or directory: 'in_data.csv'"
     ]
    }
   ],
   "source": [
    "import csv\n",
    "# Create file input object f_in to work with in_data.csv file.\n",
    "f_in = open('in_data.csv', 'r')\n",
    "# Create file output object f_out to write to the new 'out_data.csv'\n",
    "f_out = open('out_data.csv', 'w')\n",
    "\n",
    "#Create csv readers and writers based on our file objects\n",
    "reader_in = csv.reader(f_in, delimiter=',')\n",
    "writer_out = csv.writer(f_out, delimiter=',')\n",
    "\n",
    "# Skip the first line because it contains headers\n",
    "reader_in.next()\n",
    "\n",
    "for line in reader_in:\n",
    "    type_chocolate = line[0]\n",
    "    # For each line, the format will be:\n",
    "    # type_choco, batch_id, cocoa, milk, sugar\n",
    "    line_1=[type_chocolate, line[1], line[2], line[3], line[4]]\n",
    "    line_2=[type_chocolate, line[5], line[6], line[7], line[8]]\n",
    "    writer_out.writerow(line_1)\n",
    "    writer_out.writerow(line_2)\n",
    "    \n",
    "f_in.close()\n",
    "f_out.close()"
   ]
  },
  {
   "cell_type": "markdown",
   "metadata": {},
   "source": [
    "## Reading data"
   ]
  },
  {
   "cell_type": "markdown",
   "metadata": {},
   "source": [
    "Lets try to do some analysis. I want to load some csv file and do analysis. The file is located at '/media/anirban/Ubuntu/Downloads/turnstile_data_master_with_weather.csv' ."
   ]
  },
  {
   "cell_type": "code",
   "execution_count": 6,
   "metadata": {
    "collapsed": false
   },
   "outputs": [],
   "source": [
    "df = pd.read_csv('turnstile_data_master_with_weather.csv')\n"
   ]
  },
  {
   "cell_type": "markdown",
   "metadata": {},
   "source": [
    "The code below does not work. Need to figure out how to generate a plot."
   ]
  },
  {
   "cell_type": "code",
   "execution_count": 7,
   "metadata": {
    "collapsed": false
   },
   "outputs": [
    {
     "name": "stdout",
     "output_type": "stream",
     "text": [
      "<module 'matplotlib.pyplot' from '/home/anirban/anaconda/lib/python2.7/site-packages/matplotlib/pyplot.pyc'>\n"
     ]
    }
   ],
   "source": [
    "def entries_histogram(turnstile_weather):\n",
    "    '''\n",
    "    Before we perform any analysis, it might be useful to take a\n",
    "    look at the data we're hoping to analyze. More specifically, let's \n",
    "    examine the hourly entries in our NYC subway data and determine what\n",
    "    distribution the data follows. This data is stored in a dataframe\n",
    "    called turnstile_weather under the ['ENTRIESn_hourly'] column.\n",
    "    \n",
    "    Let's plot two histograms on the same axes to show hourly\n",
    "    entries when raining vs. when not raining. Here's an example on how\n",
    "    to plot histograms with pandas and matplotlib:\n",
    "    turnstile_weather['column_to_graph'].hist()\n",
    "    \n",
    "    Your histogram may look similar to bar graph in the instructor notes below.\n",
    "    \n",
    "    You can read a bit about using matplotlib and pandas to plot histograms here:\n",
    "    http://pandas.pydata.org/pandas-docs/stable/visualization.html#histograms\n",
    "    \n",
    "    You can see the information contained within the turnstile weather data here:\n",
    "    https://www.dropbox.com/s/meyki2wl9xfa7yk/turnstile_data_master_with_weather.csv\n",
    "    '''\n",
    "    \n",
    "    plt.figure()\n",
    "    pd.DataFrame.hist(turnstile_weather, column='ENTRIESn_hourly', by='rain', bins=100) # your code here to plot a historgram for hourly entries when it is raining\n",
    "    #turnstile_weather['ENTRIESn_hourly'].hist() # your code here to plot a historgram for hourly entries when it is not raining\n",
    "    return plt\n",
    "\n",
    "print(entries_histogram(df))"
   ]
  },
  {
   "cell_type": "code",
   "execution_count": 8,
   "metadata": {
    "collapsed": false
   },
   "outputs": [
    {
     "data": {
      "text/plain": [
       "(1105.4463767458733, 1090.278780151855, 1924409167.0, 0.024999912793489721)"
      ]
     },
     "execution_count": 8,
     "metadata": {},
     "output_type": "execute_result"
    }
   ],
   "source": [
    "def mann_whitney_plus_means(turnstile_weather):\n",
    "    '''\n",
    "    This function will consume the turnstile_weather dataframe containing\n",
    "    our final turnstile weather data. \n",
    "    \n",
    "    You will want to take the means and run the Mann Whitney U-test on the \n",
    "    ENTRIESn_hourly column in the turnstile_weather dataframe.\n",
    "    \n",
    "    This function should return:\n",
    "        1) the mean of entries with rain\n",
    "        2) the mean of entries without rain\n",
    "        3) the Mann-Whitney U-statistic and p-value comparing the number of entries\n",
    "           with rain and the number of entries without rain\n",
    "    \n",
    "    You should feel free to use scipy's Mann-Whitney implementation, and you \n",
    "    might also find it useful to use numpy's mean function.\n",
    "    \n",
    "    Here are the functions' documentation:\n",
    "    http://docs.scipy.org/doc/scipy/reference/generated/scipy.stats.mannwhitneyu.html\n",
    "    http://docs.scipy.org/doc/numpy/reference/generated/numpy.mean.html\n",
    "    \n",
    "    You can look at the final turnstile weather data at the link below:\n",
    "    https://www.dropbox.com/s/meyki2wl9xfa7yk/turnstile_data_master_with_weather.csv\n",
    "    '''\n",
    "    \n",
    "    ### YOUR CODE HERE ###\n",
    "    turnstile_weather1 = turnstile_weather.loc[turnstile_weather['rain']==0]    \n",
    "    turnstile_weather2 = turnstile_weather.loc[turnstile_weather['rain']==1]  \n",
    "    with_rain_mean = turnstile_weather2['ENTRIESn_hourly'].mean()\n",
    "    without_rain_mean = turnstile_weather1['ENTRIESn_hourly'].mean()\n",
    "    U, p = scipy.stats.mannwhitneyu(turnstile_weather1['ENTRIESn_hourly'], turnstile_weather2['ENTRIESn_hourly'])\n",
    "    return with_rain_mean, without_rain_mean, U, p\n",
    "\n",
    "mann_whitney_plus_means(df)"
   ]
  },
  {
   "cell_type": "code",
   "execution_count": null,
   "metadata": {
    "collapsed": true
   },
   "outputs": [],
   "source": [
    "import numpy as np\n",
    "import pandas\n",
    "from ggplot import *\n",
    "\n",
    "\"\"\"\n",
    "In this question, you need to:\n",
    "1) implement the compute_cost() and gradient_descent() procedures\n",
    "2) Select features (in the predictions procedure) and make predictions.\n",
    "\n",
    "\"\"\"\n",
    "\n",
    "def normalize_features(df):\n",
    "    \"\"\"\n",
    "    Normalize the features in the data set.\n",
    "    \"\"\"\n",
    "    mu = df.mean()\n",
    "    sigma = df.std()\n",
    "    \n",
    "    if (sigma == 0).any():\n",
    "        raise Exception(\"One or more features had the same value for all samples, and thus could \" + \\\n",
    "                         \"not be normalized. Please do not include features with only a single value \" + \\\n",
    "                         \"in your model.\")\n",
    "    df_normalized = (df - df.mean()) / df.std()\n",
    "\n",
    "    return df_normalized, mu, sigma\n",
    "\n",
    "def compute_cost(features, values, theta):\n",
    "    \"\"\"\n",
    "    Compute the cost function given a set of features / values, \n",
    "    and the values for our thetas.\n",
    "    \n",
    "    This can be the same code as the compute_cost function in the lesson #3 exercises,\n",
    "    but feel free to implement your own.\n",
    "    \"\"\"\n",
    "    \n",
    "    # your code here\n",
    "\n",
    "    return cost\n",
    "\n",
    "def gradient_descent(features, values, theta, alpha, num_iterations):\n",
    "    \"\"\"\n",
    "    Perform gradient descent given a data set with an arbitrary number of features.\n",
    "    \n",
    "    This can be the same gradient descent code as in the lesson #3 exercises,\n",
    "    but feel free to implement your own.\n",
    "    \"\"\"\n",
    "    \n",
    "    m = len(values)\n",
    "    cost_history = []\n",
    "\n",
    "    for i in range(num_iterations):\n",
    "        # your code here\n",
    "    return theta, pandas.Series(cost_history)\n",
    "\n",
    "def predictions(dataframe):\n",
    "    '''\n",
    "    The NYC turnstile data is stored in a pandas dataframe called weather_turnstile.\n",
    "    Using the information stored in the dataframe, let's predict the ridership of\n",
    "    the NYC subway using linear regression with gradient descent.\n",
    "    \n",
    "    You can download the complete turnstile weather dataframe here:\n",
    "    https://www.dropbox.com/s/meyki2wl9xfa7yk/turnstile_data_master_with_weather.csv    \n",
    "    \n",
    "    Your prediction should have a R^2 value of 0.40 or better.\n",
    "    You need to experiment using various input features contained in the dataframe. \n",
    "    We recommend that you don't use the EXITSn_hourly feature as an input to the \n",
    "    linear model because we cannot use it as a predictor: we cannot use exits \n",
    "    counts as a way to predict entry counts. \n",
    "    \n",
    "    Note: Due to the memory and CPU limitation of our Amazon EC2 instance, we will\n",
    "    give you a random subet (~15%) of the data contained in \n",
    "    turnstile_data_master_with_weather.csv. You are encouraged to experiment with \n",
    "    this computer on your own computer, locally. \n",
    "    \n",
    "    \n",
    "    If you'd like to view a plot of your cost history, uncomment the call to \n",
    "    plot_cost_history below. The slowdown from plotting is significant, so if you \n",
    "    are timing out, the first thing to do is to comment out the plot command again.\n",
    "    \n",
    "    If you receive a \"server has encountered an error\" message, that means you are \n",
    "    hitting the 30-second limit that's placed on running your program. Try using a \n",
    "    smaller number for num_iterations if that's the case.\n",
    "    \n",
    "    If you are using your own algorithm/models, see if you can optimize your code so \n",
    "    that it runs faster.\n",
    "    '''\n",
    "    # Select Features (try different features!)\n",
    "    features = dataframe[['rain', 'precipi', 'Hour', 'meantempi']]\n",
    "    \n",
    "    # Add UNIT to features using dummy variables\n",
    "    dummy_units = pandas.get_dummies(dataframe['UNIT'], prefix='unit')\n",
    "    features = features.join(dummy_units)\n",
    "    \n",
    "    # Values\n",
    "    values = dataframe['ENTRIESn_hourly']\n",
    "    m = len(values)\n",
    "\n",
    "    features, mu, sigma = normalize_features(features)\n",
    "    features['ones'] = np.ones(m) # Add a column of 1s (y intercept)\n",
    "    \n",
    "    # Convert features and values to numpy arrays\n",
    "    features_array = np.array(features)\n",
    "    values_array = np.array(values)\n",
    "\n",
    "    # Set values for alpha, number of iterations.\n",
    "    alpha = 0.1 # please feel free to change this value\n",
    "    num_iterations = 75 # please feel free to change this value\n",
    "\n",
    "    # Initialize theta, perform gradient descent\n",
    "    theta_gradient_descent = np.zeros(len(features.columns))\n",
    "    theta_gradient_descent, cost_history = gradient_descent(features_array, \n",
    "                                                            values_array, \n",
    "                                                            theta_gradient_descent, \n",
    "                                                            alpha, \n",
    "                                                            num_iterations)\n",
    "    \n",
    "    plot = None\n",
    "    # -------------------------------------------------\n",
    "    # Uncomment the next line to see your cost history\n",
    "    # -------------------------------------------------\n",
    "    # plot = plot_cost_history(alpha, cost_history)\n",
    "    # \n",
    "    # Please note, there is a possibility that plotting\n",
    "    # this in addition to your calculation will exceed \n",
    "    # the 30 second limit on the compute servers.\n",
    "    \n",
    "    predictions = np.dot(features_array, theta_gradient_descent)\n",
    "    return predictions, plot\n",
    "\n",
    "\n",
    "def plot_cost_history(alpha, cost_history):\n",
    "   \"\"\"This function is for viewing the plot of your cost history.\n",
    "   You can run it by uncommenting this\n",
    "\n",
    "       plot_cost_history(alpha, cost_history) \n",
    "\n",
    "   call in predictions.\n",
    "   \n",
    "   If you want to run this locally, you should print the return value\n",
    "   from this function.\n",
    "   \"\"\"\n",
    "   cost_df = pandas.DataFrame({\n",
    "      'Cost_History': cost_history,\n",
    "      'Iteration': range(len(cost_history))\n",
    "   })\n",
    "   return ggplot(cost_df, aes('Iteration', 'Cost_History')) + \\\n",
    "      geom_point() + ggtitle('Cost History for alpha = %.3f' % alpha )\n",
    "\n",
    "\n"
   ]
  }
 ],
 "metadata": {
  "kernelspec": {
   "display_name": "Python 2",
   "language": "python",
   "name": "python2"
  },
  "language_info": {
   "codemirror_mode": {
    "name": "ipython",
    "version": 2
   },
   "file_extension": ".py",
   "mimetype": "text/x-python",
   "name": "python",
   "nbconvert_exporter": "python",
   "pygments_lexer": "ipython2",
   "version": "2.7.10"
  }
 },
 "nbformat": 4,
 "nbformat_minor": 0
}
